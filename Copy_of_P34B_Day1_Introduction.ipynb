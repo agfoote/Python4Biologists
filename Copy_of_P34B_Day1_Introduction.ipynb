{
  "cells": [
    {
      "cell_type": "markdown",
      "metadata": {
        "id": "view-in-github",
        "colab_type": "text"
      },
      "source": [
        "<a href=\"https://colab.research.google.com/github/agfoote/Python4Biologists/blob/main/Copy_of_P34B_Day1_Introduction.ipynb\" target=\"_parent\"><img src=\"https://colab.research.google.com/assets/colab-badge.svg\" alt=\"Open In Colab\"/></a>"
      ]
    },
    {
      "cell_type": "markdown",
      "metadata": {
        "id": "ViADsc_4G3n5"
      },
      "source": [
        "# Practical Python Programming for Biologists\n",
        "Author: Dr. Daniel Pass | www.CompassBioinformatics.com\n",
        "\n",
        "---\n",
        "First thing we'll do in this introduction page is get comfortable with how to use Jupyter/ipynb notebooks and running your own code"
      ]
    },
    {
      "cell_type": "markdown",
      "metadata": {
        "id": "5j4T7sV-KSh1"
      },
      "source": [
        "# Notebooks\n",
        "One way that you likely have seen python coding before is as a text file with all the code in, which you can run without seeing the actual code. We are going to work up to that, but first we're going to start with an interactive notebook for a few reasons.\n",
        "\n",
        "> Python coding notebooks are interactive documents that allow for the creation and sharing of code, text, and visualizations. **You're in one right now!** The ```.ipynb``` format was created by the Jupyter project and is widely used to create notebooks that can be shared, edited, and executed by others, without requiring the installation of any software on your computer.\n",
        "\n",
        "> ```.ipynb``` notebooks consist of a series of cells, each of which can contain either code, text, or graphics. Code cells contain Python code that can be executed directly within the notebook. Text cells can contain formatted text, images, and links, and graphics cells display visualizations such as plots, charts, and maps.\n"
      ]
    },
    {
      "cell_type": "markdown",
      "metadata": {
        "id": "UGfh1okZMWjg"
      },
      "source": [
        "### Example code block\n",
        "You can run these code blocks by clicking the triangular button on the left side. You can also edit them yourself however you want."
      ]
    },
    {
      "cell_type": "code",
      "execution_count": null,
      "metadata": {
        "colab": {
          "base_uri": "https://localhost:8080/"
        },
        "id": "gF1_WgrVLOLv",
        "outputId": "5ce2c6a7-73fc-4ec3-b375-2269caeb8129"
      },
      "outputs": [
        {
          "output_type": "stream",
          "name": "stdout",
          "text": [
            "Hello all, welcome to the course! Dan here, writing to you from the past 👻\n",
            "Wow, I'm really surprised the ghost emoji works in this code environment!\n"
          ]
        }
      ],
      "source": [
        "print(\"Hello all, welcome to the course! Dan here, writing to you from the past 👻\")\n",
        "print(\"Wow, I'm really surprised the ghost emoji works in this code environment!\")"
      ]
    },
    {
      "cell_type": "markdown",
      "metadata": {
        "id": "6MNhoEzX4LMP"
      },
      "source": [
        "You'll also see that we're using a module for working with dates, and a function to print what the date is today. More on that later!\n",
        "\n",
        "**Exercise:** Add a new ```print()``` line in this block including your name and run the code. (It'll get more advanced than this, I promise!)"
      ]
    },
    {
      "cell_type": "code",
      "execution_count": null,
      "metadata": {
        "colab": {
          "base_uri": "https://localhost:8080/"
        },
        "id": "baGCgKxs2nrf",
        "outputId": "f054f065-fcbc-408c-bd0b-7a9b670f50b7"
      },
      "outputs": [
        {
          "output_type": "stream",
          "name": "stdout",
          "text": [
            "My name is ......\n",
            "Alexander Foote\n",
            "and I'm super excited to write some python today!\n",
            "By today I mean: Monday (24 February 2025)!\n"
          ]
        }
      ],
      "source": [
        "from datetime import date\n",
        "\n",
        "print(\"My name is ......\")\n",
        "# Put your own print() here:\n",
        "print(\"Alexander Foote\")\n",
        "\n",
        "print(\"and I'm super excited to write some python today!\")\n",
        "print(\"By today I mean:\", date.today().strftime(\"%A (%d %B %Y)!\"))"
      ]
    },
    {
      "cell_type": "code",
      "source": [],
      "metadata": {
        "id": "fy8irNO3Ri75"
      },
      "execution_count": null,
      "outputs": []
    },
    {
      "cell_type": "markdown",
      "metadata": {
        "id": "Zqvym4IPMak-"
      },
      "source": [
        "### Example graphical output\n",
        "We will also be generating lots of visual outputs. Plots will show up underneath your code after it runs. Here is a simple x vs y plot but again, we will look at how it works later.\n"
      ]
    },
    {
      "cell_type": "code",
      "execution_count": null,
      "metadata": {
        "colab": {
          "base_uri": "https://localhost:8080/",
          "height": 472
        },
        "id": "7C2HMGTEZ7w4",
        "outputId": "537b30a2-2ea8-43b0-fb09-9f16bed2cbb1"
      },
      "outputs": [
        {
          "output_type": "display_data",
          "data": {
            "text/plain": [
              "<Figure size 640x480 with 1 Axes>"
            ],
            "image/png": "[encoded data removed]"
          },
          "metadata": {}
        }
      ],
      "source": [
        "import matplotlib.pyplot as plt\n",
        "\n",
        "x = [\"Monday\", \"Tuesday\", \"Wednesday\", \"Thursday\"]\n",
        "y = [\"a bit\", \"some\", \"loads\", \"I'm a genius\"]\n",
        "\n",
        "plt.bar(x, y)\n",
        "plt.xlabel('Day of the course')\n",
        "plt.ylabel('How much python you know')\n",
        "plt.title('My Custom Plot')\n",
        "plt.show()"
      ]
    },
    {
      "cell_type": "markdown",
      "metadata": {
        "id": "qRK3SvtOUDz9"
      },
      "source": [
        "**Exercise:**\n",
        "The easiest way to start writing code is to improve and edit something that already exists.\n",
        "\n",
        "Edit the code above so that:\n",
        "\n",
        "- This plot doesn't have a title! Give it a title adding ```plt.title('Plot title')``` into the code. It can go on the line after ```plt.ylabel``` using the same format\n",
        "- Is a line plot the best display? Change ```plt.plot``` into ```plt.bar``` and run the code block again."
      ]
    },
    {
      "cell_type": "markdown",
      "metadata": {
        "id": "CJkX59F8MOq6"
      },
      "source": [
        "### Notebooks vs stand-alone code\n",
        "**When should we run in a notebook?**\n",
        "\n",
        "One of the main benefits of using .ipynb notebooks is the ability to develop and test code as you go. The notebook format allows for the execution of code cells in any order, making it easy to debug code and modify existing code to try out new ideas. Additionally, the ability to mix text and code in a single document provides an easy way to document and explain the code, making it easier for others to understand and use.\n",
        "\n",
        ".ipynb notebooks can be created using a variety of tools including Jupyter Notebook, JupyterLab, Google Colab, vscode, and others. They provide a user-friendly interface for creating, editing, and executing .ipynb notebooks. Once created, .ipynb notebooks can be shared with others like a standard file sent via email, or version control systems like Git.\n",
        "\n",
        "---\n",
        "---\n",
        "**When should we run as an enclosed program?**\n",
        "\n",
        "Running your own code locally or on a server is essential when working with large files, complex and long code with lots of functions, and allows you to fit your code into larger pipelines. It also allows for a more traditional style of running your code like published software, including having command line parameters. Also, in a notebook like this we are restricted on processing power, run-time, and storage.\n",
        "\n",
        "Python comes pre-installed on Mac and Linux opperating systems, and can be easily installed on Windows through WSL - the Windows Subsystem for Linux - which ***may*** be easier to do than installing Python in Windows.\n",
        "\n",
        "In these cases you would save your script as a file such as ```DNA2Prot.py```, and run it on the command line as below. You can also give it parameters to define your inputs and outputs."
      ]
    },
    {
      "cell_type": "code",
      "execution_count": null,
      "metadata": {
        "id": "vwS7tkruQ4de",
        "colab": {
          "base_uri": "https://localhost:8080/",
          "height": 108
        },
        "outputId": "8df9014b-8d44-4204-ddbd-65ce1adfc9d5"
      },
      "outputs": [
        {
          "output_type": "error",
          "ename": "SyntaxError",
          "evalue": "invalid syntax (<ipython-input-13-a050a313152b>, line 2)",
          "traceback": [
            "\u001b[0;36m  File \u001b[0;32m\"<ipython-input-13-a050a313152b>\"\u001b[0;36m, line \u001b[0;32m2\u001b[0m\n\u001b[0;31m    DNA2Prot.py -i myDNA.fasta -o myProt.fna\u001b[0m\n\u001b[0m                   ^\u001b[0m\n\u001b[0;31mSyntaxError\u001b[0m\u001b[0;31m:\u001b[0m invalid syntax\n"
          ]
        }
      ],
      "source": [
        "#Example command line program (not available in notebook)\n",
        "DNA2Prot.py -i myDNA.fasta -o myProt.fna"
      ]
    },
    {
      "cell_type": "markdown",
      "metadata": {
        "id": "eTgkbH_CRknf"
      },
      "source": [
        "We'll come back to running whole programs later. First lets learn some core python concepts!"
      ]
    }
  ],
  "metadata": {
    "colab": {
      "provenance": [],
      "toc_visible": true,
      "include_colab_link": true
    },
    "kernelspec": {
      "display_name": "Python 3",
      "name": "python3"
    },
    "language_info": {
      "codemirror_mode": {
        "name": "ipython",
        "version": 3
      },
      "file_extension": ".py",
      "mimetype": "text/x-python",
      "name": "python",
      "nbconvert_exporter": "python",
      "pygments_lexer": "ipython3",
      "version": "3.11.5"
    }
  },
  "nbformat": 4,
  "nbformat_minor": 0
}