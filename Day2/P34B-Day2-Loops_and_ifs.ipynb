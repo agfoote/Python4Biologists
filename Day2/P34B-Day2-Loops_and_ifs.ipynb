{
  "cells": [
    {
      "cell_type": "markdown",
      "metadata": {
        "id": "6bLlQkRwJcqY"
      },
      "source": [
        "# Practical Python Programming for Biologists\n",
        "Author: Dr. Daniel Pass | www.CompassBioinformatics.com\n",
        "\n",
        "---"
      ]
    },
    {
      "cell_type": "markdown",
      "metadata": {
        "id": "15PxGLLfOoz_"
      },
      "source": [
        "# A quick bit of maths\n",
        "\n",
        "We will always end up doing some calculations in our coding. The classic opperators apply and work as you would expect (```  +  -  /  *  ```), but to note some more specific cases:\n",
        "- ```**``` - Exponent (To the power of).\n",
        "\n",
        " e.g. ```7 ** 2 = 49```\n",
        "- ```%``` - Modulo. Return just the remainder of a division.\n",
        "\n",
        " e.g. ```17 % 5 = 2```\n",
        "\n",
        "Lets see whether our gene has a perfect amino acid translation. 3 bases per codon so our modulo would return zero if perfect:"
      ]
    },
    {
      "cell_type": "code",
      "execution_count": 1,
      "metadata": {
        "colab": {
          "base_uri": "https://localhost:8080/"
        },
        "id": "QCyJJdcFQa0S",
        "outputId": "1da88c9a-2116-4970-e70a-fcdd068e96fa"
      },
      "outputs": [
        {
          "output_type": "stream",
          "name": "stdout",
          "text": [
            "There are 2 bases not in a codon\n"
          ]
        }
      ],
      "source": [
        "my_ORF = \"ATGGTACGACTCACATCACATGCATCGTCAACTTC\"\n",
        "\n",
        "print(\"There are\", len(my_ORF) % 3, \"bases not in a codon\")\n"
      ]
    },
    {
      "cell_type": "markdown",
      "metadata": {
        "id": "VKlCCllhRWL3"
      },
      "source": [
        "We can also use the opperators (```+ - * /```) together with assigning a variable (```=```) as a shortcut to change it's current value. We do this by combining a maths operator with the equals:\n",
        "  ```  +=     -=     *=    /=  ```\n",
        "\n",
        "For example these perform the same function, but one is quicker and easier:"
      ]
    },
    {
      "cell_type": "code",
      "execution_count": 2,
      "metadata": {
        "colab": {
          "base_uri": "https://localhost:8080/"
        },
        "id": "Xv4uBAj-Rv8Y",
        "outputId": "27070ff0-a348-4b9c-e220-faf6eac0ed49"
      },
      "outputs": [
        {
          "output_type": "stream",
          "name": "stdout",
          "text": [
            "15.0\n",
            "15.0\n"
          ]
        }
      ],
      "source": [
        "# The slow way\n",
        "total = 27\n",
        "total_plus3 = total + 3\n",
        "total_plus_3_div_2 = total_plus3 / 2\n",
        "total = total_plus_3_div_2\n",
        "\n",
        "print(total)\n",
        "\n",
        "# The fast way!\n",
        "total = 27\n",
        "total += 3\n",
        "total /= 2       # Note how any division returns a float\n",
        "\n",
        "print(total)"
      ]
    },
    {
      "cell_type": "markdown",
      "metadata": {
        "id": "VW2SJ5nQSWcf"
      },
      "source": [
        "Acting alone they don't do too much, but in the context of loops they are super powerful!"
      ]
    },
    {
      "cell_type": "markdown",
      "metadata": {
        "id": "zxlW4-sbK0zJ"
      },
      "source": [
        "# Looping\n",
        "\n",
        "Really, we know loops are the powerhouse of programming. We have looked at lists, ranges, and dictionaries which have lots of data in them but untill we can run through the full dataset we aren't using them fully.\n",
        "\n",
        "Running through a collection (term used for any kind of itterable set of data) mostly follows a simple pattern:\n",
        "\n",
        "```\n",
        "for item in list:\n",
        "  do_something(item)\n",
        "```\n",
        "\n",
        "Some other coding languanges you may have seen will require an extra character to define your temporary variable but that's not needed in python. Nice and clean!\n",
        "\n",
        "Python also doesn't use any of those messy parentheses ```[{()}]``` or semi-colons ```;```. You just have to be sure to use tabs/spaces to indent your code blocks. If your code has mixed up indents then it will error.\n",
        "\n",
        "---"
      ]
    },
    {
      "cell_type": "markdown",
      "metadata": {
        "id": "sXwxi86qTtEP"
      },
      "source": [
        "Lets use a for loop to perform a calculation on a list of DNA strings. As you can see once you define the temporary variable after the ```for``` then it can be used as you would any variable.\n",
        "\n",
        "**Exercise**: try printing ```seq``` outside of the loop and check what you get back.\n",
        "\n"
      ]
    },
    {
      "cell_type": "code",
      "execution_count": 6,
      "metadata": {
        "colab": {
          "base_uri": "https://localhost:8080/"
        },
        "id": "5wo_F7PDwtdP",
        "outputId": "8854d859-fec1-4bf3-90dd-cd906b0833df"
      },
      "outputs": [
        {
          "output_type": "stream",
          "name": "stdout",
          "text": [
            "Sequence: ATGCTGACTATATGAATCGTTTGA is 24 bases long with GC%: 33.33\n",
            "Sequence: GCTAGCTAGCTAGCTAGCTG is 20 bases long with GC%: 55.0\n",
            "Sequence: CTGACGATCGTACGACTGATCG is 22 bases long with GC%: 54.55\n",
            "Sequence: ATCGCGCGCGCGCCCTATACG is 21 bases long with GC%: 71.43\n"
          ]
        }
      ],
      "source": [
        "# Output the length & GC% for a list of DNA sequences\n",
        "sequences = [\"ATGCTGACTATATGAATCGTTTGA\", \"GCTAGCTAGCTAGCTAGCTG\", \"CTGACGATCGTACGACTGATCG\",\"ATCGCGCGCGCGCCCTATACG\"]\n",
        "\n",
        "for seq in sequences:\n",
        "    gc_count = seq.count(\"G\") + seq.count(\"C\")\n",
        "    length = len(seq)\n",
        "    PCrounded = round(gc_count / length *100, 2)\n",
        "    print(\"Sequence:\", seq, \"is\", length, \"bases long with GC%:\", PCrounded)"
      ]
    },
    {
      "cell_type": "markdown",
      "metadata": {
        "id": "Pt_J7-01yf3-"
      },
      "source": [
        "Inside a loop, any variable name that is created is temporary. We can also add to global variables which exist outside of the temporary loop.\n",
        "\n",
        "Lets modify our code so that each time we run through the loop we will add the calculated value to the global variable. Once we've finished with the loop then we can do our calculation on the totals."
      ]
    },
    {
      "cell_type": "code",
      "execution_count": 7,
      "metadata": {
        "id": "RkF2V14msfT_",
        "outputId": "2466ed39-121e-46a0-d730-e4b5dc4c195b",
        "colab": {
          "base_uri": "https://localhost:8080/"
        }
      },
      "outputs": [
        {
          "output_type": "stream",
          "name": "stdout",
          "text": [
            "This sequence's GC%: 33.33\n",
            "Adding: 8 \t| New total GC count is: 8\n",
            "Adding: 24 \t| New total len is: 24\n",
            "\n",
            "This sequence's GC%: 55.0\n",
            "Adding: 11 \t| New total GC count is: 19\n",
            "Adding: 20 \t| New total len is: 44\n",
            "\n",
            "This sequence's GC%: 54.55\n",
            "Adding: 12 \t| New total GC count is: 31\n",
            "Adding: 22 \t| New total len is: 66\n",
            "\n",
            "This sequence's GC%: 71.43\n",
            "Adding: 15 \t| New total GC count is: 46\n",
            "Adding: 21 \t| New total len is: 87\n",
            "\n",
            "~~~~~~~~~\n",
            "Outside the loop now\n",
            "Total average GC%: 52.87\n"
          ]
        }
      ],
      "source": [
        "# Create the empty variables first (global)\n",
        "total_GC_count = 0\n",
        "total_length = 0\n",
        "\n",
        "for seq in sequences:\n",
        "    gc_count = seq.count(\"G\") + seq.count(\"C\")\n",
        "    length = len(seq)\n",
        "    PCrounded = round(gc_count / length *100, 2)\n",
        "\n",
        "    # We are adding the temporary variable to the global variable\n",
        "    total_GC_count += gc_count\n",
        "    total_length += length\n",
        "\n",
        "    print(\"This sequence's GC%:\", PCrounded)\n",
        "    print(\"Adding:\", gc_count, \"\\t| New total GC count is:\", total_GC_count)\n",
        "    print(\"Adding:\", length, \"\\t| New total len is:\", total_length)\n",
        "    print()\n",
        "\n",
        "print(\"~~~~~~~~~\\nOutside the loop now\")\n",
        "print(\"Total average GC%:\", round(total_GC_count / total_length * 100, 2))"
      ]
    },
    {
      "cell_type": "markdown",
      "metadata": {
        "id": "3EuF3KpRteXR"
      },
      "source": [
        "One notable method we can use is looping through a string. It doesn't come in very useful in normal programming, but in bioinformatics we spend a lot of time with strings and sequences!\n",
        "\n",
        "To work on each individual character in a string:"
      ]
    },
    {
      "cell_type": "code",
      "execution_count": 8,
      "metadata": {
        "colab": {
          "base_uri": "https://localhost:8080/"
        },
        "id": "ZEzvqQ70ttNY",
        "outputId": "6af4352f-ffc3-4832-b94a-52ca47ef512b"
      },
      "outputs": [
        {
          "output_type": "stream",
          "name": "stdout",
          "text": [
            "Base number 1 is a A\n",
            "Base number 2 is a C\n",
            "Base number 3 is a C\n",
            "Base number 4 is a C\n",
            "Base number 5 is a A\n",
            "Base number 6 is a C\n",
            "Base number 7 is a A\n",
            "Base number 8 is a C\n",
            "Base number 9 is a C\n",
            "Base number 10 is a G\n",
            "Base number 11 is a T\n",
            "Base number 12 is a G\n",
            "Base number 13 is a T\n",
            "Base number 14 is a G\n",
            "We had 14 bases!\n"
          ]
        }
      ],
      "source": [
        "my_gene = \"ACCCACACCGTGTG\"\n",
        "\n",
        "count = 0\n",
        "\n",
        "for base in my_gene:\n",
        "  count += 1\n",
        "  print(\"Base number\", count, \"is a\", base)\n",
        "\n",
        "print(\"We had\", count, \"bases!\")"
      ]
    },
    {
      "cell_type": "markdown",
      "metadata": {
        "id": "AEv6Uu30eTYI"
      },
      "source": [
        "## Exercises - Looping"
      ]
    },
    {
      "cell_type": "markdown",
      "metadata": {
        "id": "qd9ffNcP6JfU"
      },
      "source": [
        "We've been out butterfly hunting! For Science!\n",
        "\n",
        "1. Create a loop that outputs each value in one butterfly list (pick your favourite!) - print each value out\n",
        "2. Create a ```total_count = 0``` before the loop, and add to it inside the loop\n",
        "3. After the loop, output the sum and average of the butterfly list. Test it with different lists\n",
        "\n",
        "Doing that for each species individually would take a long time, so we can do a 2D list and make it much quicker!\n",
        "\n",
        "4. Create a loop for ```all_butterflies_list``` and put your code from the first parts inside of it, to run for all lists"
      ]
    },
    {
      "cell_type": "code",
      "execution_count": 9,
      "metadata": {
        "id": "yTB6on0BKRCP"
      },
      "outputs": [],
      "source": [
        "# Species and counts per day (Mon/Tues/Weds/Thurs/Fri)\n",
        "Monarch_count = [78, 70, 13, 17, 99]\n",
        "Swallowtail_count = [6, 16, 44, 50, 44]\n",
        "PaintedLady_count = [69, 27, 30, 74, 10]\n",
        "Admiral_count = [66, 87, 74, 49, 65]\n",
        "Peacock_count = [74, 78, 55, 70, 86]\n",
        "\n",
        "all_butterflies_list = [Monarch_count, Swallowtail_count, PaintedLady_count, Admiral_count, Peacock_count]"
      ]
    },
    {
      "cell_type": "code",
      "source": [
        "#For Monach only\n",
        "total_count = 0\n",
        "number_of_samples = 0\n",
        "\n",
        "for val in Monarch_count:\n",
        "    #print(val)\n",
        "    total_count += val\n",
        "    number_of_samples += 1\n",
        "    print(\"Total count is now\", total_count)\n",
        "\n",
        "print(\"We collected\", total_count, \"total Monarchs\")\n",
        "print(\"number of samples\", number_of_samples)\n",
        "print(\"Average is\", total_count / number_of_samples)\n"
      ],
      "metadata": {
        "id": "RjXYTzWyyWuM",
        "outputId": "530698d6-bb03-43d1-974f-b582288a5db8",
        "colab": {
          "base_uri": "https://localhost:8080/"
        }
      },
      "execution_count": 61,
      "outputs": [
        {
          "output_type": "stream",
          "name": "stdout",
          "text": [
            "Total count is now 78\n",
            "Total count is now 148\n",
            "Total count is now 161\n",
            "Total count is now 178\n",
            "Total count is now 277\n",
            "We collected 277 total Monarchs\n",
            "number of samples 5\n",
            "Average is 55.4\n"
          ]
        }
      ]
    },
    {
      "cell_type": "markdown",
      "metadata": {
        "id": "dzrlzQsh2yQ2"
      },
      "source": [
        "One obvious issue here is that we don't have the name of each list so the output is a bit confusing. This is where a dictionary would be more useful than a loop.\n",
        "\n",
        "**Extension**: Put the list data into a dictionary and create a more readable output!"
      ]
    },
    {
      "cell_type": "markdown",
      "metadata": {
        "id": "8Sx18FstsfUA"
      },
      "source": [
        "### Looping & tuples\n",
        "\n",
        "We saw the format for assigning tuple elements to variable names yesterday, but it wasn't too useful then. Lets see how much better it is in a loop\n",
        "\n",
        "Here we have a list of tuples with their ID, sequence, and abundance value, and can assign them variable names in the first line of the for loop:"
      ]
    },
    {
      "cell_type": "code",
      "execution_count": 95,
      "metadata": {
        "id": "Jg4-z7fEsfUA",
        "outputId": "d51f8ff4-d080-4ae5-d9d7-55d4de2293b2",
        "colab": {
          "base_uri": "https://localhost:8080/"
        }
      },
      "outputs": [
        {
          "output_type": "stream",
          "name": "stdout",
          "text": [
            "ID TFBS1 has abundance 80\n",
            "ID TFBS2 has abundance 120\n",
            "ID TFBS3 has abundance 90\n",
            "ID TFBS4 has abundance 40\n",
            "ID TFBS5 has abundance 110\n"
          ]
        }
      ],
      "source": [
        "binding_sites = [\n",
        "    (\"TFBS1\", \"CGTATTATCG\", 80),\n",
        "    (\"TFBS2\", \"ACGTATCGTATTA\", 120),\n",
        "    (\"TFBS3\", \"CTAGGTTA\", 90),\n",
        "    (\"TFBS4\", \"TATTACGTA\", 40),\n",
        "    (\"TFBS5\", \"ATGCTTACG\", 110)\n",
        "]\n",
        "\n",
        "for ID, seq, abun in binding_sites:\n",
        "    print(\"ID\", ID, \"has abundance\", abun)"
      ]
    },
    {
      "cell_type": "markdown",
      "metadata": {
        "id": "mnW4OfmKTq73"
      },
      "source": [
        "# While\n",
        "\n",
        "Using the ```while``` function we can create loops in a slightly different way. Basically we say \"if this is true, keep repeating\". For example:"
      ]
    },
    {
      "cell_type": "code",
      "execution_count": 96,
      "metadata": {
        "id": "Qw5BEuqQJODI",
        "outputId": "60e1efda-3483-4e4a-b219-3a877723f0f5",
        "colab": {
          "base_uri": "https://localhost:8080/"
        }
      },
      "outputs": [
        {
          "output_type": "stream",
          "name": "stdout",
          "text": [
            "0\n",
            "1\n",
            "2\n",
            "3\n",
            "4\n"
          ]
        }
      ],
      "source": [
        "count = 0\n",
        "\n",
        "while count < 5:\n",
        "  print(count)       ## Don't forget we start at zero!\n",
        "  count +=1"
      ]
    },
    {
      "cell_type": "markdown",
      "metadata": {
        "id": "kWfbgIuo03qH"
      },
      "source": [
        "An important thing to watch out for with while loops is accidentally creating infinity! Run this and see what happens. What went wrong?"
      ]
    },
    {
      "cell_type": "code",
      "execution_count": null,
      "metadata": {
        "id": "v6k-dSMB1Fw2"
      },
      "outputs": [],
      "source": [
        "count = 0\n",
        "\n",
        "while count >= 0:\n",
        "  print(count)\n",
        "  count +=1"
      ]
    },
    {
      "cell_type": "markdown",
      "metadata": {
        "id": "bkC_VRAA2e7f"
      },
      "source": [
        "We can also use ```while``` to run through lists. It gives us an advantage in running until a condition is met, or getting and modifying the index value.\n",
        "\n",
        "As we run a while loop for the length of our list, lets use it to access elements of other lists. Note: Here we are assuming our lists are in the same order and the same length! Not the best assumption to make with real data!"
      ]
    },
    {
      "cell_type": "code",
      "execution_count": 98,
      "metadata": {
        "colab": {
          "base_uri": "https://localhost:8080/"
        },
        "id": "fih9aYL83WA3",
        "outputId": "e53ef2dc-f99e-472e-dfb7-a7f6de34adab"
      },
      "outputs": [
        {
          "output_type": "stream",
          "name": "stdout",
          "text": [
            "BRCA1 2.3 Arabidopsis\n",
            "TP53 4.1 Bos taurus\n",
            "EGFR 5.7 C. elegans\n",
            "KRAS 3.9 Drosophila\n",
            "MET1 6.5 E. coli\n"
          ]
        }
      ],
      "source": [
        "expression = [2.3, 4.1, 5.7, 3.9, 6.5]\n",
        "genes = ['BRCA1', 'TP53', 'EGFR', 'KRAS', 'MET1']\n",
        "species = ['Arabidopsis', 'Bos taurus', 'C. elegans', 'Drosophila', 'E. coli']\n",
        "threshold = 5.0\n",
        "index = 0\n",
        "\n",
        "while index < len(expression):\n",
        "  print(genes[index], expression[index], species[index])\n",
        "\n",
        "  index += 1"
      ]
    },
    {
      "cell_type": "markdown",
      "metadata": {
        "id": "_by8rrdQ4yC_"
      },
      "source": [
        "# The Big If!\n",
        "\n",
        "Lets take a break from loops for a moment to talk about conditionals. These are basically \"**if** this **then** that\" statements. They are also super powerful and allow us lots of control over our data and code.\n",
        "\n",
        "When working with numerical data it follows normal mathematical symbols:\n",
        "```\n",
        "if x > y:    print(\"x is greater than y\")\n",
        "if x < y:    print(\"x is less than y\")\n",
        "if x == y:   print(\"x is equal to y\")\n",
        "if x != y:   print(\"x is NOT equal to y\")\n",
        "if x >= y:   print(\"x is greater than or equal to y\")\n",
        "if x <= y:   print(\"x is less than or equal to y\")\n",
        "```\n",
        "\n",
        "Note the ```==``` for equals. A common mistake is to use just one ```=``` character but as we know that assigns a variable value instead.\n",
        "\n",
        "**Exercise:** Test which if statements print when you change the values"
      ]
    },
    {
      "cell_type": "code",
      "execution_count": 99,
      "metadata": {
        "id": "Rraq4b3pogPW",
        "outputId": "13183fa5-15ec-4b65-b7da-9e93a77b156f",
        "colab": {
          "base_uri": "https://localhost:8080/"
        }
      },
      "outputs": [
        {
          "output_type": "stream",
          "name": "stdout",
          "text": [
            "x is less than y\n",
            "x is NOT equal to y\n",
            "x is less than or equal to y\n"
          ]
        }
      ],
      "source": [
        "x = 5\n",
        "y = 10\n",
        "\n",
        "if x > y:    print(\"x is greater than y\")\n",
        "if x < y:    print(\"x is less than y\")\n",
        "if x == y:   print(\"x is equal to y\")\n",
        "if x != y:   print(\"x is NOT equal to y\")\n",
        "if x >= y:   print(\"x is greater than or equal to y\")\n",
        "if x <= y:   print(\"x is less than or equal to y\")"
      ]
    },
    {
      "cell_type": "markdown",
      "metadata": {
        "id": "uO_lhs8msfUA"
      },
      "source": [
        "Note: What we are really saying is  ```if x > y == True``` then do something, but we don't need to write the second part"
      ]
    },
    {
      "cell_type": "markdown",
      "metadata": {
        "id": "pt_Tjor2Bxaj"
      },
      "source": [
        "## Exercise - While and If\n",
        "\n",
        "Here we have a fastq style of DNA sequence - The bases themselves, and the quality of each base.\n",
        "\n",
        "1. Create a while loop to print both the base and the quality at each position\n",
        "2. Add an if statement to print only the bases where the quality is greater than 20 (What issue would happen with real data?)\n",
        "- Extension: plot a quick graph of the quality scores!"
      ]
    },
    {
      "cell_type": "code",
      "execution_count": 139,
      "metadata": {
        "id": "zsL_9VsbB1xG",
        "outputId": "ebf6ed13-a2b8-4923-dace-e36b14388755",
        "colab": {
          "base_uri": "https://localhost:8080/",
          "height": 1000
        }
      },
      "outputs": [
        {
          "output_type": "stream",
          "name": "stdout",
          "text": [
            "~~~~~~Exercise 1~~~~~~\n",
            "i: 0 \tbase: T \tquality: 31\n",
            "T\n",
            "i: 1 \tbase: G \tquality: 29\n",
            "G\n",
            "i: 2 \tbase: C \tquality: 27\n",
            "C\n",
            "i: 3 \tbase: A \tquality: 35\n",
            "A\n",
            "i: 4 \tbase: T \tquality: 31\n",
            "T\n",
            "i: 5 \tbase: G \tquality: 29\n",
            "G\n",
            "i: 6 \tbase: A \tquality: 34\n",
            "A\n",
            "i: 7 \tbase: C \tquality: 39\n",
            "C\n",
            "i: 8 \tbase: T \tquality: 40\n",
            "T\n",
            "i: 9 \tbase: G \tquality: 30\n",
            "G\n",
            "i: 10 \tbase: C \tquality: 35\n",
            "C\n",
            "i: 11 \tbase: A \tquality: 38\n",
            "A\n",
            "i: 12 \tbase: T \tquality: 30\n",
            "T\n",
            "i: 13 \tbase: C \tquality: 28\n",
            "C\n",
            "i: 14 \tbase: G \tquality: 29\n",
            "G\n",
            "i: 15 \tbase: A \tquality: 30\n",
            "A\n",
            "i: 16 \tbase: T \tquality: 33\n",
            "T\n",
            "i: 17 \tbase: C \tquality: 26\n",
            "C\n",
            "i: 18 \tbase: G \tquality: 24\n",
            "G\n",
            "i: 19 \tbase: T \tquality: 29\n",
            "T\n",
            "i: 20 \tbase: A \tquality: 19\n",
            "i: 21 \tbase: C \tquality: 11\n",
            "i: 22 \tbase: G \tquality: 17\n",
            "i: 23 \tbase: A \tquality: 16\n",
            "i: 24 \tbase: T \tquality: 18\n",
            "i: 25 \tbase: C \tquality: 17\n",
            "i: 26 \tbase: G \tquality: 13\n",
            "i: 27 \tbase: A \tquality: 11\n",
            "i: 28 \tbase: T \tquality: 16\n",
            "i: 29 \tbase: C \tquality: 19\n",
            "i: 30 \tbase: G \tquality: 15\n",
            "i: 31 \tbase: A \tquality: 3\n",
            "i: 32 \tbase: T \tquality: 7\n",
            "i: 33 \tbase: C \tquality: 15\n",
            "i: 34 \tbase: G \tquality: 4\n",
            "i: 35 \tbase: A \tquality: 10\n",
            "i: 36 \tbase: T \tquality: 17\n"
          ]
        },
        {
          "output_type": "execute_result",
          "data": {
            "text/plain": [
              "<matplotlib.lines.Line2D at 0x7d627c628110>"
            ]
          },
          "metadata": {},
          "execution_count": 139
        },
        {
          "output_type": "display_data",
          "data": {
            "text/plain": [
              "<Figure size 640x480 with 1 Axes>"
            ],
            "image/png": "[encoded data removed]"
          },
          "metadata": {}
        }
      ],
      "source": [
        "sequence = \"TGCATGACTGCATCGATCGTACGATCGATCGATCGAT\"\n",
        "quality = [31, 29, 27, 35, 31, 29, 34, 39, 40, 30, 35, 38, 30, 28, 29, 30, 33, 26, 24, 29, 19, 11, 17, 16, 18, 17, 13, 11, 16, 19, 15, 3, 7, 15, 4, 10, 17]\n",
        "\n",
        "i = 0\n",
        "\n",
        "print(\"~~~~~~Exercise 1~~~~~~\")\n",
        "while i < len(sequence):\n",
        "    print(\"i:\", i, \"\\tbase:\", sequence[i], \"\\tquality:\", quality[i])\n",
        "\n",
        "    if quality[i] >20:\n",
        "        print(sequence[i])\n",
        "\n",
        "    i += 1\n",
        "\n",
        "import matplotlib.pyplot as plt\n",
        "x_axis = range(1,len(quality)+1)\n",
        "plt.plot(x_axis, quality)\n",
        "plt.axhline(20)\n",
        ""
      ]
    },
    {
      "cell_type": "markdown",
      "metadata": {
        "id": "z6ByRCjkoyFv"
      },
      "source": [
        "---\n",
        "A more real example. Lets check if a single value is less than the a 0.05 significance threshold. Here we have a 2D list which is more complex, but we can access the elements of each list easily with double square brackets ```[ ][ ]```"
      ]
    },
    {
      "cell_type": "code",
      "execution_count": 144,
      "metadata": {
        "colab": {
          "base_uri": "https://localhost:8080/"
        },
        "id": "AWuYCYIHfazI",
        "outputId": "d06e9719-8ef5-449e-daed-2b0bffb45804"
      },
      "outputs": [
        {
          "output_type": "stream",
          "name": "stdout",
          "text": [
            "TP53 has p<0.05\n"
          ]
        }
      ],
      "source": [
        "gene_data = [[\"TP53\", 0.0001],[\"BRCA1\", 0.002],[\"EGFR\", 0.15],[\"KRAS\", 0.00001],[\"MYC\", 0.05]]\n",
        "\n",
        "# If the value of the first list index (second element) is <0.05, then print the gene ID\n",
        "if gene_data[0][1] < 0.05:\n",
        "  print(gene_data[0][0], \"has p<0.05\")\n"
      ]
    },
    {
      "cell_type": "markdown",
      "metadata": {
        "id": "syi-ExdPgqhA"
      },
      "source": [
        "Now lets put that in a loop for all our genes\n",
        "(How could you re-write this code to use fewer lines?)"
      ]
    },
    {
      "cell_type": "code",
      "execution_count": 143,
      "metadata": {
        "colab": {
          "base_uri": "https://localhost:8080/"
        },
        "id": "cSlZKp4LgsXg",
        "outputId": "fdc82cb9-4ff0-4de7-fec4-b6a7137c2630"
      },
      "outputs": [
        {
          "output_type": "stream",
          "name": "stdout",
          "text": [
            "TP53 has p<0.05\n",
            "BRCA1 has p<0.05\n",
            "KRAS has p<0.05\n"
          ]
        }
      ],
      "source": [
        "for geneID, geneVal in gene_data:\n",
        "  if geneVal < 0.05:\n",
        "    print(geneID, \"has p<0.05\")\n"
      ]
    },
    {
      "cell_type": "markdown",
      "metadata": {
        "id": "SpBIjrrAh9ZC"
      },
      "source": [
        "We can also use an if statement to search within a string. This is a very python-style type of writing as it is very simple and clear, where other languages may require more complexity for comparisons.\n",
        "\n",
        "Note that although it works nicely, there are more efficient ways to do this with larger datasets."
      ]
    },
    {
      "cell_type": "code",
      "execution_count": 146,
      "metadata": {
        "id": "qgK1Flrne3Di",
        "outputId": "e096348a-ad5c-4493-f8da-a7e0e578ba9d",
        "colab": {
          "base_uri": "https://localhost:8080/"
        }
      },
      "outputs": [
        {
          "output_type": "stream",
          "name": "stdout",
          "text": [
            "Motif found in the sequence\n",
            "found it!\n"
          ]
        }
      ],
      "source": [
        "# Check if a DNA sequence contains a specific motif\n",
        "sequence = \"ATGCTGACTGACGTGAGCTAGCTAGCTAGCTAGCTG\"\n",
        "motif = \"GCTAG\"\n",
        "\n",
        "if motif in sequence:\n",
        "    print(\"Motif found in the sequence\")\n",
        "\n",
        "\n",
        "species = ['Arabidopsis', 'Bos taurus', 'C. elegans', 'Drosophila', 'E. coli']\n",
        "\n",
        "if \"Arabidopsis\" in species:\n",
        "    print(\"found it!\")\n"
      ]
    },
    {
      "cell_type": "markdown",
      "metadata": {
        "id": "HCRhRr6wqF8C"
      },
      "source": [
        "## if/else/elif\n",
        "\n",
        "Ifs are good, but what about if not? We can do that using ```else```"
      ]
    },
    {
      "cell_type": "code",
      "execution_count": 147,
      "metadata": {
        "colab": {
          "base_uri": "https://localhost:8080/"
        },
        "id": "MNpCyr_zqaED",
        "outputId": "073616cc-c17b-497f-f6db-55b370e6b6ee"
      },
      "outputs": [
        {
          "output_type": "stream",
          "name": "stdout",
          "text": [
            "The Open Reading Frame has complete codon usage\n"
          ]
        }
      ],
      "source": [
        "# Check if a DNA sequence length is divisible by 3\n",
        "sequence = \"ATGCTGACTGACGTGAGCTAGCTAGCTAGCTAGCTG\"\n",
        "\n",
        "if len(sequence) % 3 == 0:\n",
        "    print(\"The Open Reading Frame has complete codon usage\")\n",
        "else:\n",
        "    print(\"The Open Reading Frame does not have complete codons\")\n"
      ]
    },
    {
      "cell_type": "markdown",
      "metadata": {
        "id": "Mb1ipY2Sqrgs"
      },
      "source": [
        "We can then make it more complicated with elif (short for else-if)."
      ]
    },
    {
      "cell_type": "code",
      "execution_count": 148,
      "metadata": {
        "colab": {
          "base_uri": "https://localhost:8080/"
        },
        "id": "sh3x19ebe6sm",
        "outputId": "412ce9e3-8bb6-471a-dcc4-a78fb5a309f5"
      },
      "outputs": [
        {
          "output_type": "stream",
          "name": "stdout",
          "text": [
            "Short:\t ATCG\n",
            "Medium:\t GCTAGA\n",
            "Long:\t ACGAAAT\n",
            "Medium:\t TAGAC\n",
            "Short:\t CGAT\n",
            "Long:\t CTGATGGA\n",
            "Woah that's big! GTTCACTACGGAC\n",
            "Long:\t TGCGTTA\n",
            "Short:\t AGTC\n",
            "Long:\t CGGGAGT\n",
            "Medium:\t TATGCG\n",
            "Medium:\t GCATTG\n",
            "Woah that's big! ACCACACACACACACCCC\n"
          ]
        }
      ],
      "source": [
        "dna_motifs = [\"ATCG\", \"GCTAGA\", \"ACGAAAT\", \"TAGAC\", \"CGAT\", \"CTGATGGA\", \"GTTCACTACGGAC\", \"TGCGTTA\", \"AGTC\", \"CGGGAGT\", \"TATGCG\", \"GCATTG\", \"ACCACACACACACACCCC\"]\n",
        "\n",
        "for motif in dna_motifs:\n",
        "  if len(motif) <= 4:\n",
        "      print(\"Short:\\t\", motif)\n",
        "  elif len(motif) <= 6:\n",
        "      print(\"Medium:\\t\", motif)\n",
        "  elif len(motif) <= 8:\n",
        "      print(\"Long:\\t\", motif)\n",
        "  else:\n",
        "      print(\"Woah that's big!\", motif)\n"
      ]
    },
    {
      "cell_type": "markdown",
      "metadata": {
        "id": "Gf9iylyQN1Bw"
      },
      "source": [
        "We can access a dictionary in the same way. An ```if``` statement is a useful way to test if the key you are looking for exists. We have a dictionary of SampleIDs and their geographic locations.\n",
        "\n",
        "Often python is really helpful in it's simplicity because here it knows that asking \"if X in dictionary\" to check if it is in the keys and if true will come back and continue the statement (in a way that the .get() function doesn't)."
      ]
    },
    {
      "cell_type": "code",
      "execution_count": 149,
      "metadata": {
        "colab": {
          "base_uri": "https://localhost:8080/"
        },
        "id": "zIQ-iyddOCZf",
        "outputId": "a7bcd0c9-8716-45f0-e91c-a0ad0ddd225e"
      },
      "outputs": [
        {
          "output_type": "stream",
          "name": "stdout",
          "text": [
            "That sample is missing\n"
          ]
        }
      ],
      "source": [
        "sample_locations = {\n",
        "    'DAP01': (40.7128, -74.0060),\n",
        "    'DAP02': (51.5074, -0.1278),\n",
        "    'DAP03': (48.8566, 2.3522),\n",
        "    'DAP05': (34.0522, -118.2437),\n",
        "    'DAP06': (35.6895, 139.6917)\n",
        "}\n",
        "\n",
        "sample_to_test = \"DAP04\"\n",
        "\n",
        "if sample_to_test in sample_locations:\n",
        "    print(sample_locations[sample_to_test])\n",
        "else:\n",
        "    print(\"That sample is missing\")"
      ]
    },
    {
      "cell_type": "markdown",
      "metadata": {
        "id": "vhBGH1mMtgUL"
      },
      "source": [
        "## AND/OR/NOT\n",
        "\n",
        "Just as we get our brains around ```ifs``` and ```elses```, we can also combine multiple together. This is useful for situations such as:\n",
        "\n",
        "- If gene binding site contains TATTA and is <100bp from TSS....\n",
        "- If sample count is >100 or in PIs favourite species list\n",
        "- If antibiotic resistance is present but not in my list of already tested....\n",
        "\n",
        "They're good examples, lets see what the code would look like:"
      ]
    },
    {
      "cell_type": "code",
      "execution_count": 150,
      "metadata": {
        "colab": {
          "base_uri": "https://localhost:8080/"
        },
        "id": "pSLhP0p0v55b",
        "outputId": "1ec833e6-cf8a-47fe-f066-e67405df367e"
      },
      "outputs": [
        {
          "output_type": "stream",
          "name": "stdout",
          "text": [
            "Gene TFBS1 matches the conditions\n",
            "Gene TFBS4 matches the conditions\n"
          ]
        }
      ],
      "source": [
        "# Sample TFBS sequences and their distances from TSS\n",
        "# Note the use of a tuple here for simplicity in the example.\n",
        "gene_binding_sites = [\n",
        "    (\"TFBS1\", \"CGTATTATCG\", 80),\n",
        "    (\"TFBS2\", \"ACGTATCGTATTA\", 120),\n",
        "    (\"TFBS3\", \"CTAGGTTA\", 90),\n",
        "    (\"TFBS4\", \"TATTACGTA\", 40),\n",
        "    (\"TFBS5\", \"ATGCTTACG\", 110)\n",
        "]\n",
        "\n",
        "# Loop over gene binding sites and check conditions\n",
        "for binding_site in gene_binding_sites:\n",
        "    # Using the special tuple assigning method\n",
        "    gene, sequence, distance = binding_site\n",
        "\n",
        "    if \"TATTA\" in sequence and distance < 100:\n",
        "        print(\"Gene\", gene, \"matches the conditions\")\n",
        "\n",
        "## Exercise - print only the genes which start with an A or C (there's a method named .startswith()) but are over 100 distance"
      ]
    },
    {
      "cell_type": "code",
      "execution_count": 151,
      "metadata": {
        "colab": {
          "base_uri": "https://localhost:8080/"
        },
        "id": "cOgNoMELxIVd",
        "outputId": "674225b0-e093-4665-866b-174776f1b29a"
      },
      "outputs": [
        {
          "output_type": "stream",
          "name": "stdout",
          "text": [
            "Sample Lion matches the conditions\n",
            "Sample Elephant matches the conditions\n",
            "Sample Giraffe matches the conditions\n"
          ]
        }
      ],
      "source": [
        "# Sample data: animal names and their corresponding read counts\n",
        "animal_samples = [\n",
        "    (\"Lion\", 7500),\n",
        "    (\"Elephant\", 2100),\n",
        "    (\"Giraffe\", 1250),\n",
        "    (\"Tiger\", 950),\n",
        "    (\"Zebra\", 1800)]\n",
        "\n",
        "# List of PI's favorite species\n",
        "favorite_species = [\"Lion\", \"Giraffe\", \"Cheetah\"]\n",
        "\n",
        "# Iterate over animal samples and check conditions\n",
        "for animal, count in animal_samples:\n",
        "    if count > 2000 or animal in favorite_species:\n",
        "        print(\"Sample\", animal, \"matches the conditions\")"
      ]
    },
    {
      "cell_type": "code",
      "execution_count": 152,
      "metadata": {
        "colab": {
          "base_uri": "https://localhost:8080/"
        },
        "id": "EReDrNNfxhvM",
        "outputId": "5b586d25-f81f-4fa6-8576-d1c59a514000"
      },
      "outputs": [
        {
          "output_type": "stream",
          "name": "stdout",
          "text": [
            "Already tested:\n",
            "Gentamicin\n",
            "Tetracycline\n",
            "Vancomycin\n",
            "\n",
            "Antibiotic Gentamicin matches the conditions\n",
            "Antibiotic Vancomycin matches the conditions\n"
          ]
        }
      ],
      "source": [
        "# antibiotics and resistance gene found\n",
        "antibiotics = [\n",
        "    (\"Amoxicillin\", True),\n",
        "    (\"Ciprofloxacin\", False),\n",
        "    (\"Gentamicin\", True),\n",
        "    (\"Tetracycline\", False),\n",
        "    (\"Vancomycin\", True)]\n",
        "\n",
        "already_tested = [\"Amoxicillin\", \"Ciprofloxacin\"]\n",
        "\n",
        "# Test if antibiotic is in the already_tested list\n",
        "print(\"Already tested:\")\n",
        "for antibiotic_pair in antibiotics:\n",
        "  if antibiotic_pair[0] not in already_tested:\n",
        "    print(antibiotic_pair[0])\n",
        "\n",
        "print()\n",
        "# Test if resistance presence is known, AND NOT in already tested\n",
        "# Note the tuple assignment again\n",
        "for antibiotic, resistance in antibiotics:\n",
        "    if resistance and antibiotic not in already_tested:\n",
        "        print(\"Antibiotic\", antibiotic, \"matches the conditions\")"
      ]
    },
    {
      "cell_type": "markdown",
      "metadata": {
        "id": "OyjodSs3y2gl"
      },
      "source": [
        "## Exercises - ifs, buts, and maybes\n",
        "\n",
        "Lets practice. Make each statement indepentantly (they don't all connect together)\n",
        "\n",
        "1.   Print the genes with expression greater than 2\n",
        "2.   Print the genes with expression greater than 2 but less than 3\n",
        "3.   Print the genes with expression less than 1 or greater than 3, and print any other genes with the label \"medium\"\n",
        "4.   Print the genes with expression less than 2 but not called \"BRCA1\"\n",
        "5.   Print \"Low\", \"Medium\" or \"High\" based on if the value is <2, 2-3, or >3\n"
      ]
    },
    {
      "cell_type": "code",
      "execution_count": 178,
      "metadata": {
        "id": "zPq-SzUdzZAc",
        "outputId": "e1ae0b56-0d0c-4315-8318-8c49a82ec308",
        "colab": {
          "base_uri": "https://localhost:8080/"
        }
      },
      "outputs": [
        {
          "output_type": "stream",
          "name": "stdout",
          "text": [
            "more than 2\n",
            "TP53\n",
            "EGFR\n",
            "MYC\n",
            "CDKN2A\n",
            "RB1\n",
            "\n",
            "over 2 less than 3\n",
            "TP53\n",
            "MYC\n",
            "\n",
            "less than 1 more than 3\n",
            "TP53 medium\n",
            "BRCA1 medium\n",
            "EGFR low/high\n",
            "KRAS low/high\n",
            "MYC medium\n",
            "PTEN medium\n",
            "CDKN2A low/high\n",
            "AKT1 medium\n",
            "ERBB2 medium\n",
            "RB1 low/high\n",
            "\n",
            "less than 2 not BRCA1\n",
            "KRAS\n",
            "PTEN\n",
            "ERBB2\n"
          ]
        }
      ],
      "source": [
        "gene_expression = [(\"TP53\", 2.5), (\"BRCA1\", 1.8), (\"EGFR\", 3.2), (\"KRAS\", 0.9), (\"MYC\", 2.7), (\"PTEN\", 1.2), (\"CDKN2A\", 4.5), (\"AKT1\", 2.0), (\"ERBB2\", 1.5), (\"RB1\", 3.8)]\n",
        "\n",
        "print(\"more than 2\")\n",
        "for gene, expression in gene_expression:\n",
        "    if expression > 2:\n",
        "      print(gene)\n",
        "print()\n",
        "print(\"over 2 less than 3\")\n",
        "for gene, expression in gene_expression:\n",
        "    if expression > 2 and expression < 3:\n",
        "      print(gene)\n",
        "print()\n",
        "print(\"less than 1 more than 3\")\n",
        "for gene, expression in gene_expression:\n",
        "    if expression < 1 or expression > 3:\n",
        "      print(gene, \"low/high\")\n",
        "    else:\n",
        "      print(gene, \"medium\")\n",
        "print()\n",
        "print(\"less than 2 not BRCA1\")\n",
        "for gene, expression in gene_expression:\n",
        "    if expression < 2 and not gene == \"BRCA1\":\n",
        "      print(gene)\n",
        "\n"
      ]
    },
    {
      "cell_type": "markdown",
      "metadata": {
        "id": "ol-FPItjG42y"
      },
      "source": [
        "---\n",
        "## Advanced looping"
      ]
    },
    {
      "cell_type": "markdown",
      "metadata": {
        "id": "dMQeiv3YVTQP"
      },
      "source": [
        "### Loop control\n",
        "If we start running through a loop, it will continue to the end. If our objective is \"Do X for every item in list\" then that is good however, sometimes we don't want that to happen and once we have reached the data we want then we can stop, or skip that turn\n",
        "\n",
        "- ```continue``` - Move on to the next element in the loop immediately - don't do any more code on this itteration\n",
        "- ```break``` - Stop the loop right now, do no more processing"
      ]
    },
    {
      "cell_type": "code",
      "execution_count": 179,
      "metadata": {
        "colab": {
          "base_uri": "https://localhost:8080/"
        },
        "id": "3y7vx0vUEQ5c",
        "outputId": "b9cb0136-5527-4547-f53d-67ed8cda96c9"
      },
      "outputs": [
        {
          "output_type": "stream",
          "name": "stdout",
          "text": [
            "Skipping HOX genes:\n",
            "RB1\n",
            "PIK3CA\n",
            "BRAF\n",
            "JAK2\n",
            "NOTCH1\n",
            "FLT3\n",
            "KRAS\n",
            "EGFR\n",
            "PTEN\n",
            "BRAF\n",
            "PIK3CA\n",
            "JAK2\n",
            "\n",
            "Stopping if I find HOX5:\n",
            "RB1\n",
            "PIK3CA\n",
            "BRAF\n",
            "HOX2\n",
            "JAK2\n"
          ]
        }
      ],
      "source": [
        "gene_list = [\"RB1\", \"PIK3CA\", \"BRAF\", \"HOX2\", \"JAK2\", \"HOX5\", \"NOTCH1\", \"FLT3\", \"KRAS\", \"EGFR\", \"PTEN\", \"HOX1\", \"BRAF\", \"PIK3CA\", \"HOX9\", \"JAK2\"]\n",
        "\n",
        "print(\"Skipping HOX genes:\")\n",
        "for gene in gene_list:\n",
        "    if \"HOX\" in gene:\n",
        "        # Don't do anything, just move on to next element\n",
        "        continue\n",
        "    print(gene)\n",
        "\n",
        "# Note here it stops before printing anything else on that loop\n",
        "print(\"\\nStopping if I find HOX5:\")\n",
        "for gene in gene_list:\n",
        "    if \"HOX5\" in gene:\n",
        "        # Stop the loop!\n",
        "        break\n",
        "    print(gene)\n"
      ]
    },
    {
      "cell_type": "markdown",
      "metadata": {
        "id": "1xQBECBVJ81M"
      },
      "source": [
        "## Exercise - Loop control\n",
        "\n",
        "When we did our quality filtering earlier, the data was designed to not raise above 20 after going below. But that's not realistic! Here is some more variable data.\n",
        "\n",
        "- Use your code from earlier (The While section) and include a ```break``` condition to stop looping when it first goes below 20"
      ]
    },
    {
      "cell_type": "code",
      "execution_count": 9,
      "metadata": {
        "colab": {
          "base_uri": "https://localhost:8080/",
          "height": 430
        },
        "id": "BQlcbEDQJ8Y0",
        "outputId": "aa7b76e5-20d9-4915-a114-a7ebc39f0887"
      },
      "outputs": [
        {
          "output_type": "display_data",
          "data": {
            "text/plain": [
              "<Figure size 640x480 with 1 Axes>"
            ],
            "image/png": "[encoded data removed]"
          },
          "metadata": {}
        }
      ],
      "source": [
        "sequence = \"TGCATGACTGCATCGATCGTACGATCGATCGATCGAT\"\n",
        "quality = [31, 29, 27, 35, 31, 29, 34, 39, 40, 30, 35, 38, 30, 28, 29, 30, 33, 26, 24, 29, 19, 11, 17, 16, 18, 17, 23, 21, 26, 29, 15, 3, 7, 15, 4, 10, 17]\n",
        "\n",
        "import matplotlib.pyplot as plt\n",
        "\n",
        "plt.plot(range(len(quality)), quality)\n",
        "plt.axhline(20, color = \"red\")\n",
        "plt.show()"
      ]
    },
    {
      "cell_type": "code",
      "execution_count": 13,
      "metadata": {
        "colab": {
          "base_uri": "https://localhost:8080/",
          "height": 823
        },
        "id": "Kyhv4vGvKZ6E",
        "outputId": "464a55be-609e-4e73-c368-068f0330b47d"
      },
      "outputs": [
        {
          "output_type": "stream",
          "name": "stdout",
          "text": [
            "i: 0 \tbase: T \tquality: 31\n",
            "i: 1 \tbase: G \tquality: 29\n",
            "i: 2 \tbase: C \tquality: 27\n",
            "i: 3 \tbase: A \tquality: 35\n",
            "i: 4 \tbase: T \tquality: 31\n",
            "i: 5 \tbase: G \tquality: 29\n",
            "i: 6 \tbase: A \tquality: 34\n",
            "i: 7 \tbase: C \tquality: 39\n",
            "i: 8 \tbase: T \tquality: 40\n",
            "i: 9 \tbase: G \tquality: 30\n",
            "i: 10 \tbase: C \tquality: 35\n",
            "i: 11 \tbase: A \tquality: 38\n",
            "i: 12 \tbase: T \tquality: 30\n",
            "i: 13 \tbase: C \tquality: 28\n",
            "i: 14 \tbase: G \tquality: 29\n",
            "i: 15 \tbase: A \tquality: 30\n",
            "i: 16 \tbase: T \tquality: 33\n",
            "i: 17 \tbase: C \tquality: 26\n",
            "i: 18 \tbase: G \tquality: 24\n",
            "i: 19 \tbase: T \tquality: 29\n",
            "i: 20 \tbase: A \tquality: 19\n"
          ]
        },
        {
          "output_type": "execute_result",
          "data": {
            "text/plain": [
              "<matplotlib.lines.Line2D at 0x793e7c3476d0>"
            ]
          },
          "metadata": {},
          "execution_count": 13
        },
        {
          "output_type": "display_data",
          "data": {
            "text/plain": [
              "<Figure size 640x480 with 1 Axes>"
            ],
            "image/png": "[encoded data removed]"
          },
          "metadata": {}
        }
      ],
      "source": [
        "# Your code\n",
        "i = 0\n",
        "\n",
        "while i < len(sequence):\n",
        "    print(\"i:\", i, \"\\tbase:\", sequence[i], \"\\tquality:\", quality[i])\n",
        "\n",
        "    if quality[i] <20:        # Stop the loop!\n",
        "        break\n",
        "        print(sequence)\n",
        "\n",
        "    i += 1\n",
        "\n",
        "import matplotlib.pyplot as plt\n",
        "x_axis = range(1,len(quality)+1)\n",
        "plt.plot(x_axis, quality)\n",
        "plt.axhline(20)"
      ]
    },
    {
      "cell_type": "markdown",
      "metadata": {
        "id": "vfkv7KO9i7jp"
      },
      "source": [
        "# Exercise - Loops, lists, and ifs\n",
        "**Objective**: Take our list of genes and output the most up/down regulated genes with key information\n",
        "\n",
        "This exercise is the most dificult we've done and will need you to use lists, loops, ifs, and dictionaries! It is not supposed to be simple and probably will take 10-20 minutes.\n",
        "\n",
        "Suggested steps:\n",
        "\n",
        "1.   Make empty lists for your up/down gene lists\n",
        "2.   Make a loop to run through the list of gene expression values and use if/else to build your lists\n",
        "3.   Itterate through your new lists and use the dictionary to report if they have been qPCR tested\n",
        "4.   Output in a clean text format such as:\n",
        "\n",
        "\"Here we tested X genes resulting in Y upregulated and Z downregulated. qPCR confirmed A and B respectively. Here is the full list:\"\n",
        "\n",
        "\n",
        "**Extension:** Filter the data to greater than +/- 2 expression. What % of genes are removed by this filter?\n"
      ]
    },
    {
      "cell_type": "code",
      "execution_count": 3,
      "metadata": {
        "id": "rLd2P31djxtx"
      },
      "outputs": [],
      "source": [
        "# Data for your analysis\n",
        "gene_list = [\"TP53\", \"BRCA1\", \"EGFR\", \"KRAS\", \"MYC\", \"PTEN\", \"CDKN2A\", \"AKT1\", \"ERBB2\", \"RB1\", \"PIK3CA\", \"BRAF\", \"MET\", \"JAK2\", \"MAPK1\", \"NOTCH1\", \"FLT3\", \"KRAS\", \"EGFR\", \"PTEN\", \"TP53\", \"BRAF\", \"PIK3CA\", \"MYC\", \"ERBB2\", \"RB1\", \"AKT1\", \"CDKN2A\", \"MAPK1\", \"JAK2\"]\n",
        "gene_exp = [['TP53', -1.4245], ['BRCA1', 4.0941], ['EGFR', 1.8266], ['KRAS', -0.8996], ['MYC', -2.1188], ['PTEN', -1.8499], ['CDKN2A', 4.2798], ['AKT1', 0.4709], ['ERBB2', 2.144], ['RB1', 4.7541], ['PIK3CA', 2.6291], ['BRAF', 2.1514], ['MET', 0.2558], ['JAK2', 5.0332], ['MAPK1', 5.295], ['NOTCH1', 2.5695], ['FLT3', 5.3211], ['KRAS', 3.064], ['EGFR', 0.1768], ['PTEN', -0.4923], ['TP53', -4.7796], ['BRAF', -3.8257], ['PIK3CA', 0.3357], ['MYC', -0.0917], ['ERBB2', -3.2586], ['RB1', -0.7903], ['AKT1', 0.6729], ['CDKN2A', 5.8131], ['MAPK1', -4.9549], ['JAK2', -0.936]]\n",
        "qPCR_status = {'TP53': False, 'BRCA1': False, 'EGFR': True, 'KRAS': False, 'MYC': True, 'PTEN': True, 'CDKN2A': False, 'AKT1': True, 'ERBB2': False, 'RB1': False, 'PIK3CA': True, 'BRAF': False, 'MET': False, 'JAK2': True, 'MAPK1': False, 'NOTCH1': False, 'FLT3': True}\n"
      ]
    },
    {
      "cell_type": "code",
      "execution_count": 19,
      "metadata": {
        "id": "fOLCM_TIjTha",
        "outputId": "2fd9861d-7112-42c0-bdd0-37ad90e52d23",
        "colab": {
          "base_uri": "https://localhost:8080/"
        }
      },
      "outputs": [
        {
          "output_type": "stream",
          "name": "stdout",
          "text": [
            "Up genes:\n",
            "['EGFR', 'AKT1', 'PIK3CA', 'JAK2', 'FLT3', 'EGFR', 'PIK3CA', 'AKT1']\n",
            "['MYC', 'PTEN', 'PTEN', 'MYC', 'JAK2']\n",
            "Here we tested 30 genes resulting in 8 upregulated and 5 downregulated. qPCR confirmed A and B respectively. Here is the full list:\n"
          ]
        }
      ],
      "source": [
        "# Your code here\n",
        "ups = []\n",
        "downs = []\n",
        "\n",
        "print(\"Up genes:\")\n",
        "for geneID, exp in gene_exp:\n",
        "    if exp > 0 and qPCR_status.get(geneID):\n",
        "        ups.append(geneID)\n",
        "    elif exp < 0 and qPCR_status.get(geneID):\n",
        "        downs.append(geneID)\n",
        "\n",
        "print(ups)\n",
        "print(downs)\n",
        "\n",
        "print(\"Here we tested\", len(gene_list), \"genes resulting in\", len(ups), \"upregulated and\", len(downs), \"downregulated. qPCR confirmed A and B respectively. Here is the full list:\")"
      ]
    }
  ],
  "metadata": {
    "colab": {
      "provenance": []
    },
    "kernelspec": {
      "display_name": "Python 3",
      "name": "python3"
    },
    "language_info": {
      "codemirror_mode": {
        "name": "ipython",
        "version": 3
      },
      "file_extension": ".py",
      "mimetype": "text/x-python",
      "name": "python",
      "nbconvert_exporter": "python",
      "pygments_lexer": "ipython3",
      "version": "3.11.5"
    }
  },
  "nbformat": 4,
  "nbformat_minor": 0
}