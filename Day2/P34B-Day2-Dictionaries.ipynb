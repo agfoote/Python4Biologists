{
  "cells": [
    {
      "cell_type": "markdown",
      "metadata": {
        "id": "QfYvI-_yE10I"
      },
      "source": [
        "# Practical Python Programming for Biologists\n",
        "Author: Dr. Daniel Pass | www.CompassBioinformatics.com\n",
        "\n",
        "---"
      ]
    },
    {
      "cell_type": "markdown",
      "metadata": {
        "id": "rQ5nBszYVmZT"
      },
      "source": [
        "# Dictionaries\n",
        "\n",
        "A dictionary at first looks like a 2D list but is actually unique because all data is in unordered key-value pairs. They are particularly useful for finding the corresponding pair (like a real dictionary!) when you have one value for example:\n",
        "\n",
        "- ```geneID => sequence```\n",
        "- ```aminoAcid => frequency```\n",
        "- ```site => longitude/lattitude```\n",
        "\n",
        "This example dictionary has a frequency count of each base, where the first element in each pair is the \"key\" reference, and the second element is the \"value\".\n",
        "\n",
        "It's defined in the format of ```'key' : 'value'```, between braces ```{ }``` (curly brackets)"
      ]
    },
    {
      "cell_type": "code",
      "execution_count": 1,
      "metadata": {
        "colab": {
          "base_uri": "https://localhost:8080/"
        },
        "id": "rTmf-Cp8WHSi",
        "outputId": "6c9fe7b2-11a3-4d5b-f998-8f2fe7587be7"
      },
      "outputs": [
        {
          "output_type": "stream",
          "name": "stdout",
          "text": [
            "{'A': 101, 'T': 250, 'G': 125, 'C': 92}\n"
          ]
        }
      ],
      "source": [
        "# Create a dictionary of DNA base counts\n",
        "base_counts = {'A': 101, 'T': 250, 'G': 125, 'C': 92}\n",
        "print(base_counts)"
      ]
    },
    {
      "cell_type": "markdown",
      "metadata": {
        "id": "Uyiftu2iaong"
      },
      "source": [
        "We can use the square bracket method ```dictionary['key']``` to return the value of a dictionary key similar to using the index number for a list, however the .get() method is usually better because it handles missing data better. Note the difference:"
      ]
    },
    {
      "cell_type": "code",
      "execution_count": 3,
      "metadata": {
        "id": "OC_UP7Kkaonh",
        "outputId": "9d5569e0-d28c-4f9d-a867-555ffc6bd9c9",
        "colab": {
          "base_uri": "https://localhost:8080/"
        }
      },
      "outputs": [
        {
          "output_type": "stream",
          "name": "stdout",
          "text": [
            "Number of Thymine: 250\n"
          ]
        }
      ],
      "source": [
        "print(\"Number of Thymine:\",  base_counts['T'])"
      ]
    },
    {
      "cell_type": "code",
      "source": [
        "print(\"Number of Unknowns:\", base_counts['N'])"
      ],
      "metadata": {
        "id": "HZbhtqZLbf22",
        "outputId": "2a9b7394-e4a7-45ee-f3bb-850ed651e6d8",
        "colab": {
          "base_uri": "https://localhost:8080/",
          "height": 144
        }
      },
      "execution_count": 4,
      "outputs": [
        {
          "output_type": "error",
          "ename": "KeyError",
          "evalue": "'N'",
          "traceback": [
            "\u001b[0;31m---------------------------------------------------------------------------\u001b[0m",
            "\u001b[0;31mKeyError\u001b[0m                                  Traceback (most recent call last)",
            "\u001b[0;32m<ipython-input-4-dc2105094a94>\u001b[0m in \u001b[0;36m<cell line: 0>\u001b[0;34m()\u001b[0m\n\u001b[0;32m----> 1\u001b[0;31m \u001b[0mprint\u001b[0m\u001b[0;34m(\u001b[0m\u001b[0;34m\"Number of Unknowns:\"\u001b[0m\u001b[0;34m,\u001b[0m \u001b[0mbase_counts\u001b[0m\u001b[0;34m[\u001b[0m\u001b[0;34m'N'\u001b[0m\u001b[0;34m]\u001b[0m\u001b[0;34m)\u001b[0m\u001b[0;34m\u001b[0m\u001b[0;34m\u001b[0m\u001b[0m\n\u001b[0m",
            "\u001b[0;31mKeyError\u001b[0m: 'N'"
          ]
        }
      ]
    },
    {
      "cell_type": "code",
      "execution_count": 5,
      "metadata": {
        "id": "-DUXcJMsaonh",
        "outputId": "4b8883f0-086f-4418-e77b-e44056ce9d32",
        "colab": {
          "base_uri": "https://localhost:8080/"
        }
      },
      "outputs": [
        {
          "output_type": "stream",
          "name": "stdout",
          "text": [
            "Number of Unknowns: None\n"
          ]
        }
      ],
      "source": [
        "print(\"Number of Unknowns:\", base_counts.get('N'))"
      ]
    },
    {
      "cell_type": "markdown",
      "metadata": {
        "id": "ML-dkbsDaonh"
      },
      "source": [
        "First lets add some new pairs to the dictionary. This can be done two ways:"
      ]
    },
    {
      "cell_type": "code",
      "execution_count": 6,
      "metadata": {
        "id": "a3_JVc5jaonh",
        "outputId": "6e30e3ba-ae7f-4c67-a062-e4b7efd3300d",
        "colab": {
          "base_uri": "https://localhost:8080/"
        }
      },
      "outputs": [
        {
          "output_type": "stream",
          "name": "stdout",
          "text": [
            "{'A': 101, 'T': 250, 'G': 125, 'C': 92, 'N': 5, 'MISSING': 0}\n"
          ]
        }
      ],
      "source": [
        "# Add a two new key-value pairs to the dictionary, this is similiar to append function in lists, there is no order to a dictionary\n",
        "base_counts['N'] = 5\n",
        "base_counts.update({ 'MISSING' : 0 })\n",
        "\n",
        "print(base_counts)"
      ]
    },
    {
      "cell_type": "markdown",
      "metadata": {
        "id": "cw8OZ_CwWvxT"
      },
      "source": [
        "We can then access individual values based on their key just like looking them up in a dictionary, or modify/delete them:"
      ]
    },
    {
      "cell_type": "code",
      "execution_count": 7,
      "metadata": {
        "colab": {
          "base_uri": "https://localhost:8080/"
        },
        "id": "JMKJ30HtW07q",
        "outputId": "d621f69f-98a0-4fa5-ba94-3a1841d8751a"
      },
      "outputs": [
        {
          "output_type": "stream",
          "name": "stdout",
          "text": [
            "Number of Adenine: 101\n",
            "Number of Thymine: 250\n",
            "Number of Unknowns: 5\n",
            "{'A': 101, 'T': 250, 'G': 125, 'C': 92, 'N': 5, 'MISSING': 0}\n",
            "{'A': 65, 'T': 250, 'G': 125, 'C': 92, 'N': 5}\n",
            "{'A': 65, 'G': 125, 'C': 92, 'N': 5}\n",
            "Number of Adenine: 65\n",
            "Number of Thymine: None\n",
            "Number of Unknowns: 5\n"
          ]
        }
      ],
      "source": [
        "base_counts = {'A': 101, 'T': 250, 'G': 125, 'C': 92, 'N': 5, 'MISSING': 0}\n",
        "\n",
        "# Print corresponding value (two methods)\n",
        "print(\"Number of Adenine:\", base_counts.get('A'))\n",
        "print(\"Number of Thymine:\", base_counts.get('T'))\n",
        "print(\"Number of Unknowns:\", base_counts.get('N'))\n",
        "\n",
        "print(base_counts)\n",
        "# Modify the value for a key\n",
        "base_counts['A'] = 65\n",
        "\n",
        "# Remove the 'MISSING' key-value pair from the dictionary\n",
        "base_counts.pop('MISSING')\n",
        "\n",
        "print(base_counts)\n",
        "\n",
        "# There is also the del (ie. delete) statement\n",
        "del base_counts['T']\n",
        "print(base_counts)\n",
        "\n",
        "# Print corresponding value (two methods)\n",
        "print(\"Number of Adenine:\", base_counts.get('A'))\n",
        "print(\"Number of Thymine:\", base_counts.get('T'))\n",
        "print(\"Number of Unknowns:\", base_counts.get('N'))"
      ]
    },
    {
      "cell_type": "markdown",
      "metadata": {
        "id": "-soyciPCaonh"
      },
      "source": [
        "A useful set of methods are ```.keys()``` and ```.values()``` which return dict objects (just like when we made a range). They can be turned into a list using the ```list()``` function in the same way."
      ]
    },
    {
      "cell_type": "code",
      "execution_count": 8,
      "metadata": {
        "id": "Rsi9Gdrgaonh",
        "outputId": "cdbff14a-588f-41f1-cdce-1baf8483c7b2",
        "colab": {
          "base_uri": "https://localhost:8080/"
        }
      },
      "outputs": [
        {
          "output_type": "stream",
          "name": "stdout",
          "text": [
            "dict_values([65, 125, 92, 5])\n",
            "dict_keys(['A', 'G', 'C', 'N'])\n"
          ]
        }
      ],
      "source": [
        "# Print just the values\n",
        "print(base_counts.values())\n",
        "\n",
        "# Print just the keys\n",
        "print(base_counts.keys())"
      ]
    },
    {
      "cell_type": "markdown",
      "metadata": {
        "id": "ehHY0bm0aoni"
      },
      "source": [
        "We can also use the ```.items()``` method to return key:value pairs as a list of tuples. We'll return to this when we know how to run through loops of data"
      ]
    },
    {
      "cell_type": "code",
      "execution_count": 9,
      "metadata": {
        "id": "YRUbi8nuaoni",
        "outputId": "12d37b0f-98a6-4cc6-970a-8df692449c75",
        "colab": {
          "base_uri": "https://localhost:8080/"
        }
      },
      "outputs": [
        {
          "output_type": "stream",
          "name": "stdout",
          "text": [
            "{'A': 65, 'G': 125, 'C': 92, 'N': 5}\n",
            "dict_items([('A', 65), ('G', 125), ('C', 92), ('N', 5)])\n"
          ]
        }
      ],
      "source": [
        "# Print just the values\n",
        "print(base_counts)\n",
        "print(base_counts.items())"
      ]
    },
    {
      "cell_type": "markdown",
      "metadata": {
        "id": "SswSYVXdaoni"
      },
      "source": [
        "### Dictionary exercise\n",
        "\n",
        "1. Create a dictionary named insects where keys are the common short names of insects and values are their Latin names using this data.\n",
        "- honeybee  - Apis mellifera\n",
        "- fruitfly  - Drosophila melanogaster\n",
        "- butterfly - Papilio machaon\n",
        "- ladybird  - Coccinella septempunctata\n",
        "- fireant   - Solenopsis invicta\n",
        "\n",
        "2. Add a new insect to the insects dictionary with Mosquito & Culex pipiens\n",
        "3. Actually we have incorrectly identified the bee! Modify the honeybee to Apis cerana\n",
        "4. Print the list of latin names as a dict_list, and how many sepecies are in the dictionary"
      ]
    },
    {
      "cell_type": "code",
      "execution_count": 22,
      "metadata": {
        "id": "Dmz9LgQ2aoni",
        "outputId": "38bb62d5-a6e8-4d77-a222-9ae2dbed3e4c",
        "colab": {
          "base_uri": "https://localhost:8080/"
        }
      },
      "outputs": [
        {
          "output_type": "stream",
          "name": "stdout",
          "text": [
            "{'honeybee': 'Drosophila melanogaster', 'butterfly': 'Papilio machaon', 'ladybird': 'Coccinella septempunctata', 'fireant': 'Solenopsis invicta'}\n",
            "{'honeybee': 'Drosophila melanogaster', 'butterfly': 'Papilio machaon', 'ladybird': 'Coccinella septempunctata', 'fireant': 'Solenopsis invicta', 'Mosquito': 'Culex pipiens'}\n",
            "{'honeybee': 'Apis cerana', 'butterfly': 'Papilio machaon', 'ladybird': 'Coccinella septempunctata', 'fireant': 'Solenopsis invicta', 'Mosquito': 'Culex pipiens'}\n",
            "['Apis cerana', 'Papilio machaon', 'Coccinella septempunctata', 'Solenopsis invicta', 'Culex pipiens']\n"
          ]
        }
      ],
      "source": [
        "# Code goes here\n",
        "#1\n",
        "insects = {'honeybee': 'Apis mellifera',\n",
        "           'honeybee': 'Drosophila melanogaster',\n",
        "           'butterfly': 'Papilio machaon',\n",
        "           'ladybird': 'Coccinella septempunctata',\n",
        "           'fireant': 'Solenopsis invicta'}\n",
        "print(insects)\n",
        "#2\n",
        "insects.update({'Mosquito' : 'Culex pipiens'})\n",
        "print(insects)\n",
        "#3\n",
        "insects.update({'honeybee' : 'Apis cerana'})\n",
        "print(insects)\n",
        "#4\n",
        "print(list(insects.values()))"
      ]
    },
    {
      "cell_type": "markdown",
      "metadata": {
        "id": "KsVBxlMZXqI7"
      },
      "source": [
        "---\n",
        "#### Dictionary Example\n",
        "Dictionaries are really important and powerful. Lets look at another example where we can attach specific information to geneIDs, and use the ```.get``` method to search the dictionary.\n",
        "\n",
        "Here we can combine a gene sequence dictionary with our 2D list exercise from earlier"
      ]
    },
    {
      "cell_type": "code",
      "execution_count": 29,
      "metadata": {
        "colab": {
          "base_uri": "https://localhost:8080/"
        },
        "id": "O8UFUTAvXucr",
        "outputId": "68693d4a-219d-46b5-f4d0-d6cec8a0ddbd"
      },
      "outputs": [
        {
          "output_type": "stream",
          "name": "stdout",
          "text": [
            "TP53\n",
            "0.4\n"
          ]
        }
      ],
      "source": [
        "## The data\n",
        "\n",
        "# Dictionary of gene names and sequences\n",
        "gene_dict = {'BRCA1': 'ATGTTGTCATCGTTGAGCTTTGCTTCCT',\n",
        "             'TP53': 'ATGGAGGAGCCGCAGTCAGATC',\n",
        "             'EGFR': 'ATGACCATCCAAGATGATGGTGTC',\n",
        "             'KRAS': 'ATGACTGAATATAAACTTGTGGTAG',\n",
        "             'BRAF': 'ATGGTCCAGCTTGGACCCACTCC',\n",
        "             'ALK': 'ATGAAGGAGCCCTCAGATTTCTTG',\n",
        "             'RET': 'ATGGGTGGGTTGTCGGAAGATCTT',\n",
        "             'ROS1': 'ATGAGCCACCCAGGTCCCTGTAGT',\n",
        "             'MET': 'ATGGCTTCAAGCTGTTGTCGTGAAGA'}\n",
        "\n",
        "# gene confidence values\n",
        "gene_confs = [[0.92, 'MET1', 2205], [0.82, 'EGFR', 1567], [0.93, 'KRAS', 6523], [0.4, 'TP53', 5002], [0.94, 'ROS5', 1999], [0.87, 'BRCA1', 2323]]\n",
        "\n",
        "# sort and get lowest conf gene ID\n",
        "gene_confs.sort()\n",
        "lowest_gene_conf = gene_confs[0][0]\n",
        "lowest_gene_ID = gene_confs[0][1]\n",
        "\n",
        "print(lowest_gene_ID)\n",
        "print(lowest_gene_conf)"
      ]
    },
    {
      "cell_type": "markdown",
      "metadata": {
        "id": "4UHT7qqraoni"
      },
      "source": [
        "We don't need to type the exact gene name. we can use the variable as the key:"
      ]
    },
    {
      "cell_type": "code",
      "execution_count": 24,
      "metadata": {
        "id": "tVwcs_VRaoni",
        "outputId": "727775b8-8330-4780-b150-844a829c53cd",
        "colab": {
          "base_uri": "https://localhost:8080/"
        }
      },
      "outputs": [
        {
          "output_type": "stream",
          "name": "stdout",
          "text": [
            "ATGGAGGAGCCGCAGTCAGATC\n",
            "Gene sequence for TP53 (Confidence value: 0.4) is: ATGGAGGAGCCGCAGTCAGATC\n"
          ]
        }
      ],
      "source": [
        "# Search dictionary keys for that ID\n",
        "print(gene_dict.get(lowest_gene_ID))\n",
        "\n",
        "# easier to read!\n",
        "print(\"Gene sequence for\", lowest_gene_ID, \"(Confidence value:\", str(lowest_gene_conf) + \") is:\",  gene_dict.get(lowest_gene_ID))"
      ]
    },
    {
      "cell_type": "markdown",
      "metadata": {
        "id": "xO8ILO0oaoni"
      },
      "source": [
        "Lets continue our example from 2D lists and remove the three lowest genes from our dictionary:"
      ]
    },
    {
      "cell_type": "code",
      "execution_count": 25,
      "metadata": {
        "colab": {
          "base_uri": "https://localhost:8080/"
        },
        "id": "jA5MCmWZTGIp",
        "outputId": "1e52e867-04c0-4057-a6c9-da3e5ca2b4d8"
      },
      "outputs": [
        {
          "output_type": "stream",
          "name": "stdout",
          "text": [
            "gene_dict contains 9 genes\n",
            "gene_dict contains 6 genes\n"
          ]
        }
      ],
      "source": [
        "print(\"gene_dict contains\", len(gene_dict), \"genes\")\n",
        "gene_dict.pop(\"EGFR\")\n",
        "gene_dict.pop(\"TP53\")\n",
        "gene_dict.pop(\"BRCA1\")\n",
        "print(\"gene_dict contains\", len(gene_dict), \"genes\")"
      ]
    },
    {
      "cell_type": "markdown",
      "metadata": {
        "id": "2-4AuHdaT1Xk"
      },
      "source": [
        "Actually, even better idea! Instead of just throwing the data out, lets put the DNA sequences of the lowest three genes from the dictionary into a new list called ```bad_genes``` before they get discarded.\n",
        "\n",
        "Note, what happens if you run this code immediately? Read the error and identify what is wrong."
      ]
    },
    {
      "cell_type": "code",
      "execution_count": 30,
      "metadata": {
        "colab": {
          "base_uri": "https://localhost:8080/"
        },
        "id": "2JQbjR594Ob2",
        "outputId": "202982f1-acad-4366-967e-97bd169291a0"
      },
      "outputs": [
        {
          "output_type": "stream",
          "name": "stdout",
          "text": [
            "gene_dict contains 9 genes\n",
            "gene_dict contains 6 genes\n"
          ]
        }
      ],
      "source": [
        "bad_genes = []\n",
        "\n",
        "print(\"gene_dict contains\", len(gene_dict), \"genes\")\n",
        "bad_genes.append(gene_dict.pop(\"EGFR\"))\n",
        "bad_genes.append(gene_dict.pop(\"TP53\"))\n",
        "bad_genes.append(gene_dict.pop(\"BRCA1\"))\n",
        "print(\"gene_dict contains\", len(gene_dict), \"genes\")"
      ]
    },
    {
      "cell_type": "code",
      "execution_count": 31,
      "metadata": {
        "id": "vfJfdHKn4SCZ",
        "outputId": "06cc6bf4-0066-48fe-d8f4-0220423d3df7",
        "colab": {
          "base_uri": "https://localhost:8080/"
        }
      },
      "outputs": [
        {
          "output_type": "stream",
          "name": "stdout",
          "text": [
            "['ATGACCATCCAAGATGATGGTGTC', 'ATGGAGGAGCCGCAGTCAGATC', 'ATGTTGTCATCGTTGAGCTTTGCTTCCT']\n",
            "{'KRAS': 'ATGACTGAATATAAACTTGTGGTAG', 'BRAF': 'ATGGTCCAGCTTGGACCCACTCC', 'ALK': 'ATGAAGGAGCCCTCAGATTTCTTG', 'RET': 'ATGGGTGGGTTGTCGGAAGATCTT', 'ROS1': 'ATGAGCCACCCAGGTCCCTGTAGT', 'MET': 'ATGGCTTCAAGCTGTTGTCGTGAAGA'}\n"
          ]
        }
      ],
      "source": [
        "print(bad_genes)\n",
        "print(gene_dict)"
      ]
    },
    {
      "cell_type": "markdown",
      "metadata": {
        "id": "QKAudoMCYk2t"
      },
      "source": [
        "Dictionaries and lists are powerful ways to handle data and often involve going between the two. There are also lots of powerful methods to search throughnot just the keys, but also the values to find relevant keys which can be very useful but first we need to learn a bit about loops and conditionals!"
      ]
    },
    {
      "cell_type": "markdown",
      "metadata": {
        "id": "xKbU1nRZkgP5"
      },
      "source": [
        "## Exercises\n",
        "\n",
        "1. Create a dictionary of bacteria and confluence values (growth) using the data:\n",
        "\n",
        "```\n",
        "[\"E. coli\", \"S. aureus\", \"P. aeruginosa\", \"K. pneumoniae\", \"A. baumannii\"]\n",
        "[60, 82, 75, 91, 70]\n",
        "```\n",
        "2. Print the confluence value of *K. pneumoniae* from the dictionary\n",
        "3. A function we haven't used yet is ```sum()```, but it works just like ```len()```. Use both of these to calculate the average confluence of all the samples in the dictionary (what's the easiest way to get all the values?)\n",
        "4. Oops! We just found another sample! Add ```{L. Beijerinick : 65}``` to the dictionary.\n",
        "5. Print the species with the highest growth.\n",
        "\n",
        "\n"
      ]
    },
    {
      "cell_type": "code",
      "execution_count": 51,
      "metadata": {
        "id": "8JOxai9ZlReC",
        "outputId": "8ba75079-4497-4897-ef12-930588d416c7",
        "colab": {
          "base_uri": "https://localhost:8080/"
        }
      },
      "outputs": [
        {
          "output_type": "stream",
          "name": "stdout",
          "text": [
            "91\n",
            "75.6\n",
            "{'E. coli': 60, 'S. aureus': 82, 'P. aeruginosa': 75, 'K. pneumoniae': 91, 'A. baumannii': 70, 'L. Beijerinick': 65}\n"
          ]
        }
      ],
      "source": [
        "# Format reminder\n",
        "#1\n",
        "species = [\"E. coli\", \"S. aureus\", \"P. aeruginosa\", \"K. pneumoniae\", \"A. baumannii\"]\n",
        "conf = [60, 82, 75, 91, 70]\n",
        "\n",
        "growths = dict(zip(species, conf))\n",
        "#2\n",
        "print(growths.get('K. pneumoniae'))\n",
        "#3\n",
        "print(sum(growths.values()) / len(growths.values()))\n",
        "#4\n",
        "growths.update({'L. Beijerinick' : 65})\n",
        "print(growths)"
      ]
    }
  ],
  "metadata": {
    "colab": {
      "provenance": [],
      "toc_visible": true
    },
    "kernelspec": {
      "display_name": "Python 3",
      "name": "python3"
    },
    "language_info": {
      "codemirror_mode": {
        "name": "ipython",
        "version": 3
      },
      "file_extension": ".py",
      "mimetype": "text/x-python",
      "name": "python",
      "nbconvert_exporter": "python",
      "pygments_lexer": "ipython3",
      "version": "3.11.5"
    }
  },
  "nbformat": 4,
  "nbformat_minor": 0
}