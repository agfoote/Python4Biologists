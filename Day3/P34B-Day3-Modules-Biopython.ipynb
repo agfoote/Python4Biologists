{
  "cells": [
    {
      "cell_type": "markdown",
      "metadata": {
        "id": "AGviCGpfMeF1"
      },
      "source": [
        "# Practical Python Programming for Biologists\n",
        "Author: Dr. Daniel Pass | www.CompassBioinformatics.com\n",
        "\n",
        "---"
      ]
    },
    {
      "cell_type": "markdown",
      "metadata": {
        "id": "nJIEKPXz-yjG"
      },
      "source": [
        "\n",
        "# Using Modules in Python\n",
        "In Python, modules are files containing Python code that can be imported and used in your Python scripts. There are a wide range of built-in modules, as well as third-party modules that can be installed using package managers like pip. You can also build your own to provide a way to organize and reuse code, making it easier to build complex programs, however for now, we'll explore just how to use modules in Python for bioinformatics tasks.\n",
        "\n",
        "We've already used some modules through the week, most notably matplotlib for graphing so hopefully it already makes a little of sense!"
      ]
    },
    {
      "cell_type": "markdown",
      "metadata": {
        "id": "kozoeohWMiQl"
      },
      "source": [
        "## Importing Modules\n",
        "To use a module in Python, you need to import it into your script. There are a few ways to import modules but most simply just using the word import, followed by the name of the module works"
      ]
    },
    {
      "cell_type": "code",
      "execution_count": 1,
      "metadata": {
        "id": "1DwY72RA-yjG",
        "outputId": "07cc523d-ae05-4760-ffd1-e336e9f3551d",
        "colab": {
          "base_uri": "https://localhost:8080/"
        }
      },
      "outputs": [
        {
          "output_type": "stream",
          "name": "stdout",
          "text": [
            "The Zen of Python, by Tim Peters\n",
            "\n",
            "Beautiful is better than ugly.\n",
            "Explicit is better than implicit.\n",
            "Simple is better than complex.\n",
            "Complex is better than complicated.\n",
            "Flat is better than nested.\n",
            "Sparse is better than dense.\n",
            "Readability counts.\n",
            "Special cases aren't special enough to break the rules.\n",
            "Although practicality beats purity.\n",
            "Errors should never pass silently.\n",
            "Unless explicitly silenced.\n",
            "In the face of ambiguity, refuse the temptation to guess.\n",
            "There should be one-- and preferably only one --obvious way to do it.\n",
            "Although that way may not be obvious at first unless you're Dutch.\n",
            "Now is better than never.\n",
            "Although never is often better than *right* now.\n",
            "If the implementation is hard to explain, it's a bad idea.\n",
            "If the implementation is easy to explain, it may be a good idea.\n",
            "Namespaces are one honking great idea -- let's do more of those!\n"
          ]
        }
      ],
      "source": [
        "import this"
      ]
    },
    {
      "cell_type": "code",
      "execution_count": 3,
      "metadata": {
        "id": "9soEX_OA-yjH"
      },
      "outputs": [],
      "source": [
        "import antigravity"
      ]
    },
    {
      "cell_type": "markdown",
      "metadata": {
        "id": "wVoSqQbc-yjH"
      },
      "source": [
        "\n",
        "Now lets look at something useful! We'll first use math for simplicity, then do some bioinformatics afterwards. You can import the entire module and access its functions, classes, and variables using the module name as a prefix.\n",
        "\n",
        "You can import the entire module and access its functions, classes, and variables using the module name as a prefix."
      ]
    },
    {
      "cell_type": "code",
      "execution_count": 4,
      "metadata": {
        "id": "YfGaFfs3LwhR",
        "outputId": "10b1fdfe-b6a3-4605-a0b1-0c2b8072e9a7",
        "colab": {
          "base_uri": "https://localhost:8080/"
        }
      },
      "outputs": [
        {
          "output_type": "stream",
          "name": "stdout",
          "text": [
            "The area of a circle with radius 5 is: 78.53981633974483\n"
          ]
        }
      ],
      "source": [
        "import math               ## As a Brit it is frustrating writing math instead of maths, but we can't have everything\n",
        "\n",
        "radius = 5\n",
        "area = math.pi * math.pow(radius, 2)      ## pi and pow are specifically from the math module\n",
        "print(\"The area of a circle with radius {} is: {}\".format(radius, area))"
      ]
    },
    {
      "cell_type": "markdown",
      "metadata": {
        "id": "iNGM5sq4NI3t"
      },
      "source": [
        "However that can be dangerous as modules can be really large, and also contain functions that you're unaware of and can clash with your own code.\n",
        "\n",
        "First lets just look how many functions and variables are found in the `math` module:"
      ]
    },
    {
      "cell_type": "code",
      "execution_count": 13,
      "metadata": {
        "id": "sJerONB1-yjH",
        "outputId": "18e6b777-c573-4369-e63c-a2fff5cec1e1",
        "colab": {
          "base_uri": "https://localhost:8080/",
          "height": 144
        }
      },
      "outputs": [
        {
          "output_type": "error",
          "ename": "NameError",
          "evalue": "name 'Bio' is not defined",
          "traceback": [
            "\u001b[0;31m---------------------------------------------------------------------------\u001b[0m",
            "\u001b[0;31mNameError\u001b[0m                                 Traceback (most recent call last)",
            "\u001b[0;32m<ipython-input-13-57c97de02be6>\u001b[0m in \u001b[0;36m<cell line: 0>\u001b[0;34m()\u001b[0m\n\u001b[0;32m----> 1\u001b[0;31m \u001b[0mdir\u001b[0m\u001b[0;34m(\u001b[0m\u001b[0mBio\u001b[0m\u001b[0;34m)\u001b[0m\u001b[0;34m\u001b[0m\u001b[0;34m\u001b[0m\u001b[0m\n\u001b[0m",
            "\u001b[0;31mNameError\u001b[0m: name 'Bio' is not defined"
          ]
        }
      ],
      "source": [
        "dir(math)"
      ]
    },
    {
      "cell_type": "markdown",
      "metadata": {
        "id": "29THsZrD-yjI"
      },
      "source": [
        "You're safer either importing just the functions you want, or use your own alias to avoid clashes if you need the whole module for certain."
      ]
    },
    {
      "cell_type": "code",
      "execution_count": 6,
      "metadata": {
        "id": "fY-s7tBqNhoX",
        "outputId": "e913d0d3-04d4-4220-bcd4-369549b73333",
        "colab": {
          "base_uri": "https://localhost:8080/"
        }
      },
      "outputs": [
        {
          "output_type": "stream",
          "name": "stdout",
          "text": [
            "The square root of 16 is: 4.0\n",
            "The factorial of 16 is: 20922789888000\n"
          ]
        }
      ],
      "source": [
        "from math import sqrt, factorial #importing only certain functions within a libray to avoid code confusion\n",
        "\n",
        "number = 16\n",
        "square_root = sqrt(number)\n",
        "factorial_result = factorial(number)\n",
        "print(\"The square root of {} is: {}\".format(number, square_root))\n",
        "print(\"The factorial of {} is: {}\".format(number, factorial_result))"
      ]
    },
    {
      "cell_type": "markdown",
      "metadata": {
        "id": "HvKePwmuOjxd"
      },
      "source": [
        "Using an alias also just saves on loads of typing! Imagine having to write the first one instead of the second (although as we have used a function here, it is more simple):"
      ]
    },
    {
      "cell_type": "code",
      "execution_count": 7,
      "metadata": {
        "id": "5dtYRIm8PKm2",
        "outputId": "b3cf2c98-6fdb-4215-cedd-e9774c50ecac",
        "colab": {
          "base_uri": "https://localhost:8080/",
          "height": 449
        }
      },
      "outputs": [
        {
          "output_type": "display_data",
          "data": {
            "text/plain": [
              "<Figure size 640x480 with 1 Axes>"
            ],
            "image/png": "[encoded data removed]"
          },
          "metadata": {}
        }
      ],
      "source": [
        "import matplotlib.pyplot\n",
        "\n",
        "def plot_data(x, y):\n",
        "    matplotlib.pyplot.plot(x, y)\n",
        "    matplotlib.pyplot.xlabel(\"How many times you've typed it out\")\n",
        "    matplotlib.pyplot.ylabel(\"Feels\")\n",
        "    matplotlib.pyplot.show()\n",
        "\n",
        "x = [1,2,3,6]\n",
        "y = [\"It's fine\", \"a bit annoying\", \"I hate this\", \"ok I'll use aliases\"]\n",
        "\n",
        "plot_data(x, y)"
      ]
    },
    {
      "cell_type": "markdown",
      "metadata": {
        "id": "s41jRyL7-yjI"
      },
      "source": [
        "Using the import X as Y is really handy!"
      ]
    },
    {
      "cell_type": "code",
      "execution_count": 8,
      "metadata": {
        "id": "sHa4cZ5zQCqW",
        "outputId": "9ab20a4a-4002-4e49-be32-e30d3f7d19e1",
        "colab": {
          "base_uri": "https://localhost:8080/",
          "height": 449
        }
      },
      "outputs": [
        {
          "output_type": "display_data",
          "data": {
            "text/plain": [
              "<Figure size 640x480 with 1 Axes>"
            ],
            "image/png": "[encoded data removed]"
          },
          "metadata": {}
        }
      ],
      "source": [
        "import matplotlib.pyplot as plt #Example of an alias\n",
        "\n",
        "def plot_data(x, y):\n",
        "    plt.plot(x, y)\n",
        "    plt.xlabel('Feels')\n",
        "    plt.ylabel(\"How many times you've done it\")\n",
        "    plt.show()\n",
        "\n",
        "x = [1,2,3,6]\n",
        "y = [\"It's fine\", \"It's fine\",\"It's fine\",\"It's fine\"]\n",
        "\n",
        "plot_data(x, y)"
      ]
    },
    {
      "cell_type": "markdown",
      "metadata": {
        "id": "7D_eZYf7RAIO"
      },
      "source": [
        "# Biopython\n",
        "Biopython is a widely-used Python library for bioinformatics that offers a huge range of tools and modules. (Honestly, it has almost everything in there!). Think back to the work we did loading, parsing, and interpretting simple fasta files. Biopython has built in class objects that already know what different formats should look like, and so gives you easy access.\n",
        "\n",
        "That's just one advantage, but it also has lots of common and complex functions and methods to ease your coding requirements too.\n",
        "\n",
        "Here's an example of using Biopython's Seq module to perform a simple sequence analysis:"
      ]
    },
    {
      "cell_type": "markdown",
      "metadata": {
        "id": "BZOaYyLbwBH7"
      },
      "source": [
        "## Sequence Manipulation"
      ]
    },
    {
      "cell_type": "code",
      "execution_count": 20,
      "metadata": {
        "colab": {
          "base_uri": "https://localhost:8080/"
        },
        "id": "8B6r3LmxRDft",
        "outputId": "11f43259-780a-40d4-97dd-b9999a77fca0"
      },
      "outputs": [
        {
          "output_type": "stream",
          "name": "stdout",
          "text": [
            "ATGCAGTACGTC\n",
            "<class 'Bio.Seq.Seq'>\n"
          ]
        }
      ],
      "source": [
        "# Remember to only import the functions you're interested in\n",
        "from Bio.Seq import Seq\n",
        "\n",
        "# Create a DNA sequence\n",
        "sequence = Seq(\"ATGCAGTACGTC\")\n",
        "\n",
        "print(sequence)\n",
        "print(type(sequence))"
      ]
    },
    {
      "cell_type": "markdown",
      "metadata": {
        "id": "prOZgHvwSFOf"
      },
      "source": [
        "Oh no! The module isn't installed! 99.9% of the time it's really easy to install a python module using pip (python installation program). On your own computer or server you'd type this command without the ```!``` but that is required on collab/Jupyter to tell it that you're using a bash command, not python.\n",
        "\n",
        "**Once it's intalled try and run the command above again.**"
      ]
    },
    {
      "cell_type": "code",
      "execution_count": 10,
      "metadata": {
        "colab": {
          "base_uri": "https://localhost:8080/"
        },
        "id": "chTidw8vStbv",
        "outputId": "f9982187-4ab7-4b4e-9a17-b35c4ce49842"
      },
      "outputs": [
        {
          "output_type": "stream",
          "name": "stdout",
          "text": [
            "Collecting biopython\n",
            "  Downloading biopython-1.85-cp311-cp311-manylinux_2_17_x86_64.manylinux2014_x86_64.whl.metadata (13 kB)\n",
            "Requirement already satisfied: numpy in /usr/local/lib/python3.11/dist-packages (from biopython) (1.26.4)\n",
            "Downloading biopython-1.85-cp311-cp311-manylinux_2_17_x86_64.manylinux2014_x86_64.whl (3.3 MB)\n",
            "\u001b[2K   \u001b[90m━━━━━━━━━━━━━━━━━━━━━━━━━━━━━━━━━━━━━━━━\u001b[0m \u001b[32m3.3/3.3 MB\u001b[0m \u001b[31m22.2 MB/s\u001b[0m eta \u001b[36m0:00:00\u001b[0m\n",
            "\u001b[?25hInstalling collected packages: biopython\n",
            "Successfully installed biopython-1.85\n"
          ]
        }
      ],
      "source": [
        "!pip install biopython"
      ]
    },
    {
      "cell_type": "markdown",
      "metadata": {
        "id": "vf-mjyKTyppE"
      },
      "source": [
        "One thing to note here. While the ```print(sequence)``` command outputs the sequence, we are not actually looking at a string. The ```type()``` shows us that it is a class (more on what a class is later). However, it has been defined that when asked to print, it will output the sequence.\n",
        "\n",
        "First lets look at using the library.\n",
        "\n",
        "The Biopython Seq module has various built in functions for manipulating sequences. Looking back to the exercise to complement and reverse complement a string of DNA, this is much simpler!"
      ]
    },
    {
      "cell_type": "code",
      "execution_count": 15,
      "metadata": {
        "colab": {
          "base_uri": "https://localhost:8080/"
        },
        "id": "KC9o87fnyWja",
        "outputId": "e8ec3d8e-674f-4648-c0cf-e31d3b9677e4"
      },
      "outputs": [
        {
          "output_type": "stream",
          "name": "stdout",
          "text": [
            "Reverse complement: GACGTACTGCAT\n"
          ]
        }
      ],
      "source": [
        "# Print the reverse complement\n",
        "print(\"Reverse complement:\", sequence.reverse_complement())"
      ]
    },
    {
      "cell_type": "markdown",
      "metadata": {
        "id": "9kV-dKDo0jIc"
      },
      "source": [
        "Compare what we've just done back to methods like ```.count()```. The ```.reverse_complement()``` method works in the same way, by having functions and definitions hidden in the background. It's just that this new method came from inside a 3rd party library rather than built into python itself.\n",
        "\n",
        "Why build our own complement and reverse_complement functions, when a library can do it for us??\n",
        "\n",
        "What functions are included in our module? Often it's easier to use Google or the official documentation, but you can also use the ```dir()``` function to print them:"
      ]
    },
    {
      "cell_type": "code",
      "execution_count": 19,
      "metadata": {
        "id": "D-MMkI831Ejk",
        "outputId": "6cf4a4f6-487b-4ae0-9b1d-4e8cbcf3f82e",
        "colab": {
          "base_uri": "https://localhost:8080/"
        }
      },
      "outputs": [
        {
          "output_type": "execute_result",
          "data": {
            "text/plain": [
              "['__abstractmethods__',\n",
              " '__add__',\n",
              " '__annotations__',\n",
              " '__array_ufunc__',\n",
              " '__bytes__',\n",
              " '__class__',\n",
              " '__contains__',\n",
              " '__delattr__',\n",
              " '__dict__',\n",
              " '__dir__',\n",
              " '__doc__',\n",
              " '__eq__',\n",
              " '__format__',\n",
              " '__ge__',\n",
              " '__getattribute__',\n",
              " '__getitem__',\n",
              " '__getstate__',\n",
              " '__gt__',\n",
              " '__hash__',\n",
              " '__imul__',\n",
              " '__init__',\n",
              " '__init_subclass__',\n",
              " '__iter__',\n",
              " '__le__',\n",
              " '__len__',\n",
              " '__lt__',\n",
              " '__module__',\n",
              " '__mul__',\n",
              " '__ne__',\n",
              " '__new__',\n",
              " '__radd__',\n",
              " '__reduce__',\n",
              " '__reduce_ex__',\n",
              " '__repr__',\n",
              " '__rmul__',\n",
              " '__setattr__',\n",
              " '__sizeof__',\n",
              " '__slots__',\n",
              " '__str__',\n",
              " '__subclasshook__',\n",
              " '__weakref__',\n",
              " '_abc_impl',\n",
              " '_data',\n",
              " 'back_transcribe',\n",
              " 'complement',\n",
              " 'complement_rna',\n",
              " 'count',\n",
              " 'count_overlap',\n",
              " 'defined',\n",
              " 'defined_ranges',\n",
              " 'endswith',\n",
              " 'find',\n",
              " 'index',\n",
              " 'islower',\n",
              " 'isupper',\n",
              " 'join',\n",
              " 'lower',\n",
              " 'lstrip',\n",
              " 'removeprefix',\n",
              " 'removesuffix',\n",
              " 'replace',\n",
              " 'reverse_complement',\n",
              " 'reverse_complement_rna',\n",
              " 'rfind',\n",
              " 'rindex',\n",
              " 'rsplit',\n",
              " 'rstrip',\n",
              " 'search',\n",
              " 'split',\n",
              " 'startswith',\n",
              " 'strip',\n",
              " 'transcribe',\n",
              " 'translate',\n",
              " 'upper']"
            ]
          },
          "metadata": {},
          "execution_count": 19
        }
      ],
      "source": [
        "dir(Seq)"
      ]
    },
    {
      "cell_type": "markdown",
      "metadata": {
        "id": "WCQvvERv-yjJ"
      },
      "source": [
        "### Exercise\n",
        "\n",
        "1. Read the insulin sequence into a new biopython sequence object\n",
        "2. Transcribe this DNA sequence into RNA, and then into the amino acid sequence using biopython seq methods (```.transcribe()``` is DNA -> RNA, and ```.translate()``` is DNA/RNA -> amino acids).\n",
        "3. Extension: Print the Amino acid sequence with spacing so that `1 aa -> 3 RNA` so that it aligns below the RNA output\n",
        "\n",
        "i.e.:\n",
        "\n",
        "```\n",
        "....CCAGGCUUGAGCCAGGGU....\n",
        "....-Q--A--*--A--R--V-....\n",
        "```"
      ]
    },
    {
      "cell_type": "code",
      "execution_count": 33,
      "metadata": {
        "id": "4-7R7jRb-yjJ",
        "outputId": "81f1f929-9ff9-4c35-b299-fee0b56a37c2",
        "colab": {
          "base_uri": "https://localhost:8080/"
        }
      },
      "outputs": [
        {
          "output_type": "stream",
          "name": "stdout",
          "text": [
            "RNA_sequence: CUCGAGGGGCCUAGACAUUGCCCUCCAGAGAGAGCACCCAACACCCUCCAGGCUUGAGCCAGGGUGUCCCCUUCCUACCUUGGAGAGAGCAGCCCCAGGGCAUCCUGCAGGGGGUGCUGGGACACCAGCUGGCCUUCAAGGUCUCUGCCUCCCUCCAGCCACCCCACUACACGCUGCUGGGAUCCUGGAUCUCAGCUCCCUGGCCGACAACACUGGCAAACUCCUACUCAUCCACGAAGGCCCUCCUGGGCAUGGUGGUCCUUCCCAGCCUGGCAGUCUGUUCCUCACACACCUUGUCAUGUCCUCUCCAGCUGCCGGGCCUCAGAGCACUGUGGCGUCCUGGGGCAGCCACCGCAU\n",
            "AA_sequence: LEGPRHCPPERAPNTLQA*ARVSPSYLGESSPRASCRGCWDTSWPSRSLPPSSHPTTRCWDPGSQLPGRQHWQTPTHPRRPSWAWWSFPAWQSVPHTPCHVLSSCRASEHCGVLGQPPH\n"
          ]
        }
      ],
      "source": [
        "insulin = \"\"\"CTCGAGGGGCCTAGACATTGCCCTCCAGAGAGAGCACCCAACACCCTCCAGGCTTGA\n",
        "GCCAGGGTGTCCCCTTCCTACCTTGGAGAGAGCAGCCCCAGGGCATCCTGCAGGGGGTGC\n",
        "TGGGACACCAGCTGGCCTTCAAGGTCTCTGCCTCCCTCCAGCCACCCCACTACACGCTGC\n",
        "TGGGATCCTGGATCTCAGCTCCCTGGCCGACAACACTGGCAAACTCCTACTCATCCACGA\n",
        "AGGCCCTCCTGGGCATGGTGGTCCTTCCCAGCCTGGCAGTCTGTTCCTCACACACCTTGT\n",
        "CATGTCCTCTCCAGCTGCCGGGCCTCAGAGCACTGTGGCGTCCTGGGGCAGCCACCGCAT\"\"\"\n",
        "\n",
        "# Remember to import the module\n",
        "from Bio.Seq import Seq\n",
        "\n",
        "# Create object, get rid of line breaks and replace with no breaks\n",
        "ins = Seq(insulin.replace(\"\\n\",\"\"))\n",
        "# Call methods\n",
        "ins_RNA = ins.transcribe()\n",
        "ins_aa = ins_RNA.translate()\n",
        "\n",
        "print(\"RNA_sequence:\", ins_RNA)\n",
        "print(\"AA_sequence:\", ins_aa)\n"
      ]
    },
    {
      "cell_type": "markdown",
      "metadata": {
        "id": "WBmmlNgKS_eu"
      },
      "source": [
        "---\n",
        "\n",
        "## Bioinformatic file formats with Biopython\n",
        "\n",
        "When we have worked with files before it has been using them in the context of plain text and we format the input/output in our own way. That involved saving header lines separately, and using with and while loops.\n",
        "\n",
        "Biopython can help us make this easier because it already understands what different bioinformatic formats should look like.\n",
        "\n",
        "Here let's read in a fasta file containing a range of CO1 sequences from fungi. Note how we now automatically have (at least) two elements: the description, and the sequence.\n",
        "\n",
        "Using the SeqIO function ```.parse()``` and specifying \"fasta\" format, it does all the hard work for us."
      ]
    },
    {
      "cell_type": "code",
      "execution_count": 38,
      "metadata": {
        "id": "YZ4YN3gLTHSu",
        "outputId": "bc5fe9b9-5f7d-4873-ca3a-090848fb958d",
        "colab": {
          "base_uri": "https://localhost:8080/"
        }
      },
      "outputs": [
        {
          "output_type": "stream",
          "name": "stdout",
          "text": [
            "OQ616982.1 Nothophytophthora chlamydospora isolate CL316 cytochrome oxidase subunit I (coxI) gene, partial cds; mitochondrial\n",
            "AATCATAAAGATATTGGTACTTTATATTTAATTTTTAGTGCTTTTGCAGGTATTGTTGGTACAACATTATCTGTTTTAATTCGAATGGAATTAGCACAACCTGGTAATCAAATTTTTATGGGAAATCATCAATTATATAATGTTGTTGTAACAGCACATGCATTTATTATGGTATTCTTTTTAGTTATGCCAGCGTTAATTGGTGGTTTTGGAAACTGGTTTGTACCTTTAATGATTGGTGCACCAGATATGGCTTTCCCACGTATGAATAATATTAGTTTTTGGTTATTACCCCCAGCTTTATTATTATTAGTATCATCAGCTATTGTTGAATCAGGTGCTGGTACTGGTTGGACTGTTTACCCTCCTTTATCAAGTGTACAAGCACATTCAGGACCTTCAGTAGATTTAGCTATATTTAGTTTACATTTAGCAGGTATTTCATCTTTATTAGGTGCTATAAATTTTATTTCTACTATATATAATATGAGAGCTCCTGGTTTAAGTTTCCATAGATTACCTTTATTTGTTTGGTCAGTTTTAATTACAGCTTTTCTTTTATTATTAACTTTACCTGTTTTAGCTGGAGCAATTACAATGTTATTAACAGATAGAAATTTAAATACTTCTTTTTACGATCCATCAGGTGGAGGAGATCCCGTATTATATCAACATTTATTTTGGTTTTTTGGGCATCCTGAAGTTTATGTTTTAATTTTACCGGCTTTTGGTATTATTAGTCAAGTTTCTGCAGCTTTTGCAAAAAAAAATGTTTTTGGTTATTTAGGTATGGTTTATGCTATGTTATCAATAGGTTTATTAGGTTCGATTGTATGGGCACATCATATGTTTACTGTAGGTTTAGATGTTGATACTAGAGCTTATTTTTCTGCCGCTACTATGATTATTGCCGTACCTACGGGTATTAAAATTTTTAGTTGGTTAGCTACTTTATGGGGAGGTTCTTTAAAATTTGAAACACCTTTATTATTTGTTTTAGGTTTTATTTTATTATTCGTTGTTGGTGGTGTAACTGGGGTTGTAATGTCAAATTCTGGTTTAGATATTGCCATTCATGATACTTATTATATTGTCGGACATTTCCATTACGTTCTATCTATGGGTGCGGTATTTGGGATTTTTACTGGATTTTATTTTTGGATTGGAAAAATTTCTGGTCGTAGATATCCTGAAATTTTAGGTCAAATTCATTTTTGGTTATTCTTTATTGGGGTAAATTTAACCTTTTTTCCAATGCATTTCTTAGGTTTAGCTGGTATGCCAAGAAGAATTCCTGATTTCCCTGATGCTATGAGTGGTTGGAATGCTATTAGTAGTTTTGGTTC\n",
            "Sequence length: 1346\n",
            "\n",
            "OQ605417.1 Pythiaceae sp. MHJ-2022a isolate PA229 cytochrome oxidase subunit II (cox2) gene, partial cds; hypothetical protein (orf32) gene, complete cds; and cytochrome oxidase subunit I (coxI) gene, partial cds; mitochondrial\n",
            "TTTCAAGATCCTGCAACACCAGTTATGGAAGGTATTATAAACTTTCATCATGATTTAATGTTTTTTTTAATTATTGTAACTGTTTTTGTTTGTTGGATGTTATTTAGAGTTATTATTCTTTTTGATGAAAAAAAAAATCCAGTACCTTCTACTATTGTACACGGTGCTACTATTGAAATTATTTGGACTTCTATTCCTGCTTTAATCTTGTTAACTGTTGCTATTCCTTCATTTGCTTTATTATATTCTATGGATGAAGTTATTGATCCTATAATTACTCTTAAAGTAATAGGTAGTCAATGGTATTGGAGTTATGAATATTCTGATAATTTAGAATTTGCAGATGAGCCTTTAATTTTTGATAGTTATATGGTACAAGAAGATGATTTAGAAATAGGTCAACTTAGATTATTAGAAGTTGATAATCGTGTTGTAGTTCCTACAAATAGTCATATAAGAGTTTTAATTACTGCTTCAGATGTATTACATTCATGGGCTATACCTTCTTTAGGTTTAAAATTAGATGCTTGTCCTGGTCGTTTAAATCAAACTTCTATGTTTATTAAAAGAGAAGGTGTTTTTTATGGACAATGTAGTGAAATTTGTGGAGTAAATCATGGTTTTATGCCTATTGTTGTTGAAGCTGTTTCATTAGAAGATTATTTAACTTGGTTAAAAAATAAAATTAATTTTGATTTAGAAGCTTAATTAAAAAATTTTTATGTTTTTTAAAATAATTGGTACTATTCTTATAATATTGTTATTATTTTCAGATATTAAAAATATTAAAAATAAAATTAAACAATATTTAAATAAATAATAATTAAAAAGACCAA\n",
            "Sequence length: 836\n",
            "\n",
            "OQ605416.1 Pythiaceae sp. MHJ-2022a isolate PA232 cytochrome oxidase subunit II (cox2) gene, partial cds; hypothetical protein (orf32) gene, complete cds; and cytochrome oxidase subunit I (coxI) gene, partial cds; mitochondrial\n",
            "TTTCAAGATCCTGCAACACCAGTTATGGAAGGTATTATAAACTTTCATCATGATTTAATGTTTTTTTTAATTATTGTAACTGTTTTTGTTTGTTGGATGTTATTTAGAGTTATTATTCTTTTTGATGAAAAAAAAAATCCAGTACCTTCTACTATTGTACACGGTGCTACTATTGAAATTATTTGGACTTCTATTCCTGCTTTAATCTTGTTAACTGTTGCTATTCCTTCATTTGCTTTATTATATTCTATGGATGAAGTTATTGATCCTATAATTACTCTTAAAGTAATAGGTAGTCAATGGTATTGGAGTTATGAATATTCTGATAATTTAGAATTTGCAGATGAGCCTTTAATTTTTGATAGTTATATGGTACAAGAAGATGATTTAGAAATAGGTCAACTTAGATTATTAGAAGTTGATAATCGTGTTGTAGTTCCTACAAATAGTCATATAAGAGTTTTAATTACTGCTTCAGATGTATTACATTCATGGGCTATACCTTCTTTAGGTTTAAAATTAGATGCTTGTCCTGGTCGTTTAAATCAAACTTCTATGTTTATTAAAAGAGAAGGTGTTTTTTATGGACAATGTAGTGAAATTTGTGGAGTAAATCATGGTTTTATGCCTATTGTTGTTGAAGCTGTTTCATTAGAAGATTATTTAACTTGGTTAAAAAATAAAATTAATTTTGATTTAGAAGCTTAATTAAAAAATTTTTATGTTTTTTAAAATAATTGGTACTATTCTTATAATATTGTTATTATTTTCAGATATTAAAAATATTAAAAATAAAATTAAACAATATTTAAATAAATAATAATTAAAAAGACCAATGCTCTTTTTAATTTATTTTATAAAAGTAATTTTTAATTTAAGATAAAATTTAAAATATTAAAAAATGAATTTACAAAATATAAATAATTGGTCAACAAGATGGCTTTTTTCAACA\n",
            "Sequence length: 952\n",
            "\n",
            "OQ605415.1 Pythiaceae sp. MHJ-2022a isolate PA231 cytochrome oxidase subunit II (cox2) gene, partial cds; hypothetical protein (orf32) gene, complete cds; and cytochrome oxidase subunit I (coxI) gene, partial cds; mitochondrial\n",
            "TTTCAAGATCCTGCAACACCAGTTATGGAAGGTATTATAAACTTTCATCATGATTTAATGTTTTTTTTAATTATTGTAACTGTTTTTGTTTGTTGGATGTTATTTAGAGTTATTATTCTTTTTGATGAAAAAAAAAATCCAGTACCTTCTACTATTGTACACGGTGCTACTATTGAAATTATTTGGACTTCTATTCCTGCTTTAATCTTGTTAACTGTTGCTATTCCTTCATTTGCTTTATTATATTCTATGGATGAAGTTATTGATCCTATAATTACTCTTAAAGTAATAGGTAGTCAATGGTATTGGAGTTATGAATATTCTGATAATTTAGAATTTGCAGATGAGCCTTTAATTTTTGATAGTTATATGGTACATTTAGAAATAGGTCAACTTAGATTATTAGAAGTTTTTTTTCAAGATAATCGTGTTGTAGTTCCTACAAATAGTCATATAAGAGTTTTAATTACTGCTTCAGATGTATTACATTCATGGGCTATACCTTCTTTAGGTTTAAAATTAGATGCTTGTCCTGGTCGTTTAAATCAAACTTCTATGTTTATTAAAAGAGAAGGTGTTTTTTATGGACAATGTAGTGAAATTTGTGGAGTAAATCATGGTTTTATGCCTATTGTTGTTGAAGCTGTTTCATTAGAAGATTATTTAACTTGGTTAAAAAATAAAATTAATTTTGATTTAGAAGCTTAATTAAAAAATTTTTATGTTTTTTAAAATAATTGGTACTATTCTTATAATATTGTTATTATTTTCAGATATTAAAAATATTAAAAATAAAATTAAACAATATTTAAATAAATAATAATTAAAAAGACCAATGCTCTTTTTAATTTATTTTATAAAAGTAATTTTTAATTTAAGATAAAATTTAAAATATTAAAAAATGAATTTACAAAATATAAATAATTGGTCAACAAGATGGC\n",
            "Sequence length: 941\n",
            "\n",
            "OQ605414.1 Pythiaceae sp. MHJ-2022a isolate PA230 cytochrome oxidase subunit II (cox2) gene, partial cds; hypothetical protein (orf32) gene, complete cds; and cytochrome oxidase subunit I (coxI) gene, partial cds; mitochondrial\n",
            "TTTCAAGATCCTGCAACACCAGTTATGGAAGGTATTATAAACTTTCATCATGATTTAATGTTTTTTTTAATTATTGTAACTGTTTTTGTTTGTTGGATGTTATTTAGAGTTATTATTCTTTTTGATGAAAAAAAAAATCCAGTACCTTCTACTATTGTACACGGTGCTACTATTGAAATTATTTGGACTTCTATTCCTGCTTTAATCTTGTTAACTGTTGCTATTCCTTCATTTGCTTTATTATATTCTATGGATGAAGTTATTGATCCTATAATTACTCTTAAAGTAATAGGTAGTCAATGGTATTGGAGTTATGAATATTCTGATAATTTAGAATTTGCAGATGAGCCTTTAATTTTTGATAGTTATATGGTACAAGAAGATGATTTAGAAATAGGTCAACTTAGATTATTAGAAGTTGATAATCGTGTTGTAGTTCCTACAAATAGTCATATAAGAGTTTTAATTACTGCTTCAGATGTATTACATTCATGGGCTATACCTTCTTTAGGTTTAAAATTAGATGCTTGTCCTGGTCGTTTAAATCAAACTTCTATGTTTATTAAAAGAGAAGGTGTTTTTTATGGACAATGTAGTGAAATTTGTGGAGTAAATCATGGTTTTATGCCTATTGTTGTTGAAGCTGTTTCATTAGAAGATTATTTAACTTGGTTAAAAAATAAAATTAATTTTGATTTAGAAGCTTAATTAAAAAATTTTTATGTTTTTTAAAATAATTGGTACTATTCTTATAATATTGTTATTATTTTCAGATATTAAAAATATTAAAAATAAAATTAAACAATATTTAAATAAATAATAATTAAAAAGACCAATGCTCTTTTTAATTTATTTTATAAAAGTAATTTTTAATTTAAGATAAAATTTAAAATATTAAAAAATGAATTTACAAAATATAAATAATTGGTCAACAAGATGGCTTTTTTCAACA\n",
            "Sequence length: 952\n",
            "\n",
            "OQ605413.1 Pythiaceae sp. MHJ-2022a isolate PA228 cytochrome oxidase subunit II (cox2) gene, partial cds; hypothetical protein (orf32) gene, complete cds; and cytochrome oxidase subunit I (coxI) gene, partial cds; mitochondrial\n",
            "TTTCAAGATCCTGCAACACCAGTTATGGAAGGTATTATAAACTTTCATCATGATTTAATGTTTTTTTTAATTATTGTAACTGTTTTTGTTTGTTGGATGTTATTTAGAGTTATTATTCTTTTTGATGAAAAAAAAAATCCAGTACCTTCTACTATTGTACACGGTGCTACTATTGAAATTATTTGGACTTCTATTCCTGCTTTAATCTTGTTAACTGTTGCTATTCCTTCATTTGCTTTATTATATTCTATGGATGAAGTTATTGATCCTATAATTACTCTTAAAGTAATAGGTAGTCAATGGTATTGGAGTTATGAATATTCTGATAATTTAGAATTTGCAGATGAGCCCATGGGCTATACCTTCTTTAGGTTTAAAATTAGATGCTTGTCCTGGTCGTTTAAATCAAACTTCTATGTTTATTAAAAGAGAAGGTGTTTTTTATGGACAATGTAGTGAAATTTGTGGAGTAAATCATGGTTTTATGCCTATTGTTGTTGAAGCTGTTTCATTAGAAGATTATTTAACTTGGTTAAAAAATAAAATTAATTTTGATTTAGAAGCTTAATTAAAAAATTTTTATGTTTTTTAAAATAATTGGTACTATTCTTATAATATTGTTATTATTTTCAGATATTAAAAATATTAAAAATAAAATTAAACAATATTTAAATAAATAATAATTAAAAAGACCAATGCTCTTTTTAATTTATTTTATAAAAGTAATTTTTAATTTAAGATAAAATTTAAAATATTAAAAAATGAATTTACAAAATATAAATAATTGGTCAACAAGATGGCTTTTTTCAACA\n",
            "Sequence length: 812\n",
            "\n",
            "OQ605412.1 Phytophthora x cambivora isolate TJ197 cytochrome oxidase subunit II (cox2) gene, partial cds; hypothetical protein (orf32) gene, complete cds; and cytochrome oxidase subunit I (coxI) gene, partial cds; mitochondrial\n",
            "GGCAATTAGGTTTTCAAGATCCAGCAACTCCTGTTATGGAAGGTATTATTAATTTTCATCATGATTTAATGTTCTTTTTAATTACTATTACTGTTTTCGTTTGTTGGATGTTATTTAGAGTTATTACTCTTTTTGATGAAAAAAAAAATAAAATACCTGCAACCATTGTACATGGTGCTACTATTGAAATTATTTGGACTTCTATTCCAGCTTTAATTTTATTAATTGTTGCTATTCCTTCTTTTGCATTATTATATTCAATGGATGAAGTTATTGATCCTATTATTACATTAAAAGTGATTGGTAGTCAATGGTATTGGAGCTATGAGTATTCTGATAATTTAGAATTTTCAGATGAACCTTTAATTTTTGATAGTTATATGGTACAAGAAGATGATTTAGCAATAGGTCAATTTAGACTTTTAGAAGTAGATAATCGTGTAGTAGTTCCTACTAATAGTCATATTAGAGTATTAATTACAGCATCAGATTATTATTTACTGATATTAAACAAATAATCAATAAAATTAAACAATTTTTTAATAAATAAAAAATTTATCTTAATTTAAAGATAATAAAAAATTAAAAAAACCAACGCTTTTTTTAATTCAAAATATATATCTAATTTTGCATTTAAAATGAATTTTAAAAATATTCAAATATGAATTTTCAAAATATAAATAAATGGTCAACAAGATGGCTTTTTTCAACA\n",
            "Sequence length: 712\n",
            "\n",
            "OQ605411.1 Phytophthora pseudosyringae isolate TJ1528 cytochrome oxidase subunit II (cox2) gene, partial cds; hypothetical protein (orf32) gene, complete cds; and cytochrome oxidase subunit I (coxI) gene, partial cds; mitochondrial\n",
            "GCAATTAGGTTTTCAAGATCCCGCAACTCCAGTTATGGAAGGTATTATTAACTTTCATCATGATTTAATGTTTTTTTTAATTATGATTACTGTATTTGTTTGTTGGATGTTGTTTAGAGTTATTACTCTTTTTGATGAAAAAACAAATAAAATTCCAGCAACTATTGTACATGGTGCTACAATTGAAATTATTTGGACTACTCTTCCAGCTTTAATTTTATTAACAGTTGCCGTACCTTCTTTTGCATTATTATATTCAATGGATGAAGTAATTGATCCTATTATTACTTTAAAAGTTATAGGTAGTCAATGGTATTGGAGTTATGAATATTCAGATAATTTAGAATTTTCAGATGAACCTTTAATTTTTGATAGTTATATGGTTCAAGAAGACGATTTAGCTTTAGGGCAATTTAGAATTTTAGAAGTAGATAATCGTGTAGTTGTTCCAACTAATAGTCATATTAGGGTATTAATTACAGCATCAGATGTTTTACATTCATGGGCTATACCTTCATTAGGTATTAAATTAGATGCTTGTCCAGGTCGTTTAAATCAAACATCAATGTTTATTAAAAGAGAAGGTGTTTTTTATGGACAATGTAGTGAAATTTGTGGAGTAAATCATGGATTTATGCCTATTGTTGTAGAAGCAGTTTCATTAGAAGATTATTTACTTTGGTTAAAAAATAAAATTAATTTTAATATTTAATAAAAAAATTATGATATTTAAACTAATTGGTATAATTTTTTTAATATTATTATTATTTACAGATATTAGAAAGATACTTAATAAAATCAAACAATTTTTAAATAAATAAAAAATAATTTATTATCTAAGATAATAAAAAATTAAAAAAACCAACGCTTTTTTTAATTTTAAAATAAAATATATAATTTTGCTTTTAAAATAAATTTTCAAAATATTCAAAAATGAATTTTCAAAATATAAATAAATGGTCAACAAGATGGCTTTTTTCAACA\n",
            "Sequence length: 984\n",
            "\n",
            "OQ605410.1 Phytophthora infestans isolate T30-4 cytochrome oxidase subunit II (cox2) gene, partial cds; hypothetical protein (orf32) gene, complete cds; and cytochrome oxidase subunit I (coxI) gene, partial cds; mitochondrial\n",
            "GCAATTAGGTTTTCAAGATCCAGCAACTCCAGTTATGGAAGGTATTATTAACTTTCACCATGATTTAATGTTTTTTTTAATTATGATTACTGTGTTTGTTTGTTGGATGTTATTTAGAGTTATTACTCTTTTTGATGAAAAAAAAAATAAAATACCATCAACTGTTGTACATGGAGCTACTATAGAAATTATTTGGACTTCAATTCCAGCTTTAATTTTATTAATAGTTGCAGTTCCTTCTTTCGCGTTATTATATTCAATGGATGAAGTAATTGACCCATTTAGAAGTAGATAATCGTGTAGTTGTTCCAACTAATAGTCATATTAGGGTATTAATTACAGCATCAGATGTTTTACATTCATGGGCTATACCTTCATTAGGTATTAAATTAGATGCTTGTCCAGGTCGTTTAAATCAAACATCAATGTTTATTAAAAGAGAAGGTGTTTTTTATGGACAATGTAGTGAAATTTGTGGAGTAAATCATGGATTTATGCCTATTGTTGTAGAAGCAGTTTCATTAGAAGATTATTTACTTTGGTTAAAAAATAAAATTAATATTATTACTTTAAAAGTAATTGGTAGTCAATGGTATTGGAGTTATGAATATTCAGATAATTTAGAATTTTCAGATGAACCTTTAATTTTTGATAGTTATATGGTACAAGAAGATGATTTAGCTATTGGTCAATTTAGACTTTTAGAAGTGGATAATCGTGTAGTAGTTCCAACTAATAGTCATATTAGAGTATTAATTACTGCATCAGATGTATTACATTCATGGGCTATACCGTCATTAGGTATAAAATTAGATGCTTGTCCAGGTCGTTTAAATCAAACTTCGATGTTTATTAAAAGAGAGGGTGTTTTTTATGGACAATGTAGTGAAATTTGTGGAGTAAATCATGGATTTATGCCTATTGTTATAGAAGCAGTATCATTAGAAGATTATTTAACTTGGTTAAAAAATAAAATTAATTTTGATTTTAATGTATAATAAGTAAAAACATATATGATATTTAAAATCATTGGTATAATTTTTATAGTAATATTATTATTTACAGATATTAAACAAATAATTAACAAAATTAAGCAATTTTTCCATAAATAATGGAAATTAAAAAAGCCAACGCTTTTTTTAATAAAAATATAAATAATTTTGCATTTAAAATAAATTAAAAAAAAAAAATATTCAAAAATGAATTTTCAAAATATAAATAAATGGTCAACAAGATGGCTTTTTTCAACA\n",
            "Sequence length: 1250\n",
            "\n",
            "============\n",
            "Imported 9 sequences\n"
          ]
        }
      ],
      "source": [
        "from Bio import SeqIO, Seq\n",
        "\n",
        "count = 0\n",
        "for seq_record in SeqIO.parse(\"/content/co1_sequences.fasta\",\"fasta\"):\n",
        "\n",
        "    # Print the header, sequence, and length of each record as we go through the file\n",
        "    print(seq_record.description)\n",
        "    print(seq_record.seq)\n",
        "    print(\"Sequence length:\", len(seq_record))\n",
        "    print()\n",
        "\n",
        "    count += 1\n",
        "\n",
        "print(\"============\")\n",
        "print(f\"Imported {count} sequences\")"
      ]
    },
    {
      "cell_type": "markdown",
      "metadata": {
        "id": "wVMXdZMo-yjJ"
      },
      "source": [
        "Above we're just printing the lines as they come in. Now lets just only select just some records from the input file (if the description contains PA22), and keep them in their own list."
      ]
    },
    {
      "cell_type": "code",
      "execution_count": 39,
      "metadata": {
        "id": "KG-VnJzC-yjJ"
      },
      "outputs": [],
      "source": [
        "from Bio import SeqIO, Seq\n",
        "\n",
        "PA22_co1s = []\n",
        "for seq_record in SeqIO.parse(\"/content/co1_sequences.fasta\",\"fasta\"):\n",
        "    if \"PA22\" in seq_record.description:\n",
        "        PA22_co1s.append(seq_record)"
      ]
    },
    {
      "cell_type": "markdown",
      "metadata": {
        "id": "fg3NFKbh-yjJ"
      },
      "source": [
        "Then lets use the ```.translate()``` method again to convert the sequence to amino acid but this time specify the codon coding table."
      ]
    },
    {
      "cell_type": "code",
      "execution_count": 40,
      "metadata": {
        "id": "CLs5TjVn-yjJ",
        "outputId": "56325285-c1de-4650-b03e-da4b68f98923",
        "colab": {
          "base_uri": "https://localhost:8080/"
        }
      },
      "outputs": [
        {
          "output_type": "stream",
          "name": "stdout",
          "text": [
            "OQ605417.1 Pythiaceae sp. MHJ-2022a isolate PA229 cytochrome oxidase subunit II (cox2) gene, partial cds; hypothetical protein (orf32) gene, complete cds; and cytochrome oxidase subunit I (coxI) gene, partial cds; mitochondrial\n",
            "FQDPATPVMEGIMNFHHDLMFFLIIVTVFVCWMLF*VIILFDEKKNPVPSTIVHGATIEIIWTSIPALILLTVAIPSFALLYSMDEVIDPMITLKVMGSQWYWSYEYSDNLEFADEPLIFDSYMVQEDDLEMGQL*LLEVDNRVVVPTNSHM*VLITASDVLHSWAMPSLGLKLDACPGRLNQTSMFIK*EGVFYGQCSEICGVNHGFMPIVVEAVSLEDYLTWLKNKINFDLEA*LKNFYVF*NNWYYSYNIVIIF*Y*KY*K*N*TMFK*MMIKKT\n",
            "\n",
            "OQ605413.1 Pythiaceae sp. MHJ-2022a isolate PA228 cytochrome oxidase subunit II (cox2) gene, partial cds; hypothetical protein (orf32) gene, complete cds; and cytochrome oxidase subunit I (coxI) gene, partial cds; mitochondrial\n",
            "FQDPATPVMEGIMNFHHDLMFFLIIVTVFVCWMLF*VIILFDEKKNPVPSTIVHGATIEIIWTSIPALILLTVAIPSFALLYSMDEVIDPMITLKVMGSQWYWSYEYSDNLEFADEPMGYTFF*FKI*CLSWSFKSNFYVY*K**CFLWTM*WNLWSKSWFYAYCCWSCFI**LFNLVKK*N*FWF*SLIKKFLCFLK*LVLFL*YCYYFQMLKMLKMKLNNI*MNNN*KDQCSF*FIL*K*FLI*DKI*NIKKWIYKM*MIGQQDGFFQ\n",
            "\n"
          ]
        },
        {
          "output_type": "stream",
          "name": "stderr",
          "text": [
            "/usr/local/lib/python3.11/dist-packages/Bio/Seq.py:2879: BiopythonWarning: Partial codon, len(sequence) not a multiple of three. Explicitly trim the sequence or add trailing N before translation. This may become an error in future.\n",
            "  warnings.warn(\n"
          ]
        }
      ],
      "source": [
        "for seq_record in PA22_co1s:\n",
        "    # Print the header, sequence, and length of each record as we go through the file\n",
        "    print(seq_record.description)\n",
        "\n",
        "    # Use the .translate method to get the amino acid sequence (using mitochondira coding table)\n",
        "    new_aa = seq_record.seq.translate(table=2)\n",
        "    print(new_aa)\n",
        "    print(\"\")"
      ]
    },
    {
      "cell_type": "markdown",
      "metadata": {
        "id": "8DEty3gQ-yjJ"
      },
      "source": [
        "What exactly is a SeqRecord? It's its own defined ***class*** (More on that in the supplementary section)"
      ]
    },
    {
      "cell_type": "code",
      "execution_count": 41,
      "metadata": {
        "id": "HZFdYIrf-yjJ",
        "outputId": "8c082199-71c4-4622-8bec-d3856846514b",
        "colab": {
          "base_uri": "https://localhost:8080/",
          "height": 256
        }
      },
      "outputs": [
        {
          "output_type": "execute_result",
          "data": {
            "text/plain": [
              "Bio.SeqRecord.SeqRecord"
            ],
            "text/html": [
              "<div style=\"max-width:800px; border: 1px solid var(--colab-border-color);\"><style>\n",
              "      pre.function-repr-contents {\n",
              "        overflow-x: auto;\n",
              "        padding: 8px 12px;\n",
              "        max-height: 500px;\n",
              "      }\n",
              "\n",
              "      pre.function-repr-contents.function-repr-contents-collapsed {\n",
              "        cursor: pointer;\n",
              "        max-height: 100px;\n",
              "      }\n",
              "    </style>\n",
              "    <pre style=\"white-space: initial; background:\n",
              "         var(--colab-secondary-surface-color); padding: 8px 12px;\n",
              "         border-bottom: 1px solid var(--colab-border-color);\"><b>Bio.SeqRecord.SeqRecord</b><br/>def __init__(seq: Optional[Union[&#x27;Seq&#x27;, &#x27;MutableSeq&#x27;]], id: Optional[str]=&#x27;&lt;unknown id&gt;&#x27;, name: str=&#x27;&lt;unknown name&gt;&#x27;, description: str=&#x27;&lt;unknown description&gt;&#x27;, dbxrefs: Optional[list[str]]=None, features: Optional[list[&#x27;SeqFeature&#x27;]]=None, annotations: Optional[_AnnotationsDict]=None, letter_annotations: Optional[dict[str, Sequence[Any]]]=None) -&gt; None</pre><pre class=\"function-repr-contents function-repr-contents-collapsed\" style=\"\"><a class=\"filepath\" style=\"display:none\" href=\"#\">/usr/local/lib/python3.11/dist-packages/Bio/SeqRecord.py</a>A SeqRecord object holds a sequence and information about it.\n",
              "\n",
              "Main attributes:\n",
              " - id          - Identifier such as a locus tag (string)\n",
              " - seq         - The sequence itself (Seq object or similar)\n",
              "\n",
              "Additional attributes:\n",
              " - name        - Sequence name, e.g. gene name (string)\n",
              " - description - Additional text (string)\n",
              " - dbxrefs     - List of database cross references (list of strings)\n",
              " - features    - Any (sub)features defined (list of SeqFeature objects)\n",
              " - annotations - Further information about the whole sequence (dictionary).\n",
              "   Most entries are strings, or lists of strings.\n",
              " - letter_annotations - Per letter/symbol annotation (restricted\n",
              "   dictionary). This holds Python sequences (lists, strings\n",
              "   or tuples) whose length matches that of the sequence.\n",
              "   A typical use would be to hold a list of integers\n",
              "   representing sequencing quality scores, or a string\n",
              "   representing the secondary structure.\n",
              "\n",
              "You will typically use Bio.SeqIO to read in sequences from files as\n",
              "SeqRecord objects.  However, you may want to create your own SeqRecord\n",
              "objects directly (see the __init__ method for further details):\n",
              "\n",
              "&gt;&gt;&gt; from Bio.Seq import Seq\n",
              "&gt;&gt;&gt; from Bio.SeqRecord import SeqRecord\n",
              "&gt;&gt;&gt; record = SeqRecord(Seq(&quot;MKQHKAMIVALIVICITAVVAALVTRKDLCEVHIRTGQTEVAVF&quot;),\n",
              "...                    id=&quot;YP_025292.1&quot;, name=&quot;HokC&quot;,\n",
              "...                    description=&quot;toxic membrane protein&quot;)\n",
              "&gt;&gt;&gt; print(record)\n",
              "ID: YP_025292.1\n",
              "Name: HokC\n",
              "Description: toxic membrane protein\n",
              "Number of features: 0\n",
              "Seq(&#x27;MKQHKAMIVALIVICITAVVAALVTRKDLCEVHIRTGQTEVAVF&#x27;)\n",
              "\n",
              "If you want to save SeqRecord objects to a sequence file, use Bio.SeqIO\n",
              "for this.  For the special case where you want the SeqRecord turned into\n",
              "a string in a particular file format there is a format method which uses\n",
              "Bio.SeqIO internally:\n",
              "\n",
              "&gt;&gt;&gt; print(record.format(&quot;fasta&quot;))\n",
              "&gt;YP_025292.1 toxic membrane protein\n",
              "MKQHKAMIVALIVICITAVVAALVTRKDLCEVHIRTGQTEVAVF\n",
              "&lt;BLANKLINE&gt;\n",
              "\n",
              "You can also do things like slicing a SeqRecord, checking its length, etc\n",
              "\n",
              "&gt;&gt;&gt; len(record)\n",
              "44\n",
              "&gt;&gt;&gt; edited = record[:10] + record[11:]\n",
              "&gt;&gt;&gt; print(edited.seq)\n",
              "MKQHKAMIVAIVICITAVVAALVTRKDLCEVHIRTGQTEVAVF\n",
              "&gt;&gt;&gt; print(record.seq)\n",
              "MKQHKAMIVALIVICITAVVAALVTRKDLCEVHIRTGQTEVAVF</pre>\n",
              "      <script>\n",
              "      if (google.colab.kernel.accessAllowed && google.colab.files && google.colab.files.view) {\n",
              "        for (const element of document.querySelectorAll('.filepath')) {\n",
              "          element.style.display = 'block'\n",
              "          element.onclick = (event) => {\n",
              "            event.preventDefault();\n",
              "            event.stopPropagation();\n",
              "            google.colab.files.view(element.textContent, 117);\n",
              "          };\n",
              "        }\n",
              "      }\n",
              "      for (const element of document.querySelectorAll('.function-repr-contents')) {\n",
              "        element.onclick = (event) => {\n",
              "          event.preventDefault();\n",
              "          event.stopPropagation();\n",
              "          element.classList.toggle('function-repr-contents-collapsed');\n",
              "        };\n",
              "      }\n",
              "      </script>\n",
              "      </div>"
            ]
          },
          "metadata": {},
          "execution_count": 41
        }
      ],
      "source": [
        "type(seq_record)"
      ]
    },
    {
      "cell_type": "markdown",
      "metadata": {
        "id": "AJF6cDgIS8me"
      },
      "source": [
        "### Exercise - Working with SeqIO and seq_record objects\n",
        "\n",
        "**Objective:** Using the CO1_sequences file select sequences that encode Phenylalenine (F) in their first codon (startswith), outputting just the first 30 DNA base pairs for each.\n",
        "\n",
        "Based on your confidence, either:\n",
        "- Create an empty list, add each DNA sequence to it and output the relevant DNA sequences\n",
        "- Create a dictionary where the ID is the key and the aa sequence is the value (the ID is the header part before the first whitespace, and can be accessed with ```seq_record.id```).\n",
        "\n",
        "**Remember you are reading in DNA, and want to output DNA. But to test the amino acid!**\n",
        "\n",
        "**Extension:** Output the relevant sequences to a file named Phenylalenine_coding_30bp.fasta\n",
        "\n",
        "Note: Lets assume that we want the rest of the data later in our code, so complete the read data loop first, and then do the filtering in a second loop."
      ]
    },
    {
      "cell_type": "code",
      "execution_count": 56,
      "metadata": {
        "id": "TIOJND-GkUlB",
        "outputId": "7ed362f5-50cf-489e-8d68-bb82e15ac65c",
        "colab": {
          "base_uri": "https://localhost:8080/"
        }
      },
      "outputs": [
        {
          "output_type": "stream",
          "name": "stdout",
          "text": [
            "TTTCAAGATCCTGCAACACCAGTTATGGAA\n",
            "TTTCAAGATCCTGCAACACCAGTTATGGAA\n",
            "TTTCAAGATCCTGCAACACCAGTTATGGAA\n",
            "TTTCAAGATCCTGCAACACCAGTTATGGAA\n",
            "TTTCAAGATCCTGCAACACCAGTTATGGAA\n",
            "OQ605417.1 TTTCAAGATCCTGCAACACCAGTTATGGAA\n",
            "OQ605416.1 TTTCAAGATCCTGCAACACCAGTTATGGAA\n",
            "OQ605415.1 TTTCAAGATCCTGCAACACCAGTTATGGAA\n",
            "OQ605414.1 TTTCAAGATCCTGCAACACCAGTTATGGAA\n",
            "OQ605413.1 TTTCAAGATCCTGCAACACCAGTTATGGAA\n"
          ]
        },
        {
          "output_type": "stream",
          "name": "stderr",
          "text": [
            "/usr/local/lib/python3.11/dist-packages/Bio/SeqIO/FastaIO.py:203: BiopythonDeprecationWarning: Previously, the FASTA parser silently ignored comments at the beginning of the FASTA file (before the first sequence).\n",
            "\n",
            "Nowadays, the FASTA file format is usually understood not to have any such comments, and most software packages do not allow them. Therefore, the use of comments at the beginning of a FASTA file is now deprecated in Biopython.\n",
            "\n",
            "In a future Biopython release, this deprecation warning will be replaced by a ValueError. To avoid this, there are three options:\n",
            "\n",
            "(1) Modify your FASTA file to remove such comments at the beginning of the file.\n",
            "\n",
            "(2) Use SeqIO.parse with the 'fasta-pearson' format instead of 'fasta'. This format is consistent with the FASTA format defined by William Pearson's FASTA aligner software. Thie format allows for comments before the first sequence; lines starting with the ';' character anywhere in the file are also regarded as comment lines and are ignored.\n",
            "\n",
            "(3) Use the 'fasta-blast' format. This format regards any lines starting with '!', '#', or ';' as comment lines. The 'fasta-blast' format may be safer than the 'fasta-pearson' format, as it explicitly indicates which lines are comments. \n",
            "  warnings.warn(\n",
            "/usr/local/lib/python3.11/dist-packages/Bio/Seq.py:2879: BiopythonWarning: Partial codon, len(sequence) not a multiple of three. Explicitly trim the sequence or add trailing N before translation. This may become an error in future.\n",
            "  warnings.warn(\n"
          ]
        }
      ],
      "source": [
        "## Write here\n",
        "from Bio import SeqIO, Seq\n",
        "\n",
        "F_list = []\n",
        "F_dict = {}\n",
        "\n",
        "for seq_record in SeqIO.parse(\"/content/co1_sequences.fasta\",\"fasta\"):\n",
        "    aa_seq = seq_record.seq.translate()\n",
        "\n",
        "    if aa_seq.startswith(\"F\"):\n",
        "        F_list.append(seq_record.seq[:30])\n",
        "        F_dict.update({seq_record.id : seq_record.seq[:30]})\n",
        "\n",
        "for seq in F_list:\n",
        "  print(seq)\n",
        "\n",
        "for id, seq in F_dict.items():\n",
        "  print(id, seq)"
      ]
    },
    {
      "cell_type": "markdown",
      "metadata": {
        "id": "0wK9KHelwNzb"
      },
      "source": [
        "---\n",
        "\n",
        "## Embl / GenBank formats\n",
        "\n",
        "Lets look at a different type of bioinformatic data type: an EMBL file (It's similar to a GenBank file format if you have seen that before, just European!). Open the .embl text file and explore what data is in there before doing the next step. Quite a lot right?!\n",
        "\n",
        "Reading the data with SeqIO means that it will take the plain text file and assign the data to known variable names and methods.\n",
        "\n",
        "We can loop through it as we did above (although this file has just one record in it), or alternatively we can use the \"iterator\" format. This means having your code only move on through the loop when you explicitly use ```next()```. Not as usefull most of the time, but an alternative method."
      ]
    },
    {
      "cell_type": "code",
      "execution_count": 58,
      "metadata": {
        "colab": {
          "base_uri": "https://localhost:8080/"
        },
        "id": "Et_jFdcDxbf7",
        "outputId": "56a6cee6-7915-4dbf-932e-eb102527cc92"
      },
      "outputs": [
        {
          "output_type": "stream",
          "name": "stdout",
          "text": [
            "ID: AM181037.1\n",
            "Name: AM181037\n",
            "Description: Vulpes vulpes complete mitochondrial genome\n",
            "Database cross-references: MD5:d144ebb62c74d216a7b64ffb815300ff, EuropePMC:PMC2892506, EuropePMC:PMC3689046, RFAM:RF00005\n",
            "Number of features: 40\n",
            "/accessions=['AM181037']\n",
            "/sequence_version=1\n",
            "/topology=circular\n",
            "/molecule_type=genomic DNA\n",
            "/data_file_division=MAM\n",
            "/keywords=['12S ribosomal RNA', '12S rRNA gene', '16S ribosomal RNA', '16S rRNA gene', 'ATPase 6 gene', 'ATPase 8 gene', 'ATPase subunit 6', 'ATPase subunit 8', 'COI gene', 'COII gene', 'COIII gene', 'complete genome', 'control region', 'cytb gene', 'cytochrome b', 'cytochrome oxidase subunit I', 'cytochrome oxidase subunit II', 'cytochrome oxidase subunit III', 'NADH dehydrogenase subunit 1', 'NADH dehydrogenase subunit 2', 'NADH dehydrogenase subunit 3', 'NADH dehydrogenase subunit 4', 'NADH dehydrogenase subunit 4L', 'NADH dehydrogenase subunit 5', 'NADH dehydrogenase subunit 6', 'NADH1 gene', 'NADH2 gene', 'NADH3 gene', 'NADH4 gene', 'NADH4L gene', 'NADH5 gene', 'NADH6 gene', 'transfer RNA-Ala', 'transfer RNA-Arg', 'transfer RNA-Asn', 'transfer RNA-Asp', 'transfer RNA-Cys', 'transfer RNA-Gln', 'transfer RNA-Glu', 'transfer RNA-Gly', 'transfer RNA-His', 'transfer RNA-Ile', 'transfer RNA-Leu(CUN)', 'transfer RNA-Leu(UUR)', 'transfer RNA-Lys', 'transfer RNA-Met', 'transfer RNA-Phe', 'transfer RNA-Pro', 'transfer RNA-Ser(AGY)', 'transfer RNA-Ser(UCN)', 'transfer RNA-Thr', 'transfer RNA-Trp', 'transfer RNA-Tyr', 'transfer RNA-Val', 'tRNA-Ala gene', 'tRNA-Arg gene', 'tRNA-Asn gene', 'tRNA-Asp gene', 'tRNA-Cys gene', 'tRNA-Gln gene', 'tRNA-Glu gene', 'tRNA-Gly gene', 'tRNA-His gene', 'tRNA-Ile gene', 'tRNA-Leu(CUN) gene', 'tRNA-Leu(UUR) gene', 'tRNA-Lys gene', 'tRNA-Met gene', 'tRNA-Phe gene', 'tRNA-Pro gene', 'tRNA-Ser(AGY) gene', 'tRNA-Ser(UCN) gene', 'tRNA-Thr gene', 'tRNA-Trp gene', 'tRNA-Tyr gene', 'tRNA-Val gene']\n",
            "/organism=Vulpes vulpes (red fox)\n",
            "/taxonomy=['Eukaryota', 'Metazoa', 'Chordata', 'Craniata', 'Vertebrata', 'Euteleostomi', 'Mammalia', 'Eutheria', 'Laurasiatheria', 'Carnivora', 'Caniformia', 'Canidae', 'Vulpes']\n",
            "/references=[Reference(title=';', ...), Reference(title='Pinniped phylogeny and a new hypothesis for their origin and dispersal', ...)]\n",
            "Seq('GTTAATGTAGCTTAATTAGTAAAGCAAGGCACTGAAAATGCCAAGATGAGTCAT...AAA')\n"
          ]
        }
      ],
      "source": [
        "from Bio import SeqIO\n",
        "\n",
        "# Note the scond parameter is the file format\n",
        "record_iter = SeqIO.parse(\"/content/am181037.embl\",\"embl\")\n",
        "\n",
        "first_record = next(record_iter)\n",
        "print(first_record)"
      ]
    },
    {
      "cell_type": "markdown",
      "metadata": {
        "id": "6bv1PLjz-yjK"
      },
      "source": [
        "It also contains the DNA sequence object too of course!"
      ]
    },
    {
      "cell_type": "code",
      "execution_count": 59,
      "metadata": {
        "id": "TNcvU9U--yjK",
        "outputId": "8f84ea8c-f4e8-4cd0-ea50-707644d32065",
        "colab": {
          "base_uri": "https://localhost:8080/"
        }
      },
      "outputs": [
        {
          "output_type": "stream",
          "name": "stdout",
          "text": [
            "GTTAATGTAGCTTAATTAGTAAAGCAAGGCACTGAAAATGCCAAGATGAGTCATAAGACTCCATAAACACAAAGGTTTGGTCCTGGCCTTCCTATTAGTCCTTAGTAAACTTACACATGCAAGCCTCCACGCCCCAGTGAGAATGCCCTTAAAATCGCTAACGATCTAAAGGAGCAGGTATCAAGCACACTCCTAAGTAGCTCATAACACCTTGCTAAGCCACGCCCCCACGGGATACAGCAGTGATAAAAATTAAGCCATGAACGAAAGTTCGACTAAGTTATACTAAAGAGGGTTGGTAAATTTCGTGCCAGCCACCGCGGTCATACGATTAACCCGAACTAATAGGCCCACGGCGTAAAGCGTGTTTAAGATAACATATTACTAAAGTTAAAACTTAACTAAGCCGTAAAAAGCTACAGTTACCATAAAATATACTACGAAAGTGACTTTAAAATTTTCTGATTACACGATAGCTAAGACCCAAACTGGGATTAGATACCCCACTATGCTTAGCCCTAAACATAAATAGTTCTATAACAAAACAATTCGCCAGAGAACTACTAGCAACAGCTTAAAACTCAAAGGACTTGGCGGTGCTTTATATCCCTCTAGAGGAGCCTGTTCTATAATCGATAAACCCCGATAAACCTCACCATCCCTTGCTAATACAGTCTATATACCGCCATCTTCAGCAAACCCTTAAAAGGTAGAGCAGTAAGCAGGATCATCACGCATAAAAAAGTTAGGTCAAGGTGTAACTTATGGGATGGGAAGAAATGGGCTACATTTTCTATTTTAAGAACACTTTACGAAAGTTTTTATGAAACTAGAAACTGAAGGAGGATTTAGTAGTAAATTAAGAATAGAGAGCTTAATTGAATAGGGCCATGAAGCACGCACACACCGCCCGTCACCCTCCTCAAGTAATAAGACTGAGGCCATAAACATATTAACTCACATCAAAACACGAGAGGAGATAAGTCGTAACAAGGTAAGCATACCGGAAGGTGTGCTTGGATTAACCAAAGTGTAGCTTAATAAAAGCATCTGGCTTACACCCAGAAGATTTCATGATTAATGACCACTTTGAACGAAAGCTAGCCCAATCGACTTTAAATTAAACTATCACAGAGTTACAAAACAAAACATTTAGTCAAACCATTAAAGTATAGGAGATAGAAATTCTAATTGGAGCTATAGAGATAGTACCGCAAGGGAATGATGAAAGACATTTTCAAAGTACAAAACAGCAAAGATTACACCTTGTACCTTTTGCATAATGAGCTAGCTAGAAATAACTTAACAAAGAGAACTTAAGCTAAGTACCCCGAAACCAGACGAGCTACCTATGAACAATCTAAAAGGATCAACTCGTCTATGTGGCAAAATAGTGAGAAGATTTATAGGTAGAGGTGAAAAGCCAAACGAGCCTGGTGATAGCTGGTTACCCACAAACAGAATTTTAGTTCAACTTTAAATTTACCTAAAAAAAACGAAATTTCAATGTAAATTTAAAATATAATCTAAAAAGGTACAGCTTTTTAGAGCAAGGACACAACCTTTATTAGAGAGTAAATATTAACATAACCATAGTTGGCCTAAAAGCAGCCATCAATTGAGAAAGCGTTCAAGCTCAACAAACAATGCAACTTAATCCCAACCATATTGCATCAACTCCTAATTCACCTCCTGGGTTATTCTATTTAAGTATAGAAGCAATAATGCTAGTATGAGTAACAAGAATTATTTCTCCCCGCATAAGCTTATATCAGAAACGGATAGACCACTGATAGTTAACAACCTGATAAAACCAACCCAAAAATAAAACACTTATCTACCCCATTGTTAACCCAACACAGGTATGCACTCAAGGAAAGATTAAAAGAAGTAAAAGGAACTCGGCAAACATAAACCCCGCCTGTTTACCAAAAACATCACCTCCAGCATTACCAGTATTGGAGGCACTGCCTGCCCAGTGACATCCGTTAAACGGCCGCGGTATCCTGACCGTGCAAAGGTAGCATAATCATTTGTTCTCTAAATAGGGACTTGTATGAATGGCCACACGAGGGTTTAACTGTCTCTTACTTCCAATCAGTGAAATTGACCTTCCCGTGAAGAGGCGGGAATACTATAATAAGACGAGAAGACCCTATGGAGCTTTAATTAATTAGCCCAAACTTATGAACTTTAAACCCCACTGGGAATAACATACTACCATTGTTATGGGCTGACAATTTAGGTTGGGGTGACCTCGGAATATAAAAAAACTCCCGAGTGATTAAAATTTAGACCTACCAGTCAAAATGTACCATCACTTATTGATCCAATAATCTTTGATCAACGAAACAAGTTACCCTAGGGATAACAGCGCAATCCTATTTAAGAGTCCATATCGACAATAGGGTTTACGACCTCGATGTTGGATCAGGACATCCTAATGGTGCAGCAGCTATTAAGGGTTCGTTTGTTCAACGATTAAAGTCCTACGTGATCTGAGTTCAGACCGGAGTAATCCAGGTCGGTTTCTATCTATTAAACAGTTTCTCCCAGTACGAAAGGACAAGAGAAACAAGGCCTACCTTACAGAGGCGCCTTAGAACTAATAGATGAAGTTAAGCTCAATCTAACCAGTTTATCCCTCTAAAAGCCCAAGAAAAGGGGCTTTGTTAGGGTGGCAGAGCCCGGCAATTGCGTAAGACTTAAACCTTTATCCCCAGAGGTTCAATTCCTCTCCCTAACAACATGTTCTTTATCAACATTCTCTCCCTTATCGTCCCAATCCTTCTCGCCGTAGCTTTCCTCACTCTCGTTGAACGGAAAGTCCTAGGCTATATACAACTTCGAAAAGGACCCAATATTGTAGGTCCCTATGGTCTCCTCCAACCAATCGCCGATGCTGTAAAACTCTTTACAAAAGAACCCCTACGTCCCCTTACATCGTCTATATCAATATTTATTCTAGCACCCATTCTGGCCCTATCATTAGCTCTAACCATATGAATCCCACTCCCCATGCCCTACCCACTCATTAATATAAATCTAGGGGTGCTATTTATATTAGCCATGTCAAGCCTCGCCGTATACTCCATCCTCTGATCAGGATGGGCCTCGAACTCCAAGTACGCCCTAATCGGAGCCCTTCGAGCCGTAGCTCAAACAATCTCATACGAAGTCACACTAGCGATCATCCTCCTTTCTATTTTGCTAATAAACGGATCATTCACACTATCCACACTCATTATTACCCAAGAACATATATGACTAATTTTCCCTGCCTGACCTCTAGCCATGATATGATTTATCTCTACCCTAGCAGAAACAAACCGGGCCCCCTTTGACTTAACTGAGGGGGAATCAGAACTGGTCTCAGGGTTTAACGTGGAGTATGCAGCCGGACCCTTCGCCCTATTCTTCCTAGCAGAGTATGCAAATATTATCATAATAAATATCCTCACAACAATTTTATTCTTCGGCGCATTCCACAATCCATTCTTACCAGAGCTCTACTCCATCAACTTCACCATTAAGACCCTTCTACTAACCATCTCTTTTCTATGAATTCGAGCATCCTACCCTCGGTTCCGCTATGACCAATTAATACACCTCCTATGAAAAAACTTCCTACCACTAACTTTGGCCCTGTGCATATGACACGTCGCCCTACCTATTATCACTGCAAGCATTCCACCTCAAACATAAGAAATATGTCTGACAAAAGAGTTACTTTGATAGAGTAAATCATAGAGGTTTAAACCCTCTTATTTCTAGAATAATAGGCCTCGAACCTAATCCTAAGAATTCAAAGATCTTCGTGCTACCAAATTTACACCATATTCTACAGTAAGGTCAGCTAAATTAAGCTATCGGGCCCATACCCCGAAAATGTTGGTTTATATCCTTCCCGTACTAATAAAACCTCCTATCCTCATTGCCATTCTAGCAACCGTCATAACTGGAACTATAATCGTAATACTAAGCTCCCACTGGTTACTAATCTGAATCGGATTCGAAATGAATATGTTAGCCATCATTCCTATTCTAATAAAAAAATTCAATCCACGAGCCATAGAGGCATCCACAAAGTATTTCCTCACACAAGCAACAGCCTCGATATTACTAATAATAGGAGTCACTATCAACCTTCTCTACTCCGGTCAGTGAATAATCTCAAAAGTCTCGAATCCTGCAGCATCAACTATAATAACTATTGCCCTAACAATAAAACTGGGTCTATCCCCATTTCACTTCTGAGTCCCTGAAGTAACCCAAGGCATTTCACTCTCATCAGGTATGATCCTACTGACATGACAAAAAATTGCACCAATATCCGTTCTCTACCAGATCTCACCATCAATCAATACTGACCTTATAACACTAGTGGCCCTCGCGTCTGTCCTAATCGGAGGATGAGGCGGACTTAATCAGACTCAACTACGAAAAATCATAGCATATTCCTCCATCGCACATATAGGCTGAATAGCGGCAATCATTACTTACAACCCCACAATAATATTTCTAAACCTGTCCCTATACATTCTAATAACCCTATCAACATTTATACTATTCATACTGAGCGCATCTACCACAACCCTATCTCTCTCACACACATGAAACAAAATCCCCCTAATTGCTTCCACCATCCTAACTCTAATACTATCCCTGGGAGGGCTTCCACCACTGTCCGGCTTTATTCCTAAATGAATAATTATTCAAGAACTAACAAAAAATGATATAATTGTTGTCCCAACACTTATAGCCATCACTGCACTACTCAACCTATACTTCTACATACGACTCACATACAGTACCGCACTCACTATATTCCCATCCGCAAACAACATAAAAATAAAATGACAATTTGAACACACAAAAAAGATAACCTTGCTACCCCCTCTGATTATTATCTCAACCATACTACTCCCCATCATACCCATAATATCAATTCTGGACTAGGGGTTTAGGTTAAACGAGACCAAGAGCCTTCAAAGCTCTAAGCAAGTGCTGCACACTTAACCCCTGACCAAAACGCTTTAAGGACTGCAGGAATTTATCCTACATCAATTGAATGCAAATCAAACACTTTAATTAAGCTAAGTCCTTACTAGATTGGTGGGCTTCTACCCCACGAAGTTTTAGTTAACAGCTAAATACCCTATAACTGGCTTCAATCTAGCTTCTCCCGCCGTGTAGGAAAAAAAGGCGGGAGAAGCCCCGGCGGCGTCTAAGCTGCTTCTTTGAATTTGCAATTCAATATGAATAATTCACCACAAGGCTTGGTAAAAAGAGGACTTACACCCCTATCTTTAGATTTACAGTCTAACGCTTTTATCAGCCATTTTACCTATGTTCATTAATCGATGATTATTCTCTACTAACCACAAAGACATCGGTACTTTATATTTGCTATTCGGAGCATGAGCCGGTATAGTAGGCACTGCCCTAAGCCTCCTAATTCGAGCCGAATTAGGTCAACCCGGCACCTTATTAGGGGACGATCAGATTTATAACGTAATCGTAACCGCACATGCCTTCGTAATAATCTTCTTCATGGTCATACCAATTATAATTGGGGGATTTGGGAACTGATTAGTTCCCCTGATAATTGGTGCCCCAGACATAGCATTTCCTCGGATAAATAACATAAGCTTCTGACTACTTCCCCCATCCTTTCTTCTACTATTAGCATCTTCCATAGTAGAAGCGGGTGCGGGAACTGGGTGAACCGTATATCCCCCATTAGCTGGTAACCTGGCTCATGCTGGAGCATCAGTGGACCTTACAATTTTCTCCCTGCACCTGGCCGGAGTCTCTTCAATTTTAGGAGCTATTAATTTCATCACTACTATTATCAATATAAAACCTCCCGCCATATCCCAATACCAAACCCCCCTATTTGTGTGATCAGTCCTAATTACAGCTGTTCTATTACTACTATCACTACCAGTACTGGCTGCTGGAATTACTATGCTTCTGACAGACCGTAACCTTAACACGACATTTTTTGATCCTGCTGGAGGAGGGGACCCTATTTTATACCAACACTTGTTTTGATTCTTCGGACACCCTGAAGTCTACATTTTAATCTTGCCTGGGTTTGGTATAATCTCCCACATCGTTACTTATTATTCAGGAAAGAAAGAGCCCTTCGGTTACATGGGAATGGTATGAGCAATAATGTCTATCGGATTCTTAGGCTTTATCGTATGAGCTCACCACATATTCACTGTAGGAATAGATGTGGATACACGAGCATACTTCACGTCTGCTACTATAATTATCGCTATTCCTACAGGGGTTAAAGTATTCAGTTGATTAGCAACACTCCATGGGGGCAATATTAAATGATCTCCAGCTATACTATGAGCTCTAGGTTTTATTTTCCTATTCACAGTAGGTGGCCTAACGGGCATCGTTTTAGCCAACTCATCCTTAGATATCGTTCTTCATGACACGTACTACGTCGTAGCTCACTTCCACTACGTTCTCTCAATAGGAGCAGTATTTGCTATTATAGGCGGATTTGCCCACTGATTCCCCCTATTCTCAGGCTACACTCTAAATGACACCTGAGCAAAAATCCACTTTACAATTATATTTGTAGGGGTGAACATAACTTTCTTCCCTCAACACTTCCTAGGGCTATCGGGTATGCCCCGTCGATATTCTGACTACCCAGATGCATACACCACTTGAAATACCGTCTCATCTATAGGCTCATTCATCTCACTTACAGCAGTAATACTTATAATCTTCATAATCTGGGAAGCCTTCGCTTCTAAACGGGAGGTCGCAATAGTAGAACTCACTACAACTAACATTGAATGATTACACGGATGTCCTCCTCCGTACCACACATTTGAAGAGCCTACGTATGTCATCCAAAAATAAGAAAGGAAGGAATCGAACCCCCTAAAACTGGTTTCAAGCCAGTGCCATAACCACTATGTCTTTCTCAATTAGGAGGTATTAGTAAAACATTACATGACTTTGTCAAAGTCAAGTCATAGGTGAAACCCCTATATATCTCTATGGCGTACCCTTTTCAACTCGGATTACAGGACGCGACCTCCCCTATTATAGAGGAGCTACTTCATTTTCATGATCATACCCTAATAATCGTATTCTTAATCAGCTCATTAGTTCTTTACATTATTACTTTAATACTAACTACCAAGCTAACCCACACAAGTACAATAGACGCGCAAGAGGTAGAAACAGTCTGAACCATTCTACCAGCCATTATCCTAATCCTGATTGCTCTTCCTTCTCTACGAATTCTCTACATAATGGATGAAATTAATAACCCATCACTAACCGTAAAAACAATAGGCCATCAATGATATTGAAGCTACGAGTACACTGACTATGAAGATCTGAACTTTGACTCCTACATGATTCCTACACAAGAATTAAAACCAGGAGAACTCCGACTATTAGAAGTCGACAACCGAGTCGTTCTCCCAATGGAAATAACTGTCCGAATACTTATTTCTTCAGAAGACGTATTGCACTCATGAGCCGTTCCATCACTAGGCTTAAAAACTGATGCCATCCCAGGACGATTAAATCAAACTACCCTAATAGCGATACGACCAGGGCTATACTACGGCCAATGCTCTGAAATTTGCGGATCCAACCACAGCTTTATACCAATTGTTCTTGAAATAGTCCCACTGTCCTACTTCGAAACCTGATCTGCTGTAATGGTTTAACATAGACAAGACTTACTCATTGAGAAGCTATAAAGCGTTAACCTTTTAAGTTAAAGACTGAGAGTTATAACCTCTCCTTAATGAAATGCCACAGCTAGACACATCAACTTGATTAGTTATAATTCTTTCAATAATTCTAACTCTGTTTATCTTATTCCAACTAAAAGTATCAAAACACTACTATCCAGAGAGCCCAGGACCTAAATCTATCAAGTCTATTAGCAAACACACCCCTTGAGAAAACAAATGAACGAAAATTTATTCGCCTCTTTCGCTACCCCTACAATAATGGGCCTCCCAATCGCTGTATTAATCGTAATATTCCCATCTATTCTATTCCCATCACCTAATCGACTAATTAACAATCGATTAATTTCTATCCAACAGTGATTAATTCAACTTACATCCAAACAGATACTAACAATTCACAACCAAAAAGGACGAACCTGAGCCCTTATGCTGATATCACTGATTTTATTTATTGGCTCGACTAATCTCCTCGGATTGCTACCCCACTCATTCACACCCACAACCCAATTGTCTATAAACCTAGGAATAGCAATTCCCCTGTGAGCAGGGACAGTAATTACCGGGTTCCGCCACAAAACTAAGGCCTCTCTAGCACACTTCCTGCCCCAAGGAACACCCCTCCCCCTAATTCCCATGCTAGTAATCATCGAGACAATTAGTCTATTCATCCAACCTATGGCCTTAGCTGTCCGATTAACAGCCAACATTACCGCAGGACACCTATTAATTCACCTAATTGGAGGGGCCACTCTAGCCCTAATCAACATCAGTGCTACCACAGCCCTTATTACTTTTATAATTCTAGTTTTACTTACCATTCTCGAATTCGCCGTCGCTCTTATTCAGGCCTACGTCTTTACACTACTAGTAAGTCTATACTTACATGACAATACCTAATGACCCACCAAACCCATGCTTACCATATAGTCAATCCGAGCCCATGACCACTAACAGGAGCCCTATCTGCCCTACTTATAACATCGGGTCTCATCATATGATTTCACTACAACTCAATATCTTTACTCACTCTAGGACTTACAACTAACATACTAACTATGTATCAATGATGACGAGACGTAGTTCGAGAAGGCACGTTTCAAGGACACCATACCCCCACTGTGCAAAAAGGGCTACGATATGGAATAATCCTATTTATCGTCTCAGAAGTTTTCTTTTTCGCTGGCTTCTTTTGAGCCTTCTACCACTCCAGCCTAGCTCCAACCCCCGAACTCGGGGGTTGCTGGCCACCCACTGGCATCATTCCTCTGAATCCGCTTGAAGTCCCTCTACTCAACACCTCTGTCCTGCTAGCCTCAGGGGTCTCAATCACCTGAGCCCACCACAGCCTAATAGAAGGCAATCGCAAGCACATACTTCAAGCCCTATTTATTACTATCTCCCTAGGCGTATATTTCACACTACTACAAGCCTCTGAATATTATGAGACATCCTTCACAATCTCCGACGGAGTCTATGGGTCCACATTCTTTATGGCTACCGGATTCCACGGACTGCATGTAATTATCGGCTCCACATTCCTTATTGTCTGCTTTATGCGACAACTGCACTACCACTTCACATCTAATCACCACTTTGGATTTGAAGCTGCTGCATGGTACTGACACTTCGTCGATGTAGTATGACTATTCCTATATGTTTCCATCTATTGATGAGGATCTTACTTCTTTAGTATAATTAGTACAATTGACTTCCAATCAGTTAGCTTCAGACAGATCTGAAAAGAAGTAATTAACATAATACTTACTCTGATAACCAATATTACCCTGGCTTCCCTACTCGTAATAATCGCATTTTGACTTCCTCAACTAAATATTTATGCCGACAAAACCAGTCCTTACGAATGTGGCTTTGACCCCATAGGATCGGCACGTTTACCATTTTCTATAAAATTTTTCCTGGTTGCAATTACATTCCTACTCTTTGACTTAGAAATCGCCCTCCTACTTCCACTACCCTGGGCATCACAAACCAATAAGCTAACAACTATGCTTATCATGGCACTCCTTCTAATCTCACTTCTGGCTGCAAGCCTAGCATATGAATGAACTGAAAAAGGCCTAGAATGAACTGAATATGATAATTAGTTTAAACTAAAACAAATGATTTCGACTCATTAAATTATGATTTAACTCATAATTATCATATGTCCATAGTATATATTAACATCTTCCTGGCATTCATTCTATCATTAATGGGCATACTCGTCTACCGATCCCACCTAATATCATCACTGCTATGCCTAGAAGGCATGATACTGTCACTATTCGTGATGATATCTGTGACTATCCTGAATAATCACCTCACATTAGCTAGCATAATACCAATTGTACTGCTAGTATTCGCCGCCTGCGAAGCAGCATTGGGATTATCTCTACTAGTTATAGTATCTAACACTTACGGAACTGATCATGTGCAAAACCTAAACCTTCTACAATGCTAAAAATTATTATTCCTACCGCTATACTTATTCCCCTAACATGAACATCAAAGCCTAACATAATCTGAATTAACTCCACAATATACAGCCTGCTAATTAGCCTAATTAGTTTGTCTTATCTAAATCAACCGAACGACAACACCCTAAACTCGTCCTTACTATTCTTCTCCGACTCCCTATCAGCACCACTACTGGCACTCACAACATGACTTCTACCACTTATATTGATAGCAAGCCAATCCCATCTATCAAAAGAGCCTCTTATCCGAAAAAAACTATATATCTCAATACTAATTCTACTCCAACTATTCTTAATTATAACCTTCACCGCCACAGAATTAATCCTCTTCTATATTCTATTCGAAGCTACCCTAATTCCCACCCTTATTATTATCACCCGGTGAGGTAATCAGACCGAACGACTAAACGCAGGGCTATACTTCCTGTTTTACAACTTGACAGGATCCCTACCACTTCTCGTAGCACTTCTGTATATTCAAAATAGCATAGGCTCTCTAAACTTCCTCATAATCCAATACTGAATTCAGCCTCTACCAAGCTCCTGATCTAACATTTTTCTATGGTTAGCATGTATGATGGCTTTCATAGTAAAAATACCCCTATACGGCCTCCACTTGTGACTACCAAAGGCACATGTAGAGGCCCCTATTGCCGGTTCTATGGTACTTGCAGCCGTACTTCTAAAACTAGGAGGTTACGGTATAATACGAATCACAACCCTACTAAACCCCCTAACCGACCTGATAGTATACCCCTTCATATTACTATCACTATGGGGCATAATTATAACTAGTTCTATTTGTTTACGTCAAACGGACCTAAAATCTCTAATCGCATACTCTTCCGTTAGCCATATAGCACTTGTCATTGTAGCGGTACTTATCCAAACACCGTGAAGTTACATAGGGGCAACAGCTCTAATAATCGCCCATGGTTTAACATCATCCATACTATTCTGCTTAGCCAACTCAAACTACGAACGAACCCACAGTCGTACTATAATTCTCGCACGAGGCCTCCAAACCCTCCTCCCCCTGATAGCTGCTTGATGACTATTAGCGAGTCTCGCAAACCTAGCCCTTCCCCCAACAATTAACTTAATCGGGGAGCTGTTCGTAGTAATAGCCTCATTCTCATGATCCAATATTACAATTATCCTGATAGGAATAAACATCATCATTACCGCCCTTTATACCCTATATATACTAATCACTACACAACGCGGTAAACATACCCACCATATTAAAAACATCAAACCGTCCTTTACACGGGAGAATGCCCTAATAACCCTCCACTTGCTGCCCTTGCTTCTCCTATCCATCGACCCCAAAGTTGTTCTGGGGCCCATCTACTGCAGGCATAGTTTAACAAAAACATCAGATTGTGAATCTGATAATAAAAGCTCAAATCTTTTTGCCTACCGAAAAAGTATTGCAAGAACTGCTAACTCATGCTCCCATGCATAAAAGCATGGCTTTTTCAACTTTTATAGGATAGAAGTAATCCATTGGTCTTAGGAATCAAAAAATCGGTGCAACTCCGAATAAAAGTAATAAATATATTCGCCTCCTGCATGATCACTGCCTTAATCTTACTCACCCTACCAATCATTATAACCTCTACCAAGCTCTACAAAGACAAATTATATCCATATTATGTAAAAACAGCAACCTCCCACGCATTTATAATTAGCATAATTCCTGCAATAATGTTCATCTATTCTGGACAGGAAATGGTAGTCTCGAACTGGCACTGAATAACGATCCAAACCATAAAACTGTCTATAAGCTTTAAACTAGATTACTTCTCAATAATTTTTGTACCCGTGGCTTTGTTTGTCACATGGTCCATTATGGAGTTCTCTATATGATATATACACTCAGACCCCTACATCAACCGATTTTTTAAATATCTCCTTATATTCCTTATCACTATAATAATTCTAGTGACCGCAAACAACATATTTCAATTGTTCATCGGCTGAGAAGGAGTAGGCATTATATCTTTCCTACTTATTGGATGATGATACGGTCGAACCGATGCAAATACAGCCGCCCTACAAGCCATTCTCTACAACCGAATTGGAGATGTCGGATTCATCATAGCTATAGCATGATTCTTACTACACCTAAATGCGTGAGACCTTCAACAAATTTTTATATCAGCCAACGACAACCTTAATCTTCCCCTATTTGGTCTTTTACTAGCAGCCACCGGCAAATCTGCCCAATTCGGACTACACCCATGACTCCCCTCAGCTATGGAAGGTCCAACTCCCGTATCAGCCCTACTCCACTCCAGTACTATAGTTGTCGCAGGAGTATTTCTACTAATTCGTTTCCACCCCCTAATAGAACAAAATCCAACTATCCAAACCCTCACTCTATGTCTAGGGGCCATCACTACACTGTTTACTGCAATCTGCGCTCTTACACAAAATGATATTAAAAAAATTGTTGCATTCTCTACCTCAAGCCAACTAGGACTTATAATCGTAACAATTGGCATTAACCAACCTTACTTGGCCTTTCTGCACATCTGCACCCACGCATTCTTTAAAGCCATATTATTCATGTGCTCCGGGTCAATTATCCATAGTTTAAATGATGAGCAAGACATTCGAAAAATAGGCGGACTATTTAAAGCCCTCCCCTTTACCACGACCTCCCTTATTATTGGAAGCCTCGCACTGACAGGCATACCATTCCTCACAGGCTTCTATTCCAAAGACCTGATTATCGAGACCGCCAACACGTCGAATACCAACGCCTGAGCCCTCTTAATTACCCTCGTTGCCACATCTATAACTGCCGCCTACAGCACTCGAATTCTATTCTTCGCACTATTAGGCCAGCCCCGCTTTACCCCCATTATTTCCATCAACGAGAATAATCCTTACCTAATTAACTCTATTAAACGCCTACTTCTCGGGAGTGTGTTCGCAGGGTATGTTATCTCCCACAGTATTACTCCCACTACCATCCCACAAATGACTATGCCTCATCATCTGAAAATAGCTGCCCTCGCAGTAACCATCTTGGGTTTCATCCTGGCATTAGAACTAAACCTTACAATGCAAGGGCTCAAATTCAACCACTCATCTCACTATTTCAAGTTTTCAAACCTCCTTGGCTATTACCCCACCATCATACACCGTCTGGCACCCAAAACAAGCCTATCCATAAGTCAAAAATCAGCATCCATACTCCTAGATCATATCTGACTAGAAAGTGTTCTACCAAAATCAATCGCATTCTTCCAAATAAAATCCTCCACCCTAGTTTCAAATCAAAAAGGCCTCATTAAGCTCTATTTCTTCTCATTCATAATCACCATGGCCCTCAGCCTCTCAATTCTTAATTACCACGTGTAACCTCCATAATAACTAACACACCAGTTAATAATGACCAACCAGTAACAATTACCAGTCAAGTACCATAGCTGTATAACGCTGCAATACCCATAGCCTCTTCACTAAAAAATCCAGAATCACCTGTATCATAAATAACCCAGTCTCCCATACCATTAAACTTTAGTACCACCTCCACCTCATCATCCTTTAAGATATAGCAGGCGGTCAATAACTCAGACAGCAGGCCAGTGATAAAAGCCGCCAATACAGCTTTATTAGACACCCAAACTTCAGGGTATTGCTCTGTAGCTATAGCAGTTGTATAACCAAAAACTACCAATATACCCCCTAAGTAAATTAAGAACACCATTAACCCCAAGAAAGATCCTCCAAAATTCAATACAATAGCACAACCAATCCCACCACTAATAATCAACACCAACCCACCATAAATAGGAGAGGGCTTCGTAACAAATCCCACAAAGCTCATCACAAAAACAATACTTAGAATAAATACAATGTATGTTATCATTATTCCCACATGGAATTTAACCATGACTAATGACATGAAAAATCATCGTTGTATTTCAACTATAAGAACATTAATGACCAACATTCGAAAGACTCACCCACTAGCTAAAATCGTAAACGACTCATTCATCGACCTTCCCGCACCATCAAATATTTCTGCCTGATGGAACTTCGGGTCCCTGCTAGGTGTATGCCTTATTCTACAGATTGCAACAGGTCTATTTTTAGCCATACACTATACATCTGACACAGCTACTGCTTTCTCATCTGTCACTCACATCTGCCGAGACGTTAACTATGGCTGAATTATCCGCTACATACATGCAAACGGAGCATCTATATTTTTTATCTGCCTCTTCATGCACGTGGGACGAGGCTTATATTATGGATCTTATGTATTCATAGAAACATGAAATATTGGAATTATCTTATTGTTCGCAACCATGGCCACAGCATTTATGGGCTACGTTTTACCGTGAGGACAAATATCATTCTGAGGGGCAACCGTAATTACAAATCTTCTATCTGCTATTCCCTATATCGGAACCGATCTAGTAGAATGAATTTGAGGGGGCTTCTCAGTAGACAAAGCAACCCTAACACGATTCTTTGCATTCCACTTTATCCTTCCATTCATCATCGCAGCATTAGCGATGGTTCATCTCTTATTTCTCCACGAAACAGGATCCAACAATCCTTCAGGAATCACATCCGACTCAGACAAAATTCCGTTTCACCCCTACTACACAATTAAAGACATCCTAGGAGTTTTACTTCTCCTTTCAGTTCTAATATCACTAGTCCTATTCTCACCAGATCTTTTAGGAGACCCAGACAATTACACCCCCGCAAACCCTCTCAGCACTCCCCCACATATTAAACCCGAATGATACTTTCTATTTGCCTATGCCATTCTCCGGTCCATCCCTAACAAACTAGGAGGAGTCCTAGCCCTAGTGTTCTCAATCCTAATCTTAGCACTTATCCCCCACCTACACACCTCAAAACAACGTGGGATAATATTCCGACCCCTTAGTCAATGCCTATTCTGACTTCTAACCGCAGACCTCCTCACCTTAACTTGAATCGGAGGGCAGCCAGTAGAACACCCCTTTATCATCATTGGCCAAATTGCCTCCATCCTGTATTTTGCTATCTTATTGATTCTAATGCCAACCATTAGCATTATCGAAAACAATCTCCTAAAATGAAGAGTCTTCGTAGTATATTAATTACATTGGTCTTGTAAACCAAAAATGGAGATTAATAATTCTCCCCAAGACTCAAGGAAGAGGCACACGCCCCACCGTCAGCACCCAAAGCTGAAATTCTTTTTAAACTATTCCCTGACACCCGCATTAACCAGTGTATTACGACTATCCCGCGCTCCCAAAACTTGCCCTATGTACGTCGTGCATTACTGCTATGCCCCATGCATATTAAGCATGTACATATACTTATATAATTACATAAGACATACTATGTTTAATCTTACAATAATCTCTATCAGGAGCATACATGACTGCACGTCACTTAGTCCAGTAAGGGATTTATCACCATGCCTCGAGAAACCATCAATCCTTGCTCGAAGTATCCCTCTTCTCGCTCCGGGCCCATATCAACGTGGGGGTTTCTATCATGGAACTATACCTGGCATCTGGTTCTTACCTCAGGGCCATTCTACTTGTTCACTCCAATCCTACTAATCCTCTCAAATGGGACATCTCGATGGACTAATGACTAATCAGCCCATGATCACACATAACTGTGGTGTCATGCATTTGGTATCTTTTTTTTTGGGGGGGGGGAACTTGCTATCACTCAGCTATGACCGCAACGGCACTAACTCTAACCTACATCTGCACTCAGGGAATATGCCCGTCGCGGCCCCGACGCAGTCAGATGATCTGTAGCTGGACTTATTCATTATCATTTATCAACTCCGTGCACAATTCAAGGTGCTATTCAGTCAATGGTTTCAGGACATAAGGACTTTACACACGTACACACGTACGTACACACGTACACACGTACGTACACACGTACACACGTACGTACACACGTACACACGTACGTACACACGTACACACGTACGTACACACGTACGTACGTACGTACACACGTACGTACACACGTACACACGTACGTACACACGTACGTACGTACGTACGTACGTACGTACGTACGACGCACGTACGTACGTACGTACGTACGTACGTACGCACGTACGTACGTACGTACGCACGTACGTACGTACGTACGTACGTACGTACGTACGTACGTACGTACGTACGTACGTACGTACGTACGTACACACGTACGTACGTACGTACACACGTACACACGTACGTACACACGTACACACGTACACACGTACGTACACACGTACGTACACACGTACACACACGTACGTACGTACACGCAAGATATTGAGTTAGCTCATACAAACCCCCCTTACCCCCCGTAAACTCATGCTACTCGCTATACACCTATATATGCCCCGCCAAACCCCAAAAACAGGACTAAGTATATATGGTACTCATAAGCTTCATGTAAATATCGCACAAATGTATTGCTACTCCAGTTAACCTAACTCAGCGGTCTTACACCCGCCAAATCTTGCTGTCTATCTATAGATATCATTTCCTCGATATTTTATTTTTACCGCCTCTATAATTCGCACTAATAATGCCAAAAACAAAA\n",
            "16813\n"
          ]
        }
      ],
      "source": [
        "print(first_record.seq)\n",
        "print(len(first_record.seq))"
      ]
    },
    {
      "cell_type": "markdown",
      "metadata": {
        "id": "sxb7ZcmN5T_0"
      },
      "source": [
        "That's just the plain text that you get if you open it usually and also hides the list of features. Let's do something computational.\n",
        "\n",
        "First lets look at some of the data that is in our new object:"
      ]
    },
    {
      "cell_type": "code",
      "execution_count": 60,
      "metadata": {
        "colab": {
          "base_uri": "https://localhost:8080/"
        },
        "id": "sYDjHi3b0TUr",
        "outputId": "48e9ba7c-8c43-4e0d-f4f1-f5a0081725ea"
      },
      "outputs": [
        {
          "output_type": "stream",
          "name": "stdout",
          "text": [
            "Vulpes vulpes (red fox)\n",
            "['Eukaryota', 'Metazoa', 'Chordata', 'Craniata', 'Vertebrata', 'Euteleostomi', 'Mammalia', 'Eutheria', 'Laurasiatheria', 'Carnivora', 'Caniformia', 'Canidae', 'Vulpes']\n"
          ]
        }
      ],
      "source": [
        "## Access annotations\n",
        "print(first_record.annotations[\"organism\"])\n",
        "print(first_record.annotations[\"taxonomy\"])"
      ]
    },
    {
      "cell_type": "markdown",
      "metadata": {
        "id": "36607HdU-yjK"
      },
      "source": [
        "We can use a loop to look through the full list of features"
      ]
    },
    {
      "cell_type": "code",
      "execution_count": 61,
      "metadata": {
        "id": "rKdaP1U8ksyt",
        "outputId": "32093c84-a12d-4fe8-fede-cc44b29a1f7a",
        "colab": {
          "base_uri": "https://localhost:8080/"
        }
      },
      "outputs": [
        {
          "output_type": "stream",
          "name": "stdout",
          "text": [
            "Type is: source \tQualifiers are: {'organism': ['Vulpes vulpes'], 'organelle': ['mitochondrion'], 'mol_type': ['genomic DNA'], 'country': ['Sweden'], 'db_xref': ['taxon:9627']}\n",
            "Type is: tRNA \tQualifiers are: {'gene': ['tRNA-Phe'], 'product': ['transfer RNA-Phe']}\n",
            "Type is: rRNA \tQualifiers are: {'gene': ['12S rRNA'], 'product': ['12S ribosomal RNA']}\n",
            "Type is: tRNA \tQualifiers are: {'gene': ['tRNA-Val'], 'product': ['transfer RNA-Val']}\n",
            "Type is: rRNA \tQualifiers are: {'gene': ['16S rRNA'], 'product': ['16S ribosomal RNA']}\n",
            "Type is: tRNA \tQualifiers are: {'gene': ['tRNA-Leu(UUR)'], 'product': ['transfer RNA-Leu(UUR)']}\n",
            "Type is: CDS \tQualifiers are: {'transl_table': ['2'], 'gene': ['NADH1'], 'product': ['NADH dehydrogenase subunit 1'], 'db_xref': ['GOA:Q08GV4', 'InterPro:IPR001694', 'InterPro:IPR018086', 'UniProtKB/TrEMBL:Q08GV4'], 'protein_id': ['CAJ57144.1'], 'translation': ['MFFINILSLIVPILLAVAFLTLVERKVLGYMQLRKGPNIVGPYGLLQPIADAVKLFTKEPLRPLTSSMSMFILAPILALSLALTMWIPLPMPYPLINMNLGVLFMLAMSSLAVYSILWSGWASNSKYALIGALRAVAQTISYEVTLAIILLSILLMNGSFTLSTLIITQEHMWLIFPAWPLAMMWFISTLAETNRAPFDLTEGESELVSGFNVEYAAGPFALFFLAEYANIIMMNILTTILFFGAFHNPFLPELYSINFTIKTLLLTISFLWIRASYPRFRYDQLMHLLWKNFLPLTLALCMWHVALPIITASIPPQT']}\n",
            "Type is: tRNA \tQualifiers are: {'gene': ['tRNA-Ile'], 'product': ['transfer RNA-Ile']}\n",
            "Type is: tRNA \tQualifiers are: {'gene': ['tRNA-Gln'], 'product': ['transfer RNA-Gln']}\n",
            "Type is: tRNA \tQualifiers are: {'gene': ['tRNA-Met'], 'product': ['transfer RNA-Met']}\n",
            "Type is: CDS \tQualifiers are: {'transl_table': ['2'], 'gene': ['NADH2'], 'product': ['NADH dehydrogenase subunit 2'], 'db_xref': ['GOA:Q08GV3', 'InterPro:IPR001750', 'InterPro:IPR003917', 'InterPro:IPR010933', 'UniProtKB/TrEMBL:Q08GV3'], 'protein_id': ['CAJ57145.1'], 'translation': ['MKPPILIAILATVMTGTMIVMLSSHWLLIWIGFEMNMLAIIPILMKKFNPRAMEASTKYFLTQATASMLLMMGVTINLLYSGQWMISKVSNPAASTMMTIALTMKLGLSPFHFWVPEVTQGISLSSGMILLTWQKIAPMSVLYQISPSINTDLMTLVALASVLIGGWGGLNQTQLRKIMAYSSIAHMGWMAAIITYNPTMMFLNLSLYILMTLSTFMLFMLSASTTTLSLSHTWNKIPLIASTILTLMLSLGGLPPLSGFIPKWMIIQELTKNDMIVVPTLMAITALLNLYFYMRLTYSTALTMFPSANNMKMKWQFEHTKKMTLLPPLIIISTMLLPIMPMMSILD']}\n",
            "Type is: tRNA \tQualifiers are: {'gene': ['tRNA-Trp'], 'product': ['transfer RNA-Trp']}\n",
            "Type is: tRNA \tQualifiers are: {'gene': ['tRNA-Ala'], 'product': ['transfer RNA-Ala']}\n",
            "Type is: tRNA \tQualifiers are: {'gene': ['tRNA-Asn'], 'product': ['transfer RNA-Asn']}\n",
            "Type is: rep_origin \tQualifiers are: {'direction': ['RIGHT'], 'note': ['Origin of L strand replication']}\n",
            "Type is: tRNA \tQualifiers are: {'gene': ['tRNA-Cys'], 'product': ['transfer RNA-Cys']}\n",
            "Type is: tRNA \tQualifiers are: {'gene': ['tRNA-Tyr'], 'product': ['transfer RNA-Tyr']}\n",
            "Type is: CDS \tQualifiers are: {'transl_table': ['2'], 'gene': ['COI'], 'product': ['cytochrome oxidase subunit I'], 'db_xref': ['GOA:Q08GV2', 'InterPro:IPR000883', 'InterPro:IPR023615', 'InterPro:IPR023616', 'UniProtKB/TrEMBL:Q08GV2'], 'protein_id': ['CAJ57146.1'], 'translation': ['MFINRWLFSTNHKDIGTLYLLFGAWAGMVGTALSLLIRAELGQPGTLLGDDQIYNVIVTAHAFVMIFFMVMPIMIGGFGNWLVPLMIGAPDMAFPRMNNMSFWLLPPSFLLLLASSMVEAGAGTGWTVYPPLAGNLAHAGASVDLTIFSLHLAGVSSILGAINFITTIINMKPPAMSQYQTPLFVWSVLITAVLLLLSLPVLAAGITMLLTDRNLNTTFFDPAGGGDPILYQHLFWFFGHPEVYILILPGFGMISHIVTYYSGKKEPFGYMGMVWAMMSIGFLGFIVWAHHMFTVGMDVDTRAYFTSATMIIAIPTGVKVFSWLATLHGGNIKWSPAMLWALGFIFLFTVGGLTGIVLANSSLDIVLHDTYYVVAHFHYVLSMGAVFAIMGGFAHWFPLFSGYTLNDTWAKIHFTIMFVGVNMTFFPQHFLGLSGMPRRYSDYPDAYTTWNTVSSMGSFISLTAVMLMIFMIWEAFASKREVAMVELTTTNIEWLHGCPPPYHTFEEPTYVIQK']}\n",
            "Type is: tRNA \tQualifiers are: {'gene': ['tRNA-Ser(UCN)'], 'product': ['transfer RNA-Ser(UCN)']}\n",
            "Type is: tRNA \tQualifiers are: {'gene': ['tRNA-Asp'], 'product': ['transfer RNA-Asp']}\n",
            "Type is: CDS \tQualifiers are: {'transl_table': ['2'], 'gene': ['COII'], 'note': [\"translation exception (stop codon is completed by the addition of 3' residues to the mRNA)\"], 'db_xref': ['GOA:Q539C4', 'InterPro:IPR001505', 'InterPro:IPR002429', 'InterPro:IPR008972', 'InterPro:IPR011759', 'InterPro:IPR014222', 'UniProtKB/TrEMBL:Q539C4'], 'protein_id': ['CAJ57147.1'], 'translation': ['MAYPFQLGLQDATSPIMEELLHFHDHTLMIVFLISSLVLYIITLMLTTKLTHTSTMDAQEVETVWTILPAIILILIALPSLRILYMMDEINNPSLTVKTMGHQWYWSYEYTDYEDLNFDSYMIPTQELKPGELRLLEVDNRVVLPMEMTVRMLISSEDVLHSWAVPSLGLKTDAIPGRLNQTTLMAMRPGLYYGQCSEICGSNHSFMPIVLEMVPLSYFETWSAVMV']}\n",
            "Type is: tRNA \tQualifiers are: {'gene': ['tRNA-Lys'], 'product': ['transfer RNA-Lys']}\n",
            "Type is: CDS \tQualifiers are: {'transl_table': ['2'], 'gene': ['ATPase 8'], 'product': ['ATPase subunit 8'], 'db_xref': ['GOA:Q08GV0', 'InterPro:IPR001421', 'UniProtKB/TrEMBL:Q08GV0'], 'protein_id': ['CAJ57148.1'], 'translation': ['MPQLDTSTWLVMILSMILTLFILFQLKVSKHYYPESPGPKSIKSISKHTPWENKWTKIYSPLSLPLQ']}\n",
            "Type is: CDS \tQualifiers are: {'transl_table': ['2'], 'gene': ['ATPase 6'], 'product': ['ATPase subunit 6'], 'db_xref': ['GOA:Q08GU9', 'InterPro:IPR000568', 'InterPro:IPR023011', 'UniProtKB/TrEMBL:Q08GU9'], 'protein_id': ['CAJ57149.1'], 'translation': ['MNENLFASFATPTMMGLPIAVLIVMFPSILFPSPNRLINNRLISIQQWLIQLTSKQMLTIHNQKGRTWALMLMSLILFIGSTNLLGLLPHSFTPTTQLSMNLGMAIPLWAGTVITGFRHKTKASLAHFLPQGTPLPLIPMLVIIETISLFIQPMALAVRLTANITAGHLLIHLIGGATLALINISATTALITFMILVLLTILEFAVALIQAYVFTLLVSLYLHDNT']}\n",
            "Type is: CDS \tQualifiers are: {'transl_table': ['2'], 'gene': ['COIII'], 'product': ['cytochrome oxidase subunit III'], 'note': [\"translation exception (stop codon is completed by the addition of 3' residues to the mRNA)\"], 'db_xref': ['GOA:Q08GU8', 'InterPro:IPR000298', 'InterPro:IPR013833', 'InterPro:IPR024791', 'UniProtKB/TrEMBL:Q08GU8'], 'protein_id': ['CAJ57150.1'], 'translation': ['MTHQTHAYHMVNPSPWPLTGALSALLMTSGLIMWFHYNSMSLLTLGLTTNMLTMYQWWRDVVREGTFQGHHTPTVQKGLRYGMILFIVSEVFFFAGFFWAFYHSSLAPTPELGGCWPPTGIIPLNPLEVPLLNTSVLLASGVSITWAHHSLMEGNRKHMLQALFITISLGVYFTLLQASEYYETSFTISDGVYGSTFFMATGFHGLHVIIGSTFLIVCFMRQLHYHFTSNHHFGFEAAAWYWHFVDVVWLFLYVSIYWWGS']}\n",
            "Type is: tRNA \tQualifiers are: {'gene': ['tRNA-Gly'], 'product': ['transfer RNA-Gly']}\n",
            "Type is: CDS \tQualifiers are: {'transl_table': ['2'], 'gene': ['NADH3'], 'product': ['NADH dehydrogenase subunit 3'], 'note': [\"translation exception (stop codon is completed by the addition of 3' residues to the mRNA)\"], 'db_xref': ['GOA:Q08GU7', 'InterPro:IPR000440', 'UniProtKB/TrEMBL:Q08GU7'], 'protein_id': ['CAJ57151.1'], 'translation': ['MNMMLTLMTNITLASLLVMIAFWLPQLNIYADKTSPYECGFDPMGSARLPFSMKFFLVAITFLLFDLEIALLLPLPWASQTNKLTTMLIMALLLISLLAASLAYEWTEKGLEWTE']}\n",
            "Type is: tRNA \tQualifiers are: {'gene': ['tRNA-Arg'], 'product': ['transfer RNA-Arg']}\n",
            "Type is: CDS \tQualifiers are: {'transl_table': ['2'], 'gene': ['NADH4L'], 'product': ['NADH dehydrogenase subunit 4L'], 'db_xref': ['GOA:Q08GU6', 'InterPro:IPR001133', 'UniProtKB/Swiss-Prot:Q08GU6'], 'protein_id': ['CAJ57152.1'], 'translation': ['MSMVYINIFLAFILSLMGMLVYRSHLMSSLLCLEGMMLSLFVMMSVTILNNHLTLASMMPIVLLVFAACEAALGLSLLVMVSNTYGTDHVQNLNLLQC']}\n",
            "Type is: CDS \tQualifiers are: {'transl_table': ['2'], 'gene': ['NADH4'], 'product': ['NADH dehydrogenase subunit 4'], 'note': [\"translation exception (stop codon is completed by the addition of 3' residues to the mRNA)\"], 'db_xref': ['GOA:Q08GU5', 'InterPro:IPR000260', 'InterPro:IPR001750', 'InterPro:IPR003918', 'InterPro:IPR010227', 'UniProtKB/TrEMBL:Q08GU5'], 'protein_id': ['CAJ57153.1'], 'translation': ['MLKIIIPTAMLIPLTWTSKPNMIWINSTMYSLLISLISLSYLNQPNDNTLNSSLLFFSDSLSAPLLALTTWLLPLMLMASQSHLSKEPLIRKKLYISMLILLQLFLIMTFTATELILFYILFEATLIPTLIIITRWGNQTERLNAGLYFLFYNLTGSLPLLVALLYIQNSMGSLNFLMIQYWIQPLPSSWSNIFLWLACMMAFMVKMPLYGLHLWLPKAHVEAPIAGSMVLAAVLLKLGGYGMMRITTLLNPLTDLMVYPFMLLSLWGMIMTSSICLRQTDLKSLIAYSSVSHMALVIVAVLIQTPWSYMGATALMIAHGLTSSMLFCLANSNYERTHSRTMILARGLQTLLPLMAAWWLLASLANLALPPTINLIGELFVVMASFSWSNITIILMGMNIIITALYTLYMLITTQRGKHTHHIKNIKPSFTRENALMTLHLLPLLLLSIDPKVVLGPIY']}\n",
            "Type is: tRNA \tQualifiers are: {'gene': ['tRNA-His'], 'product': ['transfer RNA-His']}\n",
            "Type is: tRNA \tQualifiers are: {'gene': ['tRNA-Ser(AGY)'], 'product': ['transfer RNA-Ser(AGY)']}\n",
            "Type is: tRNA \tQualifiers are: {'gene': ['tRNA-Leu(CUN)'], 'product': ['transfer RNA-Leu(CUN)']}\n",
            "Type is: CDS \tQualifiers are: {'transl_table': ['2'], 'gene': ['NADH5'], 'product': ['NADH dehydrogenase subunit 5'], 'db_xref': ['GOA:Q08GU4', 'InterPro:IPR001516', 'InterPro:IPR001750', 'InterPro:IPR003945', 'InterPro:IPR010934', 'UniProtKB/TrEMBL:Q08GU4'], 'protein_id': ['CAJ57154.1'], 'translation': ['MNMFASCMITALILLTLPIIMTSTKLYKDKLYPYYVKTATSHAFMISMIPAMMFIYSGQEMVVSNWHWMTIQTMKLSMSFKLDYFSMIFVPVALFVTWSIMEFSMWYMHSDPYINRFFKYLLMFLITMMILVTANNMFQLFIGWEGVGIMSFLLIGWWYGRTDANTAALQAILYNRIGDVGFIMAMAWFLLHLNAWDLQQIFMSANDNLNLPLFGLLLAATGKSAQFGLHPWLPSAMEGPTPVSALLHSSTMVVAGVFLLIRFHPLMEQNPTIQTLTLCLGAITTLFTAICALTQNDIKKIVAFSTSSQLGLMIVTIGINQPYLAFLHICTHAFFKAMLFMCSGSIIHSLNDEQDIRKMGGLFKALPFTTTSLIIGSLALTGMPFLTGFYSKDLIIETANTSNTNAWALLITLVATSMTAAYSTRILFFALLGQPRFTPIISINENNPYLINSIKRLLLGSVFAGYVISHSITPTTIPQMTMPHHLKMAALAVTILGFILALELNLTMQGLKFNHSSHYFKFSNLLGYYPTIMHRLAPKTSLSMSQKSASMLLDHIWLESVLPKSIAFFQMKSSTLVSNQKGLIKLYFFSFMITMALSLSILNYHV']}\n",
            "Type is: CDS \tQualifiers are: {'transl_table': ['2'], 'gene': ['NADH6'], 'product': ['NADH dehydrogenase subunit 6'], 'db_xref': ['GOA:Q08GU3', 'InterPro:IPR001457', 'UniProtKB/TrEMBL:Q08GU3'], 'protein_id': ['CAJ57155.1'], 'translation': ['MMTYIVFILSIVFVMSFVGFVTKPSPIYGGLVLIISGGIGCAIVLNFGGSFLGLMVFLIYLGGMLVVFGYTTAMATEQYPEVWVSNKAVLAAFITGLLSELLTACYILKDDEVEVVLKFNGMGDWVIYDTGDSGFFSEEAMGIAALYSYGTWLVIVTGWSLLTGVLVIMEVTRGN']}\n",
            "Type is: tRNA \tQualifiers are: {'gene': ['tRNA-Glu'], 'product': ['transfer RNA-Glu']}\n",
            "Type is: CDS \tQualifiers are: {'transl_table': ['2'], 'gene': ['cytb'], 'product': ['cytochrome b'], 'db_xref': ['GOA:Q19QU7', 'InterPro:IPR005797', 'InterPro:IPR005798', 'InterPro:IPR016174', 'InterPro:IPR027387', 'InterPro:IPR030689', 'UniProtKB/TrEMBL:Q19QU7'], 'protein_id': ['CAJ57156.1'], 'translation': ['MTNIRKTHPLAKIVNDSFIDLPAPSNISAWWNFGSLLGVCLILQIATGLFLAMHYTSDTATAFSSVTHICRDVNYGWIIRYMHANGASMFFICLFMHVGRGLYYGSYVFMETWNIGIILLFATMATAFMGYVLPWGQMSFWGATVITNLLSAIPYIGTDLVEWIWGGFSVDKATLTRFFAFHFILPFIIAALAMVHLLFLHETGSNNPSGITSDSDKIPFHPYYTIKDILGVLLLLSVLMSLVLFSPDLLGDPDNYTPANPLSTPPHIKPEWYFLFAYAILRSIPNKLGGVLALVFSILILALIPHLHTSKQRGMMFRPLSQCLFWLLTADLLTLTWIGGQPVEHPFIIIGQIASILYFAILLILMPTISIIENNLLKW']}\n",
            "Type is: tRNA \tQualifiers are: {'gene': ['tRNA-Thr'], 'product': ['transfer RNA-Thr']}\n",
            "Type is: tRNA \tQualifiers are: {'gene': ['tRNA-Pro'], 'product': ['transfer RNA-Pro']}\n",
            "Type is: D-loop \tQualifiers are: {}\n"
          ]
        }
      ],
      "source": [
        "# Features is the term for all genes, coding sequences trna's sequence regions\n",
        "for feature in first_record.features:\n",
        "  print(\"Type is:\", feature.type, \"\\tQualifiers are:\", feature.qualifiers)"
      ]
    },
    {
      "cell_type": "markdown",
      "metadata": {
        "id": "nbmv-4EMk6hm"
      },
      "source": [
        "The big question now is what to do with all this information!"
      ]
    },
    {
      "cell_type": "markdown",
      "metadata": {
        "id": "xRI58FNx9WUc"
      },
      "source": [
        "### Exercise: data filter\n",
        "\n",
        "**Objective:** Print the gene name and coding sequence for each gene feature (A gene is defined by it's ***type*** being \"CDS\").\n",
        "\n",
        "1. First runthe code as written to see what data is contained in `features`\n",
        "2. Print only features where `type` == \"CDS\" (aka a gene)\n",
        "3. Use the ```location.start``` and ```location.end``` parameters to print the co-ordinates in the genome where each gene starts and stops\n",
        "4. In an embl file you (usually) have the full genome sequence in `record.seq` (just like with a simple fasta file or what we saw above).\n",
        "    - Using the co-ordinates in step 3, print the gene sequences for each CDS feature!\n",
        "    - Remeber how you splice a string with `string[1:100]`!\n",
        "5. Print the gene name along with the sequence. This is stored in `feature.qualifiers.get('gene')`\n",
        "\n",
        "Note: `feature.qualifiers.get('gene')` returns a list of one item frustratingly. You can get just the element alone with `feature.qualifiers.get('gene')[0]`\n",
        "\n",
        "Biopython parameters can be pretty complicated and need some time with the manual, so here's some useful commands you'll need:\n",
        "\n",
        "```\n",
        "- feature.type\n",
        "- feature.qualifiers\n",
        "- feature.location.start / feature.location.end\n",
        "```"
      ]
    },
    {
      "cell_type": "code",
      "execution_count": 62,
      "metadata": {
        "id": "OgAC7HoN7i8T",
        "outputId": "511ae2ba-605c-4024-b024-352c445d568b",
        "colab": {
          "base_uri": "https://localhost:8080/"
        }
      },
      "outputs": [
        {
          "output_type": "stream",
          "name": "stdout",
          "text": [
            "type: source\n",
            "location: [0:16813](+)\n",
            "qualifiers:\n",
            "    Key: country, Value: ['Sweden']\n",
            "    Key: db_xref, Value: ['taxon:9627']\n",
            "    Key: mol_type, Value: ['genomic DNA']\n",
            "    Key: organelle, Value: ['mitochondrion']\n",
            "    Key: organism, Value: ['Vulpes vulpes']\n",
            "\n",
            "type: tRNA\n",
            "location: [0:69](+)\n",
            "qualifiers:\n",
            "    Key: gene, Value: ['tRNA-Phe']\n",
            "    Key: product, Value: ['transfer RNA-Phe']\n",
            "\n",
            "type: rRNA\n",
            "location: [69:1026](+)\n",
            "qualifiers:\n",
            "    Key: gene, Value: ['12S rRNA']\n",
            "    Key: product, Value: ['12S ribosomal RNA']\n",
            "\n",
            "type: tRNA\n",
            "location: [1026:1093](+)\n",
            "qualifiers:\n",
            "    Key: gene, Value: ['tRNA-Val']\n",
            "    Key: product, Value: ['transfer RNA-Val']\n",
            "\n",
            "type: rRNA\n",
            "location: [1093:2671](+)\n",
            "qualifiers:\n",
            "    Key: gene, Value: ['16S rRNA']\n",
            "    Key: product, Value: ['16S ribosomal RNA']\n",
            "\n",
            "type: tRNA\n",
            "location: [2671:2746](+)\n",
            "qualifiers:\n",
            "    Key: gene, Value: ['tRNA-Leu(UUR)']\n",
            "    Key: product, Value: ['transfer RNA-Leu(UUR)']\n",
            "\n",
            "type: CDS\n",
            "location: [2748:3705](+)\n",
            "qualifiers:\n",
            "    Key: db_xref, Value: ['GOA:Q08GV4', 'InterPro:IPR001694', 'InterPro:IPR018086', 'UniProtKB/TrEMBL:Q08GV4']\n",
            "    Key: gene, Value: ['NADH1']\n",
            "    Key: product, Value: ['NADH dehydrogenase subunit 1']\n",
            "    Key: protein_id, Value: ['CAJ57144.1']\n",
            "    Key: transl_table, Value: ['2']\n",
            "    Key: translation, Value: ['MFFINILSLIVPILLAVAFLTLVERKVLGYMQLRKGPNIVGPYGLLQPIADAVKLFTKEPLRPLTSSMSMFILAPILALSLALTMWIPLPMPYPLINMNLGVLFMLAMSSLAVYSILWSGWASNSKYALIGALRAVAQTISYEVTLAIILLSILLMNGSFTLSTLIITQEHMWLIFPAWPLAMMWFISTLAETNRAPFDLTEGESELVSGFNVEYAAGPFALFFLAEYANIIMMNILTTILFFGAFHNPFLPELYSINFTIKTLLLTISFLWIRASYPRFRYDQLMHLLWKNFLPLTLALCMWHVALPIITASIPPQT']\n",
            "\n",
            "type: tRNA\n",
            "location: [3704:3773](+)\n",
            "qualifiers:\n",
            "    Key: gene, Value: ['tRNA-Ile']\n",
            "    Key: product, Value: ['transfer RNA-Ile']\n",
            "\n",
            "type: tRNA\n",
            "location: [3770:3844](-)\n",
            "qualifiers:\n",
            "    Key: gene, Value: ['tRNA-Gln']\n",
            "    Key: product, Value: ['transfer RNA-Gln']\n",
            "\n",
            "type: tRNA\n",
            "location: [3845:3915](+)\n",
            "qualifiers:\n",
            "    Key: gene, Value: ['tRNA-Met']\n",
            "    Key: product, Value: ['transfer RNA-Met']\n",
            "\n",
            "type: CDS\n",
            "location: [3915:4959](+)\n",
            "qualifiers:\n",
            "    Key: db_xref, Value: ['GOA:Q08GV3', 'InterPro:IPR001750', 'InterPro:IPR003917', 'InterPro:IPR010933', 'UniProtKB/TrEMBL:Q08GV3']\n",
            "    Key: gene, Value: ['NADH2']\n",
            "    Key: product, Value: ['NADH dehydrogenase subunit 2']\n",
            "    Key: protein_id, Value: ['CAJ57145.1']\n",
            "    Key: transl_table, Value: ['2']\n",
            "    Key: translation, Value: ['MKPPILIAILATVMTGTMIVMLSSHWLLIWIGFEMNMLAIIPILMKKFNPRAMEASTKYFLTQATASMLLMMGVTINLLYSGQWMISKVSNPAASTMMTIALTMKLGLSPFHFWVPEVTQGISLSSGMILLTWQKIAPMSVLYQISPSINTDLMTLVALASVLIGGWGGLNQTQLRKIMAYSSIAHMGWMAAIITYNPTMMFLNLSLYILMTLSTFMLFMLSASTTTLSLSHTWNKIPLIASTILTLMLSLGGLPPLSGFIPKWMIIQELTKNDMIVVPTLMAITALLNLYFYMRLTYSTALTMFPSANNMKMKWQFEHTKKMTLLPPLIIISTMLLPIMPMMSILD']\n",
            "\n",
            "type: tRNA\n",
            "location: [4957:5025](+)\n",
            "qualifiers:\n",
            "    Key: gene, Value: ['tRNA-Trp']\n",
            "    Key: product, Value: ['transfer RNA-Trp']\n",
            "\n",
            "type: tRNA\n",
            "location: [5037:5106](-)\n",
            "qualifiers:\n",
            "    Key: gene, Value: ['tRNA-Ala']\n",
            "    Key: product, Value: ['transfer RNA-Ala']\n",
            "\n",
            "type: tRNA\n",
            "location: [5107:5178](-)\n",
            "qualifiers:\n",
            "    Key: gene, Value: ['tRNA-Asn']\n",
            "    Key: product, Value: ['transfer RNA-Asn']\n",
            "\n",
            "type: rep_origin\n",
            "location: [5179:5215](+)\n",
            "qualifiers:\n",
            "    Key: direction, Value: ['RIGHT']\n",
            "    Key: note, Value: ['Origin of L strand replication']\n",
            "\n",
            "type: tRNA\n",
            "location: [5211:5280](-)\n",
            "qualifiers:\n",
            "    Key: gene, Value: ['tRNA-Cys']\n",
            "    Key: product, Value: ['transfer RNA-Cys']\n",
            "\n",
            "type: tRNA\n",
            "location: [5280:5348](-)\n",
            "qualifiers:\n",
            "    Key: gene, Value: ['tRNA-Tyr']\n",
            "    Key: product, Value: ['transfer RNA-Tyr']\n",
            "\n",
            "type: CDS\n",
            "location: [5349:6894](+)\n",
            "qualifiers:\n",
            "    Key: db_xref, Value: ['GOA:Q08GV2', 'InterPro:IPR000883', 'InterPro:IPR023615', 'InterPro:IPR023616', 'UniProtKB/TrEMBL:Q08GV2']\n",
            "    Key: gene, Value: ['COI']\n",
            "    Key: product, Value: ['cytochrome oxidase subunit I']\n",
            "    Key: protein_id, Value: ['CAJ57146.1']\n",
            "    Key: transl_table, Value: ['2']\n",
            "    Key: translation, Value: ['MFINRWLFSTNHKDIGTLYLLFGAWAGMVGTALSLLIRAELGQPGTLLGDDQIYNVIVTAHAFVMIFFMVMPIMIGGFGNWLVPLMIGAPDMAFPRMNNMSFWLLPPSFLLLLASSMVEAGAGTGWTVYPPLAGNLAHAGASVDLTIFSLHLAGVSSILGAINFITTIINMKPPAMSQYQTPLFVWSVLITAVLLLLSLPVLAAGITMLLTDRNLNTTFFDPAGGGDPILYQHLFWFFGHPEVYILILPGFGMISHIVTYYSGKKEPFGYMGMVWAMMSIGFLGFIVWAHHMFTVGMDVDTRAYFTSATMIIAIPTGVKVFSWLATLHGGNIKWSPAMLWALGFIFLFTVGGLTGIVLANSSLDIVLHDTYYVVAHFHYVLSMGAVFAIMGGFAHWFPLFSGYTLNDTWAKIHFTIMFVGVNMTFFPQHFLGLSGMPRRYSDYPDAYTTWNTVSSMGSFISLTAVMLMIFMIWEAFASKREVAMVELTTTNIEWLHGCPPPYHTFEEPTYVIQK']\n",
            "\n",
            "type: tRNA\n",
            "location: [6891:6960](-)\n",
            "qualifiers:\n",
            "    Key: gene, Value: ['tRNA-Ser(UCN)']\n",
            "    Key: product, Value: ['transfer RNA-Ser(UCN)']\n",
            "\n",
            "type: tRNA\n",
            "location: [6966:7034](+)\n",
            "qualifiers:\n",
            "    Key: gene, Value: ['tRNA-Asp']\n",
            "    Key: product, Value: ['transfer RNA-Asp']\n",
            "\n",
            "type: CDS\n",
            "location: [7034:7718](+)\n",
            "qualifiers:\n",
            "    Key: db_xref, Value: ['GOA:Q539C4', 'InterPro:IPR001505', 'InterPro:IPR002429', 'InterPro:IPR008972', 'InterPro:IPR011759', 'InterPro:IPR014222', 'UniProtKB/TrEMBL:Q539C4']\n",
            "    Key: gene, Value: ['COII']\n",
            "    Key: note, Value: [\"translation exception (stop codon is completed by the addition of 3' residues to the mRNA)\"]\n",
            "    Key: protein_id, Value: ['CAJ57147.1']\n",
            "    Key: transl_table, Value: ['2']\n",
            "    Key: translation, Value: ['MAYPFQLGLQDATSPIMEELLHFHDHTLMIVFLISSLVLYIITLMLTTKLTHTSTMDAQEVETVWTILPAIILILIALPSLRILYMMDEINNPSLTVKTMGHQWYWSYEYTDYEDLNFDSYMIPTQELKPGELRLLEVDNRVVLPMEMTVRMLISSEDVLHSWAVPSLGLKTDAIPGRLNQTTLMAMRPGLYYGQCSEICGSNHSFMPIVLEMVPLSYFETWSAVMV']\n",
            "\n",
            "type: tRNA\n",
            "location: [7735:7802](+)\n",
            "qualifiers:\n",
            "    Key: gene, Value: ['tRNA-Lys']\n",
            "    Key: product, Value: ['transfer RNA-Lys']\n",
            "\n",
            "type: CDS\n",
            "location: [7803:8007](+)\n",
            "qualifiers:\n",
            "    Key: db_xref, Value: ['GOA:Q08GV0', 'InterPro:IPR001421', 'UniProtKB/TrEMBL:Q08GV0']\n",
            "    Key: gene, Value: ['ATPase 8']\n",
            "    Key: product, Value: ['ATPase subunit 8']\n",
            "    Key: protein_id, Value: ['CAJ57148.1']\n",
            "    Key: transl_table, Value: ['2']\n",
            "    Key: translation, Value: ['MPQLDTSTWLVMILSMILTLFILFQLKVSKHYYPESPGPKSIKSISKHTPWENKWTKIYSPLSLPLQ']\n",
            "\n",
            "type: CDS\n",
            "location: [7964:8645](+)\n",
            "qualifiers:\n",
            "    Key: db_xref, Value: ['GOA:Q08GU9', 'InterPro:IPR000568', 'InterPro:IPR023011', 'UniProtKB/TrEMBL:Q08GU9']\n",
            "    Key: gene, Value: ['ATPase 6']\n",
            "    Key: product, Value: ['ATPase subunit 6']\n",
            "    Key: protein_id, Value: ['CAJ57149.1']\n",
            "    Key: transl_table, Value: ['2']\n",
            "    Key: translation, Value: ['MNENLFASFATPTMMGLPIAVLIVMFPSILFPSPNRLINNRLISIQQWLIQLTSKQMLTIHNQKGRTWALMLMSLILFIGSTNLLGLLPHSFTPTTQLSMNLGMAIPLWAGTVITGFRHKTKASLAHFLPQGTPLPLIPMLVIIETISLFIQPMALAVRLTANITAGHLLIHLIGGATLALINISATTALITFMILVLLTILEFAVALIQAYVFTLLVSLYLHDNT']\n",
            "\n",
            "type: CDS\n",
            "location: [8644:>9427](+)\n",
            "qualifiers:\n",
            "    Key: db_xref, Value: ['GOA:Q08GU8', 'InterPro:IPR000298', 'InterPro:IPR013833', 'InterPro:IPR024791', 'UniProtKB/TrEMBL:Q08GU8']\n",
            "    Key: gene, Value: ['COIII']\n",
            "    Key: note, Value: [\"translation exception (stop codon is completed by the addition of 3' residues to the mRNA)\"]\n",
            "    Key: product, Value: ['cytochrome oxidase subunit III']\n",
            "    Key: protein_id, Value: ['CAJ57150.1']\n",
            "    Key: transl_table, Value: ['2']\n",
            "    Key: translation, Value: ['MTHQTHAYHMVNPSPWPLTGALSALLMTSGLIMWFHYNSMSLLTLGLTTNMLTMYQWWRDVVREGTFQGHHTPTVQKGLRYGMILFIVSEVFFFAGFFWAFYHSSLAPTPELGGCWPPTGIIPLNPLEVPLLNTSVLLASGVSITWAHHSLMEGNRKHMLQALFITISLGVYFTLLQASEYYETSFTISDGVYGSTFFMATGFHGLHVIIGSTFLIVCFMRQLHYHFTSNHHFGFEAAAWYWHFVDVVWLFLYVSIYWWGS']\n",
            "\n",
            "type: tRNA\n",
            "location: [9428:9496](+)\n",
            "qualifiers:\n",
            "    Key: gene, Value: ['tRNA-Gly']\n",
            "    Key: product, Value: ['transfer RNA-Gly']\n",
            "\n",
            "type: CDS\n",
            "location: [9496:>9843](+)\n",
            "qualifiers:\n",
            "    Key: db_xref, Value: ['GOA:Q08GU7', 'InterPro:IPR000440', 'UniProtKB/TrEMBL:Q08GU7']\n",
            "    Key: gene, Value: ['NADH3']\n",
            "    Key: note, Value: [\"translation exception (stop codon is completed by the addition of 3' residues to the mRNA)\"]\n",
            "    Key: product, Value: ['NADH dehydrogenase subunit 3']\n",
            "    Key: protein_id, Value: ['CAJ57151.1']\n",
            "    Key: transl_table, Value: ['2']\n",
            "    Key: translation, Value: ['MNMMLTLMTNITLASLLVMIAFWLPQLNIYADKTSPYECGFDPMGSARLPFSMKFFLVAITFLLFDLEIALLLPLPWASQTNKLTTMLIMALLLISLLAASLAYEWTEKGLEWTE']\n",
            "\n",
            "type: tRNA\n",
            "location: [9843:9912](+)\n",
            "qualifiers:\n",
            "    Key: gene, Value: ['tRNA-Arg']\n",
            "    Key: product, Value: ['transfer RNA-Arg']\n",
            "\n",
            "type: CDS\n",
            "location: [9912:10209](+)\n",
            "qualifiers:\n",
            "    Key: db_xref, Value: ['GOA:Q08GU6', 'InterPro:IPR001133', 'UniProtKB/Swiss-Prot:Q08GU6']\n",
            "    Key: gene, Value: ['NADH4L']\n",
            "    Key: product, Value: ['NADH dehydrogenase subunit 4L']\n",
            "    Key: protein_id, Value: ['CAJ57152.1']\n",
            "    Key: transl_table, Value: ['2']\n",
            "    Key: translation, Value: ['MSMVYINIFLAFILSLMGMLVYRSHLMSSLLCLEGMMLSLFVMMSVTILNNHLTLASMMPIVLLVFAACEAALGLSLLVMVSNTYGTDHVQNLNLLQC']\n",
            "\n",
            "type: CDS\n",
            "location: [10202:>11580](+)\n",
            "qualifiers:\n",
            "    Key: db_xref, Value: ['GOA:Q08GU5', 'InterPro:IPR000260', 'InterPro:IPR001750', 'InterPro:IPR003918', 'InterPro:IPR010227', 'UniProtKB/TrEMBL:Q08GU5']\n",
            "    Key: gene, Value: ['NADH4']\n",
            "    Key: note, Value: [\"translation exception (stop codon is completed by the addition of 3' residues to the mRNA)\"]\n",
            "    Key: product, Value: ['NADH dehydrogenase subunit 4']\n",
            "    Key: protein_id, Value: ['CAJ57153.1']\n",
            "    Key: transl_table, Value: ['2']\n",
            "    Key: translation, Value: ['MLKIIIPTAMLIPLTWTSKPNMIWINSTMYSLLISLISLSYLNQPNDNTLNSSLLFFSDSLSAPLLALTTWLLPLMLMASQSHLSKEPLIRKKLYISMLILLQLFLIMTFTATELILFYILFEATLIPTLIIITRWGNQTERLNAGLYFLFYNLTGSLPLLVALLYIQNSMGSLNFLMIQYWIQPLPSSWSNIFLWLACMMAFMVKMPLYGLHLWLPKAHVEAPIAGSMVLAAVLLKLGGYGMMRITTLLNPLTDLMVYPFMLLSLWGMIMTSSICLRQTDLKSLIAYSSVSHMALVIVAVLIQTPWSYMGATALMIAHGLTSSMLFCLANSNYERTHSRTMILARGLQTLLPLMAAWWLLASLANLALPPTINLIGELFVVMASFSWSNITIILMGMNIIITALYTLYMLITTQRGKHTHHIKNIKPSFTRENALMTLHLLPLLLLSIDPKVVLGPIY']\n",
            "\n",
            "type: tRNA\n",
            "location: [11580:11650](+)\n",
            "qualifiers:\n",
            "    Key: gene, Value: ['tRNA-His']\n",
            "    Key: product, Value: ['transfer RNA-His']\n",
            "\n",
            "type: tRNA\n",
            "location: [11650:11709](+)\n",
            "qualifiers:\n",
            "    Key: gene, Value: ['tRNA-Ser(AGY)']\n",
            "    Key: product, Value: ['transfer RNA-Ser(AGY)']\n",
            "\n",
            "type: tRNA\n",
            "location: [11709:11779](+)\n",
            "qualifiers:\n",
            "    Key: gene, Value: ['tRNA-Leu(CUN)']\n",
            "    Key: product, Value: ['transfer RNA-Leu(CUN)']\n",
            "\n",
            "type: CDS\n",
            "location: [11779:13600](+)\n",
            "qualifiers:\n",
            "    Key: db_xref, Value: ['GOA:Q08GU4', 'InterPro:IPR001516', 'InterPro:IPR001750', 'InterPro:IPR003945', 'InterPro:IPR010934', 'UniProtKB/TrEMBL:Q08GU4']\n",
            "    Key: gene, Value: ['NADH5']\n",
            "    Key: product, Value: ['NADH dehydrogenase subunit 5']\n",
            "    Key: protein_id, Value: ['CAJ57154.1']\n",
            "    Key: transl_table, Value: ['2']\n",
            "    Key: translation, Value: ['MNMFASCMITALILLTLPIIMTSTKLYKDKLYPYYVKTATSHAFMISMIPAMMFIYSGQEMVVSNWHWMTIQTMKLSMSFKLDYFSMIFVPVALFVTWSIMEFSMWYMHSDPYINRFFKYLLMFLITMMILVTANNMFQLFIGWEGVGIMSFLLIGWWYGRTDANTAALQAILYNRIGDVGFIMAMAWFLLHLNAWDLQQIFMSANDNLNLPLFGLLLAATGKSAQFGLHPWLPSAMEGPTPVSALLHSSTMVVAGVFLLIRFHPLMEQNPTIQTLTLCLGAITTLFTAICALTQNDIKKIVAFSTSSQLGLMIVTIGINQPYLAFLHICTHAFFKAMLFMCSGSIIHSLNDEQDIRKMGGLFKALPFTTTSLIIGSLALTGMPFLTGFYSKDLIIETANTSNTNAWALLITLVATSMTAAYSTRILFFALLGQPRFTPIISINENNPYLINSIKRLLLGSVFAGYVISHSITPTTIPQMTMPHHLKMAALAVTILGFILALELNLTMQGLKFNHSSHYFKFSNLLGYYPTIMHRLAPKTSLSMSQKSASMLLDHIWLESVLPKSIAFFQMKSSTLVSNQKGLIKLYFFSFMITMALSLSILNYHV']\n",
            "\n",
            "type: CDS\n",
            "location: [13583:14111](-)\n",
            "qualifiers:\n",
            "    Key: db_xref, Value: ['GOA:Q08GU3', 'InterPro:IPR001457', 'UniProtKB/TrEMBL:Q08GU3']\n",
            "    Key: gene, Value: ['NADH6']\n",
            "    Key: product, Value: ['NADH dehydrogenase subunit 6']\n",
            "    Key: protein_id, Value: ['CAJ57155.1']\n",
            "    Key: transl_table, Value: ['2']\n",
            "    Key: translation, Value: ['MMTYIVFILSIVFVMSFVGFVTKPSPIYGGLVLIISGGIGCAIVLNFGGSFLGLMVFLIYLGGMLVVFGYTTAMATEQYPEVWVSNKAVLAAFITGLLSELLTACYILKDDEVEVVLKFNGMGDWVIYDTGDSGFFSEEAMGIAALYSYGTWLVIVTGWSLLTGVLVIMEVTRGN']\n",
            "\n",
            "type: tRNA\n",
            "location: [14111:14180](-)\n",
            "qualifiers:\n",
            "    Key: gene, Value: ['tRNA-Glu']\n",
            "    Key: product, Value: ['transfer RNA-Glu']\n",
            "\n",
            "type: CDS\n",
            "location: [14184:15324](+)\n",
            "qualifiers:\n",
            "    Key: db_xref, Value: ['GOA:Q19QU7', 'InterPro:IPR005797', 'InterPro:IPR005798', 'InterPro:IPR016174', 'InterPro:IPR027387', 'InterPro:IPR030689', 'UniProtKB/TrEMBL:Q19QU7']\n",
            "    Key: gene, Value: ['cytb']\n",
            "    Key: product, Value: ['cytochrome b']\n",
            "    Key: protein_id, Value: ['CAJ57156.1']\n",
            "    Key: transl_table, Value: ['2']\n",
            "    Key: translation, Value: ['MTNIRKTHPLAKIVNDSFIDLPAPSNISAWWNFGSLLGVCLILQIATGLFLAMHYTSDTATAFSSVTHICRDVNYGWIIRYMHANGASMFFICLFMHVGRGLYYGSYVFMETWNIGIILLFATMATAFMGYVLPWGQMSFWGATVITNLLSAIPYIGTDLVEWIWGGFSVDKATLTRFFAFHFILPFIIAALAMVHLLFLHETGSNNPSGITSDSDKIPFHPYYTIKDILGVLLLLSVLMSLVLFSPDLLGDPDNYTPANPLSTPPHIKPEWYFLFAYAILRSIPNKLGGVLALVFSILILALIPHLHTSKQRGMMFRPLSQCLFWLLTADLLTLTWIGGQPVEHPFIIIGQIASILYFAILLILMPTISIIENNLLKW']\n",
            "\n",
            "type: tRNA\n",
            "location: [15324:15394](+)\n",
            "qualifiers:\n",
            "    Key: gene, Value: ['tRNA-Thr']\n",
            "    Key: product, Value: ['transfer RNA-Thr']\n",
            "\n",
            "type: tRNA\n",
            "location: [15393:15459](-)\n",
            "qualifiers:\n",
            "    Key: gene, Value: ['tRNA-Pro']\n",
            "    Key: product, Value: ['transfer RNA-Pro']\n",
            "\n",
            "type: D-loop\n",
            "location: [15459:16813](+)\n",
            "qualifiers:\n",
            "\n"
          ]
        }
      ],
      "source": [
        "from Bio import SeqIO\n",
        "\n",
        "# Read the data in\n",
        "record_iter = SeqIO.parse(\"/content/am181037.embl\", \"embl\")\n",
        "record = next(record_iter)\n",
        "\n",
        "mito_genes = {}\n",
        "\n",
        "for feature in record.features:\n",
        "    print(feature)\n"
      ]
    },
    {
      "cell_type": "markdown",
      "metadata": {
        "id": "q8vgdX09-yjK"
      },
      "source": [
        "#### !!!Before we go on to the next section:\n",
        "Add a line to output your genes and sequences to a dictionary, as we'll want to come back to it, with a line such as: ```mito_genes[geneID] = feature_seq```"
      ]
    },
    {
      "cell_type": "markdown",
      "metadata": {
        "id": "0iSBT6Lll8WZ"
      },
      "source": [
        "---\n",
        "\n",
        "## Writing to defined file formats\n",
        "\n",
        "We can also use Biopython to write out our sequences, saving them to a file in the correct format, rather than defining it ourselves. That'll save lots of effort!\n",
        "\n",
        "Lets output our new extracted sequences with a new header into a new file by first putting them into a list, and then saving that.\n",
        "\n",
        "Firstly we will use the SeqRecord module from the Biopython Library to turn our sequences into SeqRecords:"
      ]
    },
    {
      "cell_type": "code",
      "execution_count": 65,
      "metadata": {
        "id": "Jo8cqKpymKgA",
        "outputId": "36a99964-41e9-46d1-ad28-5a360fee7543",
        "colab": {
          "base_uri": "https://localhost:8080/"
        }
      },
      "outputs": [
        {
          "output_type": "stream",
          "name": "stdout",
          "text": [
            "[]\n"
          ]
        }
      ],
      "source": [
        "from Bio.SeqRecord import SeqRecord\n",
        "\n",
        "data_to_write = []\n",
        "\n",
        "# Using the dictionary from the last exercise\n",
        "for id, extracted_seq in mito_genes.items():\n",
        "\n",
        "    # Create a SeqRecord from our dictionary of data\n",
        "    record = SeqRecord(extracted_seq, id)\n",
        "\n",
        "    # Add it to a list\n",
        "    data_to_write.append(record)\n",
        "\n",
        "print(data_to_write)"
      ]
    },
    {
      "cell_type": "markdown",
      "metadata": {
        "id": "bXRTCiF9-yjL"
      },
      "source": [
        "And now using the normal output format combined with the ```SeqIO.write()``` function we can output it.\n",
        "\n",
        "For a fasta file it requires the format: `sequence, id, description`"
      ]
    },
    {
      "cell_type": "code",
      "execution_count": 64,
      "metadata": {
        "id": "uHn9MjFR-yjL"
      },
      "outputs": [],
      "source": [
        "from Bio import SeqIO\n",
        "\n",
        "with open(\"my_extracted_MT_seqs.fna\", 'w') as outputFile:\n",
        "  # Write the list to a file, specifying fasta format\n",
        "  SeqIO.write(data_to_write, outputFile, \"fasta\")"
      ]
    },
    {
      "cell_type": "markdown",
      "metadata": {
        "id": "h2xYkZJ8-yjL"
      },
      "source": [
        "<details>\n",
        "<summary>Input for this section if previous section not completed</summary>\n",
        "\n",
        "```\n",
        "from Bio import SeqIO\n",
        "mito_genes = {}\n",
        "\n",
        "# Read the data in\n",
        "record_iter = SeqIO.parse(\"/content/am181037.embl\", \"embl\")\n",
        "first_record = next(record_iter)\n",
        "\n",
        "for feature in first_record.features:\n",
        "    #print(feature)\n",
        "\n",
        "    if feature.type == \"CDS\":\n",
        "        start = feature.location.start\n",
        "        end = feature.location.end\n",
        "        geneID = feature.qualifiers.get('gene')[0]\n",
        "        seqExtrct = first_record.seq[start:end]\n",
        "\n",
        "        mito_genes[geneID] = seqExtrct\n",
        "```\n",
        "\n",
        "</details>"
      ]
    },
    {
      "cell_type": "markdown",
      "metadata": {
        "id": "_hn79ClCTRd2"
      },
      "source": [
        "---\n",
        "\n",
        "Okay. That was a lot! It can get quite complex when dealing with complex third party modules as we don't know all of their logic when creating functions, and it can become really deep with heirarchies of data. Lets keep it simple now and look at a few other cool features of biopython.\n",
        "\n",
        "## Sequence Alignment\n",
        "\n",
        "Biopython provides functionality for sequence alignment, allowing you to perform pairwise and multiple sequence alignments. The Bio.Align module offers algorithms such as Needleman-Wunsch and Smith-Waterman for global and local alignments. It also supports accessing alignment scores, sequences, and alignment visualization."
      ]
    },
    {
      "cell_type": "code",
      "execution_count": 66,
      "metadata": {
        "colab": {
          "base_uri": "https://localhost:8080/"
        },
        "id": "Bs_OvKSLTBvn",
        "outputId": "b248c0e6-28f5-4e02-c0ce-895e71f1c077"
      },
      "outputs": [
        {
          "output_type": "stream",
          "name": "stdout",
          "text": [
            "alignment score: 29.0\n",
            "target            0 TATGCTGTACGTC-GGG-ATA-CACACTGTGACTGCA 34\n",
            "                  0 -|||||-||||||-|||-|-|-|||||||--|||||| 37\n",
            "query             0 -ATGCT-TACGTCAGGGGA-AACACACTG--ACTGCA 32\n",
            "\n",
            "alignment score: 29.0\n",
            "target            0 TATGCTGTACGTC-GG-GATA-CACACTGTGACTGCA 34\n",
            "                  0 -|||||-||||||-||-||-|-|||||||--|||||| 37\n",
            "query             0 -ATGCT-TACGTCAGGGGA-AACACACTG--ACTGCA 32\n",
            "\n",
            "alignment score: 29.0\n",
            "target            0 TATGCTGTACGTC-G-GGATA-CACACTGTGACTGCA 34\n",
            "                  0 -|||||-||||||-|-|||-|-|||||||--|||||| 37\n",
            "query             0 -ATGCT-TACGTCAGGGGA-AACACACTG--ACTGCA 32\n",
            "\n",
            "alignment score: 29.0\n",
            "target            0 TATGCTGTACGTC--GGGATA-CACACTGTGACTGCA 34\n",
            "                  0 -|||||-||||||--||||-|-|||||||--|||||| 37\n",
            "query             0 -ATGCT-TACGTCAGGGGA-AACACACTG--ACTGCA 32\n",
            "\n",
            "alignment score: 29.0\n",
            "target            0 TATGCTGTACGTC-GGG-AT-ACACACTGTGACTGCA 34\n",
            "                  0 -|||||-||||||-|||-|--||||||||--|||||| 37\n",
            "query             0 -ATGCT-TACGTCAGGGGA-AACACACTG--ACTGCA 32\n",
            "\n",
            "alignment score: 29.0\n",
            "target            0 TATGCTGTACGTC-GG-GAT-ACACACTGTGACTGCA 34\n",
            "                  0 -|||||-||||||-||-||--||||||||--|||||| 37\n",
            "query             0 -ATGCT-TACGTCAGGGGA-AACACACTG--ACTGCA 32\n",
            "\n",
            "alignment score: 29.0\n",
            "target            0 TATGCTGTACGTC-G-GGAT-ACACACTGTGACTGCA 34\n",
            "                  0 -|||||-||||||-|-|||--||||||||--|||||| 37\n",
            "query             0 -ATGCT-TACGTCAGGGGA-AACACACTG--ACTGCA 32\n",
            "\n",
            "alignment score: 29.0\n",
            "target            0 TATGCTGTACGTC--GGGAT-ACACACTGTGACTGCA 34\n",
            "                  0 -|||||-||||||--||||--||||||||--|||||| 37\n",
            "query             0 -ATGCT-TACGTCAGGGGA-AACACACTG--ACTGCA 32\n",
            "\n",
            "alignment score: 29.0\n",
            "target            0 TATGCTGTACGTC-GGG-A-TACACACTGTGACTGCA 34\n",
            "                  0 -|||||-||||||-|||-|--||||||||--|||||| 37\n",
            "query             0 -ATGCT-TACGTCAGGGGAA-ACACACTG--ACTGCA 32\n",
            "\n",
            "alignment score: 29.0\n",
            "target            0 TATGCTGTACGTC-GG-GA-TACACACTGTGACTGCA 34\n",
            "                  0 -|||||-||||||-||-||--||||||||--|||||| 37\n",
            "query             0 -ATGCT-TACGTCAGGGGAA-ACACACTG--ACTGCA 32\n",
            "\n",
            "alignment score: 29.0\n",
            "target            0 TATGCTGTACGTC-G-GGA-TACACACTGTGACTGCA 34\n",
            "                  0 -|||||-||||||-|-|||--||||||||--|||||| 37\n",
            "query             0 -ATGCT-TACGTCAGGGGAA-ACACACTG--ACTGCA 32\n",
            "\n",
            "alignment score: 29.0\n",
            "target            0 TATGCTGTACGTC--GGGA-TACACACTGTGACTGCA 34\n",
            "                  0 -|||||-||||||--||||--||||||||--|||||| 37\n",
            "query             0 -ATGCT-TACGTCAGGGGAA-ACACACTG--ACTGCA 32\n",
            "\n",
            "alignment score: 29.0\n",
            "target            0 TATGCTGTACGTC-GGG--ATACACACTGTGACTGCA 34\n",
            "                  0 -|||||-||||||-|||--|-||||||||--|||||| 37\n",
            "query             0 -ATGCT-TACGTCAGGGGAA-ACACACTG--ACTGCA 32\n",
            "\n",
            "alignment score: 29.0\n",
            "target            0 TATGCTGTACGTC-GG-G-ATACACACTGTGACTGCA 34\n",
            "                  0 -|||||-||||||-||-|-|-||||||||--|||||| 37\n",
            "query             0 -ATGCT-TACGTCAGGGGAA-ACACACTG--ACTGCA 32\n",
            "\n",
            "alignment score: 29.0\n",
            "target            0 TATGCTGTACGTC-G-GG-ATACACACTGTGACTGCA 34\n",
            "                  0 -|||||-||||||-|-||-|-||||||||--|||||| 37\n",
            "query             0 -ATGCT-TACGTCAGGGGAA-ACACACTG--ACTGCA 32\n",
            "\n",
            "alignment score: 29.0\n",
            "target            0 TATGCTGTACGTC--GGG-ATACACACTGTGACTGCA 34\n",
            "                  0 -|||||-||||||--|||-|-||||||||--|||||| 37\n",
            "query             0 -ATGCT-TACGTCAGGGGAA-ACACACTG--ACTGCA 32\n",
            "\n",
            "alignment score: 29.0\n",
            "target            0 TATGCTGTACGTC-GGG-ATACACACTGTGACTGCA 34\n",
            "                  0 -|||||-||||||-|||-|.||||||||--|||||| 36\n",
            "query             0 -ATGCT-TACGTCAGGGGAAACACACTG--ACTGCA 32\n",
            "\n",
            "alignment score: 29.0\n",
            "target            0 TATGCTGTACGTC-GG-GATACACACTGTGACTGCA 34\n",
            "                  0 -|||||-||||||-||-||.||||||||--|||||| 36\n",
            "query             0 -ATGCT-TACGTCAGGGGAAACACACTG--ACTGCA 32\n",
            "\n",
            "alignment score: 29.0\n",
            "target            0 TATGCTGTACGTC-G-GGATACACACTGTGACTGCA 34\n",
            "                  0 -|||||-||||||-|-|||.||||||||--|||||| 36\n",
            "query             0 -ATGCT-TACGTCAGGGGAAACACACTG--ACTGCA 32\n",
            "\n",
            "alignment score: 29.0\n",
            "target            0 TATGCTGTACGTC--GGGATACACACTGTGACTGCA 34\n",
            "                  0 -|||||-||||||--||||.||||||||--|||||| 36\n",
            "query             0 -ATGCT-TACGTCAGGGGAAACACACTG--ACTGCA 32\n",
            "\n",
            "alignment score: 29.0\n",
            "target            0 TATGCTGTACGTC-GGG-ATA-CACACTGTGACTGCA 34\n",
            "                  0 -|||||-||||||-|||-|-|-||||||--||||||| 37\n",
            "query             0 -ATGCT-TACGTCAGGGGA-AACACACT--GACTGCA 32\n",
            "\n",
            "alignment score: 29.0\n",
            "target            0 TATGCTGTACGTC-GG-GATA-CACACTGTGACTGCA 34\n",
            "                  0 -|||||-||||||-||-||-|-||||||--||||||| 37\n",
            "query             0 -ATGCT-TACGTCAGGGGA-AACACACT--GACTGCA 32\n",
            "\n",
            "alignment score: 29.0\n",
            "target            0 TATGCTGTACGTC-G-GGATA-CACACTGTGACTGCA 34\n",
            "                  0 -|||||-||||||-|-|||-|-||||||--||||||| 37\n",
            "query             0 -ATGCT-TACGTCAGGGGA-AACACACT--GACTGCA 32\n",
            "\n",
            "alignment score: 29.0\n",
            "target            0 TATGCTGTACGTC--GGGATA-CACACTGTGACTGCA 34\n",
            "                  0 -|||||-||||||--||||-|-||||||--||||||| 37\n",
            "query             0 -ATGCT-TACGTCAGGGGA-AACACACT--GACTGCA 32\n",
            "\n",
            "alignment score: 29.0\n",
            "target            0 TATGCTGTACGTC-GGG-AT-ACACACTGTGACTGCA 34\n",
            "                  0 -|||||-||||||-|||-|--|||||||--||||||| 37\n",
            "query             0 -ATGCT-TACGTCAGGGGA-AACACACT--GACTGCA 32\n",
            "\n",
            "alignment score: 29.0\n",
            "target            0 TATGCTGTACGTC-GG-GAT-ACACACTGTGACTGCA 34\n",
            "                  0 -|||||-||||||-||-||--|||||||--||||||| 37\n",
            "query             0 -ATGCT-TACGTCAGGGGA-AACACACT--GACTGCA 32\n",
            "\n",
            "alignment score: 29.0\n",
            "target            0 TATGCTGTACGTC-G-GGAT-ACACACTGTGACTGCA 34\n",
            "                  0 -|||||-||||||-|-|||--|||||||--||||||| 37\n",
            "query             0 -ATGCT-TACGTCAGGGGA-AACACACT--GACTGCA 32\n",
            "\n",
            "alignment score: 29.0\n",
            "target            0 TATGCTGTACGTC--GGGAT-ACACACTGTGACTGCA 34\n",
            "                  0 -|||||-||||||--||||--|||||||--||||||| 37\n",
            "query             0 -ATGCT-TACGTCAGGGGA-AACACACT--GACTGCA 32\n",
            "\n",
            "alignment score: 29.0\n",
            "target            0 TATGCTGTACGTC-GGG-A-TACACACTGTGACTGCA 34\n",
            "                  0 -|||||-||||||-|||-|--|||||||--||||||| 37\n",
            "query             0 -ATGCT-TACGTCAGGGGAA-ACACACT--GACTGCA 32\n",
            "\n",
            "alignment score: 29.0\n",
            "target            0 TATGCTGTACGTC-GG-GA-TACACACTGTGACTGCA 34\n",
            "                  0 -|||||-||||||-||-||--|||||||--||||||| 37\n",
            "query             0 -ATGCT-TACGTCAGGGGAA-ACACACT--GACTGCA 32\n",
            "\n",
            "alignment score: 29.0\n",
            "target            0 TATGCTGTACGTC-G-GGA-TACACACTGTGACTGCA 34\n",
            "                  0 -|||||-||||||-|-|||--|||||||--||||||| 37\n",
            "query             0 -ATGCT-TACGTCAGGGGAA-ACACACT--GACTGCA 32\n",
            "\n",
            "alignment score: 29.0\n",
            "target            0 TATGCTGTACGTC--GGGA-TACACACTGTGACTGCA 34\n",
            "                  0 -|||||-||||||--||||--|||||||--||||||| 37\n",
            "query             0 -ATGCT-TACGTCAGGGGAA-ACACACT--GACTGCA 32\n",
            "\n",
            "alignment score: 29.0\n",
            "target            0 TATGCTGTACGTC-GGG--ATACACACTGTGACTGCA 34\n",
            "                  0 -|||||-||||||-|||--|-|||||||--||||||| 37\n",
            "query             0 -ATGCT-TACGTCAGGGGAA-ACACACT--GACTGCA 32\n",
            "\n",
            "alignment score: 29.0\n",
            "target            0 TATGCTGTACGTC-GG-G-ATACACACTGTGACTGCA 34\n",
            "                  0 -|||||-||||||-||-|-|-|||||||--||||||| 37\n",
            "query             0 -ATGCT-TACGTCAGGGGAA-ACACACT--GACTGCA 32\n",
            "\n",
            "alignment score: 29.0\n",
            "target            0 TATGCTGTACGTC-G-GG-ATACACACTGTGACTGCA 34\n",
            "                  0 -|||||-||||||-|-||-|-|||||||--||||||| 37\n",
            "query             0 -ATGCT-TACGTCAGGGGAA-ACACACT--GACTGCA 32\n",
            "\n",
            "alignment score: 29.0\n",
            "target            0 TATGCTGTACGTC--GGG-ATACACACTGTGACTGCA 34\n",
            "                  0 -|||||-||||||--|||-|-|||||||--||||||| 37\n",
            "query             0 -ATGCT-TACGTCAGGGGAA-ACACACT--GACTGCA 32\n",
            "\n",
            "alignment score: 29.0\n",
            "target            0 TATGCTGTACGTC-GGG-ATACACACTGTGACTGCA 34\n",
            "                  0 -|||||-||||||-|||-|.|||||||--||||||| 36\n",
            "query             0 -ATGCT-TACGTCAGGGGAAACACACT--GACTGCA 32\n",
            "\n",
            "alignment score: 29.0\n",
            "target            0 TATGCTGTACGTC-GG-GATACACACTGTGACTGCA 34\n",
            "                  0 -|||||-||||||-||-||.|||||||--||||||| 36\n",
            "query             0 -ATGCT-TACGTCAGGGGAAACACACT--GACTGCA 32\n",
            "\n",
            "alignment score: 29.0\n",
            "target            0 TATGCTGTACGTC-G-GGATACACACTGTGACTGCA 34\n",
            "                  0 -|||||-||||||-|-|||.|||||||--||||||| 36\n",
            "query             0 -ATGCT-TACGTCAGGGGAAACACACT--GACTGCA 32\n",
            "\n",
            "alignment score: 29.0\n",
            "target            0 TATGCTGTACGTC--GGGATACACACTGTGACTGCA 34\n",
            "                  0 -|||||-||||||--||||.|||||||--||||||| 36\n",
            "query             0 -ATGCT-TACGTCAGGGGAAACACACT--GACTGCA 32\n",
            "\n",
            "alignment score: 29.0\n",
            "target            0 TATGCTGTACGTC-GGG-ATA-CACACTGTGACTGCA 34\n",
            "                  0 -|||||-||||||-|||-|-|-|||||--|||||||| 37\n",
            "query             0 -ATGCT-TACGTCAGGGGA-AACACAC--TGACTGCA 32\n",
            "\n",
            "alignment score: 29.0\n",
            "target            0 TATGCTGTACGTC-GG-GATA-CACACTGTGACTGCA 34\n",
            "                  0 -|||||-||||||-||-||-|-|||||--|||||||| 37\n",
            "query             0 -ATGCT-TACGTCAGGGGA-AACACAC--TGACTGCA 32\n",
            "\n",
            "alignment score: 29.0\n",
            "target            0 TATGCTGTACGTC-G-GGATA-CACACTGTGACTGCA 34\n",
            "                  0 -|||||-||||||-|-|||-|-|||||--|||||||| 37\n",
            "query             0 -ATGCT-TACGTCAGGGGA-AACACAC--TGACTGCA 32\n",
            "\n",
            "alignment score: 29.0\n",
            "target            0 TATGCTGTACGTC--GGGATA-CACACTGTGACTGCA 34\n",
            "                  0 -|||||-||||||--||||-|-|||||--|||||||| 37\n",
            "query             0 -ATGCT-TACGTCAGGGGA-AACACAC--TGACTGCA 32\n",
            "\n",
            "alignment score: 29.0\n",
            "target            0 TATGCTGTACGTC-GGG-AT-ACACACTGTGACTGCA 34\n",
            "                  0 -|||||-||||||-|||-|--||||||--|||||||| 37\n",
            "query             0 -ATGCT-TACGTCAGGGGA-AACACAC--TGACTGCA 32\n",
            "\n",
            "alignment score: 29.0\n",
            "target            0 TATGCTGTACGTC-GG-GAT-ACACACTGTGACTGCA 34\n",
            "                  0 -|||||-||||||-||-||--||||||--|||||||| 37\n",
            "query             0 -ATGCT-TACGTCAGGGGA-AACACAC--TGACTGCA 32\n",
            "\n",
            "alignment score: 29.0\n",
            "target            0 TATGCTGTACGTC-G-GGAT-ACACACTGTGACTGCA 34\n",
            "                  0 -|||||-||||||-|-|||--||||||--|||||||| 37\n",
            "query             0 -ATGCT-TACGTCAGGGGA-AACACAC--TGACTGCA 32\n",
            "\n",
            "alignment score: 29.0\n",
            "target            0 TATGCTGTACGTC--GGGAT-ACACACTGTGACTGCA 34\n",
            "                  0 -|||||-||||||--||||--||||||--|||||||| 37\n",
            "query             0 -ATGCT-TACGTCAGGGGA-AACACAC--TGACTGCA 32\n",
            "\n",
            "alignment score: 29.0\n",
            "target            0 TATGCTGTACGTC-GGG-A-TACACACTGTGACTGCA 34\n",
            "                  0 -|||||-||||||-|||-|--||||||--|||||||| 37\n",
            "query             0 -ATGCT-TACGTCAGGGGAA-ACACAC--TGACTGCA 32\n",
            "\n",
            "alignment score: 29.0\n",
            "target            0 TATGCTGTACGTC-GG-GA-TACACACTGTGACTGCA 34\n",
            "                  0 -|||||-||||||-||-||--||||||--|||||||| 37\n",
            "query             0 -ATGCT-TACGTCAGGGGAA-ACACAC--TGACTGCA 32\n",
            "\n",
            "alignment score: 29.0\n",
            "target            0 TATGCTGTACGTC-G-GGA-TACACACTGTGACTGCA 34\n",
            "                  0 -|||||-||||||-|-|||--||||||--|||||||| 37\n",
            "query             0 -ATGCT-TACGTCAGGGGAA-ACACAC--TGACTGCA 32\n",
            "\n",
            "alignment score: 29.0\n",
            "target            0 TATGCTGTACGTC--GGGA-TACACACTGTGACTGCA 34\n",
            "                  0 -|||||-||||||--||||--||||||--|||||||| 37\n",
            "query             0 -ATGCT-TACGTCAGGGGAA-ACACAC--TGACTGCA 32\n",
            "\n",
            "alignment score: 29.0\n",
            "target            0 TATGCTGTACGTC-GGG--ATACACACTGTGACTGCA 34\n",
            "                  0 -|||||-||||||-|||--|-||||||--|||||||| 37\n",
            "query             0 -ATGCT-TACGTCAGGGGAA-ACACAC--TGACTGCA 32\n",
            "\n",
            "alignment score: 29.0\n",
            "target            0 TATGCTGTACGTC-GG-G-ATACACACTGTGACTGCA 34\n",
            "                  0 -|||||-||||||-||-|-|-||||||--|||||||| 37\n",
            "query             0 -ATGCT-TACGTCAGGGGAA-ACACAC--TGACTGCA 32\n",
            "\n",
            "alignment score: 29.0\n",
            "target            0 TATGCTGTACGTC-G-GG-ATACACACTGTGACTGCA 34\n",
            "                  0 -|||||-||||||-|-||-|-||||||--|||||||| 37\n",
            "query             0 -ATGCT-TACGTCAGGGGAA-ACACAC--TGACTGCA 32\n",
            "\n",
            "alignment score: 29.0\n",
            "target            0 TATGCTGTACGTC--GGG-ATACACACTGTGACTGCA 34\n",
            "                  0 -|||||-||||||--|||-|-||||||--|||||||| 37\n",
            "query             0 -ATGCT-TACGTCAGGGGAA-ACACAC--TGACTGCA 32\n",
            "\n",
            "alignment score: 29.0\n",
            "target            0 TATGCTGTACGTC-GGG-ATACACACTGTGACTGCA 34\n",
            "                  0 -|||||-||||||-|||-|.||||||--|||||||| 36\n",
            "query             0 -ATGCT-TACGTCAGGGGAAACACAC--TGACTGCA 32\n",
            "\n",
            "alignment score: 29.0\n",
            "target            0 TATGCTGTACGTC-GG-GATACACACTGTGACTGCA 34\n",
            "                  0 -|||||-||||||-||-||.||||||--|||||||| 36\n",
            "query             0 -ATGCT-TACGTCAGGGGAAACACAC--TGACTGCA 32\n",
            "\n",
            "alignment score: 29.0\n",
            "target            0 TATGCTGTACGTC-G-GGATACACACTGTGACTGCA 34\n",
            "                  0 -|||||-||||||-|-|||.||||||--|||||||| 36\n",
            "query             0 -ATGCT-TACGTCAGGGGAAACACAC--TGACTGCA 32\n",
            "\n",
            "alignment score: 29.0\n",
            "target            0 TATGCTGTACGTC--GGGATACACACTGTGACTGCA 34\n",
            "                  0 -|||||-||||||--||||.||||||--|||||||| 36\n",
            "query             0 -ATGCT-TACGTCAGGGGAAACACAC--TGACTGCA 32\n",
            "\n"
          ]
        }
      ],
      "source": [
        "from Bio import Align\n",
        "from Bio.Seq import Seq\n",
        "\n",
        "# Define two DNA sequences - Note that this is just a very simplified version of the sequence file input from above\n",
        "seq1 = Seq(\"TATGCTGTACGTCGGGATACACACTGTGACTGCA\")\n",
        "seq2 = Seq(\"ATGCTTACGTCAGGGGAAACACACTGACTGCA\")\n",
        "\n",
        "aligner = Align.PairwiseAligner()\n",
        "\n",
        "# Perform pairwise alignment\n",
        "alignments = aligner.align(seq1, seq2)\n",
        "\n",
        "for a in alignments:\n",
        "    print(\"alignment score:\", a.score)\n",
        "    print(a)\n",
        "\n"
      ]
    },
    {
      "cell_type": "markdown",
      "metadata": {
        "id": "EAeyTtLiW4Vf"
      },
      "source": [
        "It actually has more data in that object than we just saw and many modifiable variables. This is a simple object but they can grow to contain a huge amount of parameters and variables.\n",
        "\n",
        "## Pyhlogenetics\n",
        "\n",
        "Lets look at a phylogenetic example and draw a tree:"
      ]
    },
    {
      "cell_type": "code",
      "execution_count": 67,
      "metadata": {
        "colab": {
          "base_uri": "https://localhost:8080/"
        },
        "id": "i1JXyodLVFn8",
        "outputId": "83ef61f5-14b8-4098-fb49-836f2ac7dde6"
      },
      "outputs": [
        {
          "output_type": "stream",
          "name": "stdout",
          "text": [
            "                                       _________ Human\n",
            "                         _____________|\n",
            "                    ____|             |_________ Chimpanzee\n",
            "                   |    |\n",
            "  _________________|    |_______________________ Gorilla\n",
            " |                 |\n",
            " |                 |____________________________ Orangutan\n",
            "_|\n",
            " |                                               __________________ Rhesus\n",
            " |                                 _____________|\n",
            " |                                |             |__________________ Baboon\n",
            " |________________________________|\n",
            "                                  |         _______________________ Marmoset\n",
            "                                  |________|\n",
            "                                           |_______________________ Tarsier\n",
            "\n"
          ]
        }
      ],
      "source": [
        "from Bio import Phylo\n",
        "\n",
        "# Read a Newick tree file\n",
        "tree = Phylo.read(\"/content/primates.nwk\", \"newick\")\n",
        "\n",
        "# Print tree\n",
        "Phylo.draw_ascii(tree)"
      ]
    },
    {
      "cell_type": "markdown",
      "metadata": {
        "id": "g9MIERxaXSA-"
      },
      "source": [
        "Really, I like this module just because it's cool to see a tree represented so cleanly, but also shows how simple it is to handle data if there is a module that already understands the format.\n",
        "\n",
        "But be sure to note, the format of this data object is very different to the sequence object from the last example. Modules such as Biopython are very varied behind the scenes with complex classes, but can be interacted with simply."
      ]
    },
    {
      "cell_type": "code",
      "execution_count": 68,
      "metadata": {
        "colab": {
          "base_uri": "https://localhost:8080/"
        },
        "id": "E6gZhQirWzU-",
        "outputId": "27d1f9ba-2b14-4d9f-9176-412dd3be69f6"
      },
      "outputs": [
        {
          "output_type": "stream",
          "name": "stdout",
          "text": [
            "Tree(rooted=False, weight=1.0)\n",
            "    Clade()\n",
            "        Clade(branch_length=0.4)\n",
            "            Clade(branch_length=0.1)\n",
            "                Clade(branch_length=0.3)\n",
            "                    Clade(branch_length=0.2, name='Human')\n",
            "                    Clade(branch_length=0.2, name='Chimpanzee')\n",
            "                Clade(branch_length=0.5, name='Gorilla')\n",
            "            Clade(branch_length=0.6, name='Orangutan')\n",
            "        Clade(branch_length=0.7)\n",
            "            Clade(branch_length=0.3)\n",
            "                Clade(branch_length=0.4, name='Rhesus')\n",
            "                Clade(branch_length=0.4, name='Baboon')\n",
            "            Clade(branch_length=0.2)\n",
            "                Clade(branch_length=0.5, name='Marmoset')\n",
            "                Clade(branch_length=0.5, name='Tarsier')\n"
          ]
        }
      ],
      "source": [
        "print(tree)"
      ]
    },
    {
      "cell_type": "markdown",
      "metadata": {
        "id": "bAL4Zu7xYxgR"
      },
      "source": [
        "Before we move on lets draw it with matplotlib and also use the ```.common_ancestor()``` function that comes with the phylo module."
      ]
    },
    {
      "cell_type": "code",
      "execution_count": 69,
      "metadata": {
        "id": "UiFxQQNjYdjw",
        "outputId": "6d60f028-c7a4-49fb-f2e9-d276c8e38f37",
        "colab": {
          "base_uri": "https://localhost:8080/",
          "height": 449
        }
      },
      "outputs": [
        {
          "output_type": "display_data",
          "data": {
            "text/plain": [
              "<Figure size 640x480 with 1 Axes>"
            ],
            "image/png": "[encoded data removed]"
          },
          "metadata": {}
        }
      ],
      "source": [
        "from Bio import Phylo\n",
        "\n",
        "# Read a Newick tree file\n",
        "tree = Phylo.read(\"/content/primates.nwk\", \"newick\")\n",
        "tree = tree.as_phyloxml()\n",
        "\n",
        "# Set labeled nodes\n",
        "mcra = tree.common_ancestor({\"name\": \"Human\"}, {\"name\": \"Gorilla\"})\n",
        "mcra.color = \"red\"\n",
        "\n",
        "Phylo.draw(tree)"
      ]
    },
    {
      "cell_type": "markdown",
      "metadata": {
        "id": "-a-r5D6wn0O0"
      },
      "source": [
        "<details>\n",
        "<summary>Honestly, I just think it's neat!</summary>\n",
        "\n",
        "![neat](https://github.com/passdan/PracticalPythonProgrammingForBiologists/blob/main/Day3/neat.png?raw=1)\n",
        "\n",
        "</details>"
      ]
    },
    {
      "cell_type": "markdown",
      "metadata": {
        "id": "vRvaGwue-yjL"
      },
      "source": [
        "### Alignment into Phylogenetics example\n",
        "\n",
        "Doing a larger multiple sequence alignment and putting it into a tree takes more steps but is quite effective! Here's just a demonstration from our CO1 genes above."
      ]
    },
    {
      "cell_type": "code",
      "execution_count": 70,
      "metadata": {
        "id": "q0hZDWEv-yjL",
        "outputId": "4b5dd6e4-4cab-4c91-d810-ef20efcb5f5b",
        "colab": {
          "base_uri": "https://localhost:8080/",
          "height": 628
        }
      },
      "outputs": [
        {
          "output_type": "stream",
          "name": "stdout",
          "text": [
            "Alignment with 9 rows and 700 columns\n",
            "AATCATAAAGATATTGGTACTTTATATTTAATTTTTAGTGCTTT...CTG OQ616982.1\n",
            "TTTCAAGATCCTGCAACACCAGTTATGGAAGGTATTATAAACTT...TAG OQ605417.1\n",
            "TTTCAAGATCCTGCAACACCAGTTATGGAAGGTATTATAAACTT...TAG OQ605416.1\n",
            "TTTCAAGATCCTGCAACACCAGTTATGGAAGGTATTATAAACTT...TAG OQ605415.1\n",
            "TTTCAAGATCCTGCAACACCAGTTATGGAAGGTATTATAAACTT...TAG OQ605414.1\n",
            "TTTCAAGATCCTGCAACACCAGTTATGGAAGGTATTATAAACTT...GCT OQ605413.1\n",
            "GGCAATTAGGTTTTCAAGATCCAGCAACTCCTGTTATGGAAGGT...TGG OQ605412.1\n",
            "GCAATTAGGTTTTCAAGATCCCGCAACTCCAGTTATGGAAGGTA...AAT OQ605411.1\n",
            "GCAATTAGGTTTTCAAGATCCAGCAACTCCAGTTATGGAAGGTA...ACT OQ605410.1\n"
          ]
        },
        {
          "output_type": "display_data",
          "data": {
            "text/plain": [
              "<Figure size 640x480 with 1 Axes>"
            ],
            "image/png": "[encoded data removed]"
          },
          "metadata": {}
        }
      ],
      "source": [
        "from Bio import SeqIO\n",
        "from Bio.Align import MultipleSeqAlignment\n",
        "from Bio import Phylo\n",
        "from Bio.Phylo.TreeConstruction import DistanceCalculator, DistanceTreeConstructor\n",
        "\n",
        "All_co1s = []\n",
        "for seq_record in SeqIO.parse(\"/content/co1_sequences.fasta\", \"fasta\"):\n",
        "    All_co1s.append(seq_record[:700])\n",
        "\n",
        "# Align sequences (Really basic - in reality use an external program i.e. clustalW)\n",
        "aligned_seqs = MultipleSeqAlignment(All_co1s)\n",
        "print(aligned_seqs)\n",
        "\n",
        "# Calculate the distance matrix\n",
        "calculator = DistanceCalculator('identity')\n",
        "dm = calculator.get_distance(aligned_seqs)\n",
        "\n",
        "# Construct the phylogenetic tree using UPGMA\n",
        "constructor = DistanceTreeConstructor()\n",
        "tree = constructor.upgma(dm)\n",
        "\n",
        "# Hide internal labels\n",
        "for clade in tree.find_clades():\n",
        "    if not clade.is_terminal():\n",
        "        clade.name = None\n",
        "\n",
        "# Draw the tree\n",
        "Phylo.draw(tree)"
      ]
    },
    {
      "cell_type": "markdown",
      "metadata": {
        "id": "Vtjzl8Ls-yjL"
      },
      "source": [
        "If wanting to use an external alignment program such as clustalW then can use this method to call, and read the outputs then continue the code (clustalW is required to be installed in your system first!)"
      ]
    },
    {
      "cell_type": "code",
      "execution_count": 71,
      "metadata": {
        "id": "N3xBPftU-yjM",
        "outputId": "35b3a2ab-a4e2-4053-976b-61f25f29e8d5",
        "colab": {
          "base_uri": "https://localhost:8080/",
          "height": 216
        }
      },
      "outputs": [
        {
          "output_type": "error",
          "ename": "NameError",
          "evalue": "name 'ClustalwCommandline' is not defined",
          "traceback": [
            "\u001b[0;31m---------------------------------------------------------------------------\u001b[0m",
            "\u001b[0;31mNameError\u001b[0m                                 Traceback (most recent call last)",
            "\u001b[0;32m<ipython-input-71-1afe67e64c82>\u001b[0m in \u001b[0;36m<cell line: 0>\u001b[0;34m()\u001b[0m\n\u001b[1;32m      1\u001b[0m \u001b[0;31m# Step 2: Run ClustalW alignment\u001b[0m\u001b[0;34m\u001b[0m\u001b[0;34m\u001b[0m\u001b[0m\n\u001b[0;32m----> 2\u001b[0;31m \u001b[0mclustalw_cline\u001b[0m \u001b[0;34m=\u001b[0m \u001b[0mClustalwCommandline\u001b[0m\u001b[0;34m(\u001b[0m\u001b[0mclustalw_exe\u001b[0m\u001b[0;34m,\u001b[0m \u001b[0minfile\u001b[0m\u001b[0;34m=\u001b[0m\u001b[0min_file\u001b[0m\u001b[0;34m)\u001b[0m\u001b[0;34m\u001b[0m\u001b[0;34m\u001b[0m\u001b[0m\n\u001b[0m\u001b[1;32m      3\u001b[0m \u001b[0mstdout\u001b[0m\u001b[0;34m,\u001b[0m \u001b[0mstderr\u001b[0m \u001b[0;34m=\u001b[0m \u001b[0mclustalw_cline\u001b[0m\u001b[0;34m(\u001b[0m\u001b[0;34m)\u001b[0m\u001b[0;34m\u001b[0m\u001b[0;34m\u001b[0m\u001b[0m\n\u001b[1;32m      4\u001b[0m \u001b[0;34m\u001b[0m\u001b[0m\n\u001b[1;32m      5\u001b[0m \u001b[0;31m# Step 3: Read the aligned sequences\u001b[0m\u001b[0;34m\u001b[0m\u001b[0;34m\u001b[0m\u001b[0m\n",
            "\u001b[0;31mNameError\u001b[0m: name 'ClustalwCommandline' is not defined"
          ]
        }
      ],
      "source": [
        "# Step 2: Run ClustalW alignment\n",
        "clustalw_cline = ClustalwCommandline(clustalw_exe, infile=in_file)\n",
        "stdout, stderr = clustalw_cline()\n",
        "\n",
        "# Step 3: Read the aligned sequences\n",
        "aligned_seqs = AlignIO.read(\"example.aln\", \"clustal\")  # The output file generated by ClustalW\n"
      ]
    }
  ],
  "metadata": {
    "colab": {
      "provenance": []
    },
    "kernelspec": {
      "display_name": "Python 3",
      "name": "python3"
    },
    "language_info": {
      "codemirror_mode": {
        "name": "ipython",
        "version": 3
      },
      "file_extension": ".py",
      "mimetype": "text/x-python",
      "name": "python",
      "nbconvert_exporter": "python",
      "pygments_lexer": "ipython3",
      "version": "3.11.5"
    }
  },
  "nbformat": 4,
  "nbformat_minor": 0
}